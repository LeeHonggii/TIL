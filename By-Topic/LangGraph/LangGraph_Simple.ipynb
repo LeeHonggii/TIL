{
 "cells": [
  {
   "cell_type": "markdown",
   "metadata": {},
   "source": [
    "# 🚀 LangGraph QuickStart - 입문자를 위한 실전 튜토리얼\n",
    "\n",
    "## 🎯 목표와 대상\n",
    "\n",
    "이 노트북은 **LangGraph**를 처음 접하는 분을 위한 **실전 중심 튜토리얼** 입니다.\n",
    "\n",
    "### 📋 이 튜토리얼에서 만들 기능\n",
    "\n",
    "- **🧠 기억력**: 이전 대화를 유지하는 상태 관리\n",
    "- **🔍 검색 연동**: 외부 검색 도구로 최신 정보 확보\n",
    "- **🙋 인간 개입**: 승인 기반 Human-in-the-Loop\n",
    "- **⪪ 상태 이력**: 체크포인트 기반 롤백 및 재실행\n",
    "\n",
    "### 🗺️ 진행 로드맵\n",
    "\n",
    "- **단계 1: 기본 챗봇 구축** – StateGraph, 메시지 흐름\n",
    "- **단계 2: 도구 통합** – Tool 바인딩, 조건부 라우팅\n",
    "- **단계 3: 메모리 추가** – 체크포인트, Thread ID\n",
    "- **단계 4: Human-in-the-Loop** – interrupt, 승인 흐름\n",
    "- **단계 5: 상태 커스터마이징** – 커스텀 State, Tool 업데이트\n",
    "- **단계 6: 상태 이력 관리** – 이력 탐색, 롤백, 재실행"
   ]
  },
  {
   "cell_type": "markdown",
   "metadata": {},
   "source": [
    "## 🛠️ 환경 설정\n",
    "\n",
    "### 준비 항목\n",
    "\n",
    "1. **🔑 API 키 설정** – OpenAI, Tavily, (선택) LangSmith\n",
    "2. **📊 추적 설정** – LangSmith로 실행 추적 (선택)"
   ]
  },
  {
   "cell_type": "code",
   "execution_count": null,
   "metadata": {},
   "outputs": [],
   "source": [
    "# API KEY를 환경변수로 관리하기 위한 설정 파일\n",
    "from dotenv import load_dotenv\n",
    "\n",
    "# API KEY 정보로드\n",
    "load_dotenv(override=True)"
   ]
  },
  {
   "cell_type": "code",
   "execution_count": null,
   "metadata": {},
   "outputs": [],
   "source": [
    "# LangSmith 추적을 설정합니다. https://smith.langchain.com\n",
    "# from langchain_teddynote import logging\n",
    "\n",
    "# 프로젝트 이름을 입력합니다.\n",
    "# logging.langsmith(\"LangGraph-Tutorial\")"
   ]
  },
  {
   "cell_type": "markdown",
   "metadata": {},
   "source": [
    "---\n",
    "\n",
    "# Part 1: 기본 챗봇 구축 🤖\n",
    "\n",
    "## 🎯 목적\n",
    "\n",
    "가장 단순한 형태의 **메시지 기반 챗봇**을 구성합니다.\n",
    "\n",
    "### 구성 요소\n",
    "\n",
    "- **🗺️ StateGraph**: 전체 흐름 정의\n",
    "- **📝 State**: 메시지 저장 구조\n",
    "- **🔨 Node**: 처리 함수 (LLM 호출)\n",
    "- **🛤️ Edge**: 실행 경로 연결\n",
    "- **⚙️ Compile/Invoke**: 실행 준비 및 호출"
   ]
  },
  {
   "cell_type": "code",
   "execution_count": null,
   "metadata": {},
   "outputs": [],
   "source": [
    "from typing import Annotated\n",
    "from typing_extensions import TypedDict\n",
    "from langgraph.graph import StateGraph, START, END\n",
    "from langgraph.graph.message import add_messages\n",
    "\n",
    "\n",
    "# State 정의: 챗봇의 상태를 나타내는 타입\n",
    "class State(TypedDict):\n",
    "    \"\"\"챗봇의 상태를 정의하는 타입\n",
    "    \n",
    "    messages: 대화 메시지 리스트\n",
    "    - add_messages 함수를 통해 새 메시지가 추가됨 (덮어쓰기가 아닌 추가)\n",
    "    \"\"\"\n",
    "    messages: Annotated[list, add_messages]\n",
    "\n",
    "\n",
    "# StateGraph 생성\n",
    "graph_builder = StateGraph(State)\n",
    "\n",
    "print(\"✅ StateGraph 생성 완료!\")\n",
    "print(\"📌 State는 messages 키를 가지며, add_messages 리듀서를 사용합니다.\")"
   ]
  },
  {
   "cell_type": "markdown",
   "metadata": {},
   "source": [
    "### 🧠 LLM 선택 및 설정\n",
    "\n",
    "실습에서는 **GPT-4o**를 사용합니다."
   ]
  },
  {
   "cell_type": "code",
   "execution_count": null,
   "metadata": {},
   "outputs": [],
   "source": [
    "# LLM 선택\n",
    "from langchain_openai import ChatOpenAI\n",
    "\n",
    "# OpenAI 모델 사용\n",
    "llm = ChatOpenAI(model=\"gpt-4o\", temperature=0)"
   ]
  },
  {
   "cell_type": "markdown",
   "metadata": {},
   "source": [
    "### 🔨 챗봇 노드 추가\n",
    "\n",
    "대화 메시지를 입력받아 LLM에 전달하고, 응답 메시지를 상태에 추가합니다."
   ]
  },
  {
   "cell_type": "code",
   "execution_count": null,
   "metadata": {},
   "outputs": [],
   "source": [
    "def chatbot(state: State):\n",
    "    \"\"\"챗봇 노드 함수\n",
    "    \n",
    "    현재 상태의 메시지를 받아 LLM에 전달하고,\n",
    "    응답을 새 메시지로 추가하여 반환합니다.\n",
    "    \"\"\"\n",
    "    # LLM을 호출하여 응답 생성\n",
    "    response = llm.invoke(state[\"messages\"])\n",
    "    \n",
    "    # 응답을 메시지 리스트에 추가하여 반환\n",
    "    return {\"messages\": [response]}\n",
    "\n",
    "\n",
    "# 그래프에 노드 추가\n",
    "# 첫 번째 인자: 노드의 고유 이름\n",
    "# 두 번째 인자: 노드가 사용될 때 호출될 함수\n",
    "graph_builder.add_node(\"chatbot\", chatbot)"
   ]
  },
  {
   "cell_type": "markdown",
   "metadata": {},
   "source": [
    "### 🚪 진입점과 종료점 설정\n",
    "\n",
    "실행 경로를 명확히 정의합니다.\n",
    "\n",
    "- **START**: 입력 수신\n",
    "- **chatbot**: LLM 호출 및 응답 생성\n",
    "- **END**: 결과 반환"
   ]
  },
  {
   "cell_type": "code",
   "execution_count": null,
   "metadata": {},
   "outputs": [],
   "source": [
    "# 진입점: 그래프 실행이 시작되는 지점\n",
    "graph_builder.add_edge(START, \"chatbot\")\n",
    "\n",
    "# 종료점: 그래프 실행이 끝나는 지점\n",
    "graph_builder.add_edge(\"chatbot\", END)\n",
    "\n",
    "print(\"✅ 진입점과 종료점 설정 완료!\")\n",
    "print(\"📌 실행 흐름: START → chatbot → END\")"
   ]
  },
  {
   "cell_type": "markdown",
   "metadata": {},
   "source": [
    "### ⚡ 그래프 컴파일"
   ]
  },
  {
   "cell_type": "code",
   "execution_count": null,
   "metadata": {},
   "outputs": [],
   "source": [
    "# 그래프 컴파일\n",
    "graph = graph_builder.compile()\n",
    "\n",
    "print(\"✅ 그래프 컴파일 완료!\")"
   ]
  },
  {
   "cell_type": "markdown",
   "metadata": {},
   "source": [
    "### 👀 그래프 시각화"
   ]
  },
  {
   "cell_type": "code",
   "execution_count": null,
   "metadata": {},
   "outputs": [],
   "source": [
    "from IPython.display import Image, display\n",
    "\n",
    "try:\n",
    "    # 그래프를 Mermaid 형식으로 시각화\n",
    "    display(Image(graph.get_graph().draw_mermaid_png()))\n",
    "except Exception as e:\n",
    "    print(f\"시각화 실패: {e}\")\n",
    "    print(\"Graphviz가 설치되어 있지 않을 수 있습니다.\")"
   ]
  },
  {
   "cell_type": "markdown",
   "metadata": {},
   "source": [
    "### 🎉 챗봇 실행"
   ]
  },
  {
   "cell_type": "code",
   "execution_count": null,
   "metadata": {},
   "outputs": [],
   "source": [
    "from langchain_core.messages import HumanMessage\n",
    "\n",
    "# 질문 입력\n",
    "user_input = \"안녕하세요! LangGraph에 대해 알려주세요.\"\n",
    "\n",
    "# 입력 메시지 준비\n",
    "inputs = {\n",
    "    \"messages\": [HumanMessage(content=user_input)]\n",
    "}\n",
    "\n",
    "# 그래프 실행\n",
    "result = graph.invoke(inputs)\n",
    "\n",
    "# 결과 출력\n",
    "print(f\"User: {user_input}\\n\")\n",
    "print(f\"Assistant: {result['messages'][-1].content}\")"
   ]
  },
  {
   "cell_type": "markdown",
   "metadata": {},
   "source": [
    "---\n",
    "\n",
    "# Part 2: 도구(Tools) 추가 🔧\n",
    "\n",
    "## 🎯 목적\n",
    "실시간 정보가 필요한 요청에 대응하기 위해 외부 검색 도구를 통합합니다.\n",
    "\n",
    "### 핵심 개념\n",
    "- **Tool Binding**: LLM이 도구를 호출할 수 있도록 연결\n",
    "- **Tool Node**: 외부 API 호출을 담당하는 노드\n",
    "- **Conditional Edges**: 도구 사용 여부를 자동으로 분기"
   ]
  },
  {
   "cell_type": "code",
   "execution_count": null,
   "metadata": {},
   "outputs": [],
   "source": [
    "# 간단한 도구 예시\n",
    "from langchain_core.tools import tool\n",
    "\n",
    "@tool\n",
    "def add(a: int, b: int) -> int:\n",
    "    \"\"\"두 숫자를 더합니다.\"\"\"\n",
    "    return a + b\n",
    "\n",
    "@tool \n",
    "def multiply(a: int, b: int) -> int:\n",
    "    \"\"\"두 숫자를 곱합니다.\"\"\"\n",
    "    return a * b\n",
    "\n",
    "# 도구 리스트\n",
    "tools = [add, multiply]\n",
    "\n",
    "print(f\"✅ {len(tools)}개의 도구가 준비되었습니다: {[t.name for t in tools]}\")"
   ]
  },
  {
   "cell_type": "markdown",
   "metadata": {},
   "source": [
    "### 🗺️ 도구 사용 그래프 구성\n",
    "\n",
    "기본 흐름에 도구 호출 경로를 추가합니다.\n",
    "\n",
    "- 기존: 사용자 → chatbot → END\n",
    "- 변경: 사용자 → chatbot ⇄ tools → chatbot → END"
   ]
  },
  {
   "cell_type": "code",
   "execution_count": null,
   "metadata": {},
   "outputs": [],
   "source": [
    "from langgraph.prebuilt import ToolNode, tools_condition\n",
    "from typing import Annotated\n",
    "from typing_extensions import TypedDict\n",
    "from langgraph.graph import StateGraph, START, END\n",
    "from langgraph.graph.message import add_messages\n",
    "\n",
    "\n",
    "# State 정의 (동일)\n",
    "class State(TypedDict):\n",
    "    messages: Annotated[list, add_messages]\n",
    "\n",
    "\n",
    "# 새로운 그래프 빌더 생성\n",
    "builder = StateGraph(State)\n",
    "\n",
    "# LLM에 도구 바인딩 - LLM이 도구를 사용할 수 있도록 설정\n",
    "llm_with_tools = llm.bind_tools(tools)\n",
    "\n",
    "\n",
    "def chatbot(state: State):\n",
    "    \"\"\"도구를 사용할 수 있는 챗봇 노드\"\"\"\n",
    "    # 도구가 바인딩된 LLM 호출\n",
    "    response = llm_with_tools.invoke(state[\"messages\"])\n",
    "    return {\"messages\": [response]}\n",
    "\n",
    "\n",
    "# 노드 추가\n",
    "builder.add_node(\"chatbot\", chatbot)\n",
    "\n",
    "# ToolNode 추가 - 도구를 실행하는 노드\n",
    "tool_node = ToolNode(tools=tools)\n",
    "builder.add_node(\"tools\", tool_node)"
   ]
  },
  {
   "cell_type": "markdown",
   "metadata": {},
   "source": [
    "### 🚦 조건부 라우팅(Conditional Edges)\n",
    "\n",
    "요청에 따라 자동으로 경로를 선택합니다.\n",
    "\n",
    "- **도구 호출 필요**: \"tools\" 로 이동\n",
    "- **내부 처리 가능**: 종료\n",
    "\n",
    "핵심: `tools_condition` 이 마지막 AI 메시지의 `tool_calls` 존재 여부를 확인합니다."
   ]
  },
  {
   "cell_type": "code",
   "execution_count": null,
   "metadata": {},
   "outputs": [],
   "source": [
    "# 조건부 엣지 추가\n",
    "# tools_condition은 메시지에 tool_calls가 있으면 \"tools\"로,\n",
    "# 없으면 END로 라우팅합니다\n",
    "builder.add_conditional_edges(\n",
    "    \"chatbot\",\n",
    "    tools_condition,  # 사전 정의된 조건 함수 사용\n",
    ")\n",
    "\n",
    "# 도구 실행 후 다시 챗봇으로 돌아가기\n",
    "builder.add_edge(\"tools\", \"chatbot\")\n",
    "\n",
    "# 시작점 설정\n",
    "builder.add_edge(START, \"chatbot\")\n",
    "\n",
    "# 그래프 컴파일\n",
    "graph_with_tools = builder.compile()\n",
    "\n",
    "print(\"✅ 도구가 포함된 그래프 구성 완료!\")"
   ]
  },
  {
   "cell_type": "markdown",
   "metadata": {},
   "source": [
    "### 👀 업그레이드 그래프 시각화"
   ]
  },
  {
   "cell_type": "code",
   "execution_count": null,
   "metadata": {},
   "outputs": [],
   "source": [
    "try:\n",
    "    display(Image(graph_with_tools.get_graph().draw_mermaid_png()))\n",
    "except Exception as e:\n",
    "    print(f\"시각화 실패: {e}\")"
   ]
  },
  {
   "cell_type": "markdown",
   "metadata": {},
   "source": [
    "### 🚀 도구 사용 테스트"
   ]
  },
  {
   "cell_type": "code",
   "execution_count": null,
   "metadata": {},
   "outputs": [],
   "source": [
    "# 도구를 사용하는 질문\n",
    "test_input = \"25 더하기 17은 얼마인가요? 그리고 그 결과에 3을 곱하면?\"\n",
    "\n",
    "inputs = {\n",
    "    \"messages\": [HumanMessage(content=test_input)]\n",
    "}\n",
    "\n",
    "# 그래프 실행\n",
    "print(f\"User: {test_input}\\n\")\n",
    "print(\"처리 과정:\")\n",
    "print(\"-\" * 50)\n",
    "\n",
    "# 스트리밍으로 실행 과정 확인\n",
    "for event in graph_with_tools.stream(inputs):\n",
    "    for node_name, output in event.items():\n",
    "        if node_name == \"chatbot\":\n",
    "            message = output[\"messages\"][0]\n",
    "            if hasattr(message, \"tool_calls\") and message.tool_calls:\n",
    "                print(f\"🤖 챗봇: 도구 호출 요청\")\n",
    "                for tool_call in message.tool_calls:\n",
    "                    print(f\"   - {tool_call['name']}({tool_call['args']})\")\n",
    "            else:\n",
    "                print(f\"🤖 챗봇: {message.content}\")\n",
    "        elif node_name == \"tools\":\n",
    "            print(f\"🔧 도구 실행 결과:\")\n",
    "            for msg in output[\"messages\"]:\n",
    "                print(f\"   - {msg.content}\")\n",
    "        print(\"-\" * 50)"
   ]
  },
  {
   "cell_type": "markdown",
   "metadata": {},
   "source": [
    "## 📚 Part 2 요약\n",
    "\n",
    "### 학습한 내용\n",
    "1. **도구 정의**: `@tool` 데코레이터로 함수를 도구로 변환\n",
    "2. **도구 바인딩**: `llm.bind_tools()`로 LLM에 도구 연결\n",
    "3. **ToolNode**: 도구 실행을 담당하는 특수 노드\n",
    "4. **조건부 라우팅**: `tools_condition`으로 자동 분기\n",
    "5. **순환 구조**: 도구 → 챗봇 → 도구의 반복 가능\n",
    "\n",
    "### 실무 활용 예시\n",
    "- 실시간 데이터 조회 (날씨, 주가, 뉴스)\n",
    "- 계산 및 분석 도구 연동\n",
    "- 외부 API 호출 (검색, 번역, DB 조회)\n",
    "- 멀티스텝 작업 자동화"
   ]
  }
 ],
 "metadata": {
  "kernelspec": {
   "display_name": "Python 3",
   "language": "python",
   "name": "python3"
  },
  "language_info": {
   "codemirror_mode": {
    "name": "ipython",
    "version": 3
   },
   "file_extension": ".py",
   "mimetype": "text/x-python",
   "name": "python",
   "nbconvert_exporter": "python",
   "pygments_lexer": "ipython3",
   "version": "3.11.0"
  }
 },
 "nbformat": 4,
 "nbformat_minor": 4
}