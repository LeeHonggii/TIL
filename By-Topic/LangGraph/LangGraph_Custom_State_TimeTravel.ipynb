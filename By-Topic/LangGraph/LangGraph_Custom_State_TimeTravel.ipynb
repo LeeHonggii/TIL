{
 "cells": [
  {
   "cell_type": "markdown",
   "metadata": {},
   "source": [
    "# Part 5: 상태 커스터마이징 🎨\n",
    "\n",
    "## 🎯 목적\n",
    "메시지 외 업무 데이터까지 다루는 **커스텀 상태**와 **도구 기반 상태 업데이트**를 도입합니다.\n",
    "\n",
    "### 핵심 개념\n",
    "- **Custom State Fields**: 메시지 외 검토용/결과용 필드 추가\n",
    "- **State Updates from Tools**: 도구 결과로 상태 자동 갱신\n",
    "- **Manual State Updates**: 필요 시 수동으로 상태 수정\n",
    "\n",
    "### 아키텍처 패턴\n",
    "```\n",
    "사용자 입력 → 정보 수집(도구) → 임시 저장(State)\n",
    "             ↓\n",
    "           검토/수정 → 최종 결과(State)\n",
    "```"
   ]
  },
  {
   "cell_type": "code",
   "execution_count": null,
   "metadata": {},
   "outputs": [],
   "source": [
    "from typing import Annotated\n",
    "from typing_extensions import TypedDict\n",
    "from langchain_core.messages import ToolMessage\n",
    "from langchain_core.tools import InjectedToolCallId, tool\n",
    "from langgraph.types import Command, interrupt\n",
    "from langgraph.graph.message import add_messages\n",
    "\n",
    "\n",
    "# 확장된 State 정의\n",
    "class CustomState(TypedDict):\n",
    "    \"\"\"커스텀 필드가 추가된 상태\"\"\"\n",
    "    messages: Annotated[list, add_messages]\n",
    "    human_feedback: str  # 사람의 피드백\n",
    "\n",
    "\n",
    "print(\"✅ CustomState 정의 완료!\")"
   ]
  },
  {
   "cell_type": "markdown",
   "metadata": {},
   "source": [
    "### 상태 업데이트 도구\n",
    "\n",
    "도구 실행 결과를 `Command(update=...)` 로 상태에 반영하는 패턴을 사용합니다."
   ]
  },
  {
   "cell_type": "code",
   "execution_count": null,
   "metadata": {},
   "outputs": [],
   "source": [
    "@tool\n",
    "def human_review(\n",
    "    human_feedback: str, \n",
    "    tool_call_id: Annotated[str, InjectedToolCallId]\n",
    ") -> Command:\n",
    "    \"\"\"Request human review for information.\"\"\"\n",
    "    # 인간에게 검토 요청\n",
    "    human_response = interrupt(\n",
    "        {\"question\": \"이 정보가 맞나요?\", \"human_feedback\": human_feedback}\n",
    "    )\n",
    "    \n",
    "    feedback = human_response.get(\"human_feedback\", \"\")\n",
    "    \n",
    "    if feedback.strip() == \"\":\n",
    "        # 사용자가 AI의 답변에 동의하는 경우\n",
    "        return Command(\n",
    "            update={\n",
    "                \"messages\": [ToolMessage(\"확인됨\", tool_call_id=tool_call_id)]\n",
    "            }\n",
    "        )\n",
    "    else:\n",
    "        # 사용자가 수정사항을 제공한 경우\n",
    "        corrected_information = f\"# 사용자에 의해 수정된 피드백: {feedback}\"\n",
    "        return Command(\n",
    "            update={\n",
    "                \"messages\": [\n",
    "                    ToolMessage(corrected_information, tool_call_id=tool_call_id)\n",
    "                ],\n",
    "                \"human_feedback\": feedback  # 커스텀 필드 업데이트\n",
    "            }\n",
    "        )\n",
    "\n",
    "\n",
    "print(\"✅ 상태 업데이트 도구 정의 완료!\")"
   ]
  },
  {
   "cell_type": "markdown",
   "metadata": {},
   "source": [
    "### 커스텀 상태 그래프\n",
    "\n",
    "커스텀 필드를 포함한 `CustomState` 로 그래프를 구성하고, 도구를 통한 상태 업데이트 루프를 적용합니다."
   ]
  },
  {
   "cell_type": "code",
   "execution_count": null,
   "metadata": {},
   "outputs": [],
   "source": [
    "from langgraph.graph import StateGraph, START\n",
    "from langgraph.prebuilt import ToolNode, tools_condition\n",
    "from langgraph.checkpoint.memory import InMemorySaver\n",
    "from langchain_openai import ChatOpenAI\n",
    "\n",
    "# 도구 리스트\n",
    "tools_custom = [human_review]\n",
    "\n",
    "# 새로운 그래프 구성\n",
    "custom_graph_builder = StateGraph(CustomState)  # CustomState 사용\n",
    "\n",
    "# LLM에 도구 바인딩\n",
    "llm = ChatOpenAI(model=\"gpt-4o\", temperature=0)\n",
    "llm_with_custom_tools = llm.bind_tools(tools_custom)\n",
    "\n",
    "\n",
    "def chatbot_custom(state: CustomState):\n",
    "    \"\"\"커스텀 상태를 사용하는 챗봇\"\"\"\n",
    "    message = llm_with_custom_tools.invoke(state[\"messages\"])\n",
    "    \n",
    "    if hasattr(message, \"tool_calls\"):\n",
    "        assert len(message.tool_calls) <= 1\n",
    "    \n",
    "    return {\"messages\": [message]}\n",
    "\n",
    "\n",
    "# 노드와 엣지 추가\n",
    "custom_graph_builder.add_node(\"chatbot\", chatbot_custom)\n",
    "tool_node_custom = ToolNode(tools=tools_custom)\n",
    "custom_graph_builder.add_node(\"tools\", tool_node_custom)\n",
    "\n",
    "custom_graph_builder.add_conditional_edges(\"chatbot\", tools_condition)\n",
    "custom_graph_builder.add_edge(\"tools\", \"chatbot\")\n",
    "custom_graph_builder.add_edge(START, \"chatbot\")\n",
    "\n",
    "# 컴파일\n",
    "memory_custom = InMemorySaver()\n",
    "custom_graph = custom_graph_builder.compile(checkpointer=memory_custom)\n",
    "\n",
    "print(\"✅ 커스텀 상태 그래프 생성 완료!\")"
   ]
  },
  {
   "cell_type": "markdown",
   "metadata": {},
   "source": [
    "### 커스텀 상태 테스트\n",
    "\n",
    "`human_review` 도구 호출에서 interrupt 로 중단된 뒤, 재개 시 상태가 올바르게 갱신되는지 확인합니다."
   ]
  },
  {
   "cell_type": "code",
   "execution_count": null,
   "metadata": {},
   "outputs": [],
   "source": [
    "from langchain_core.messages import HumanMessage\n",
    "from langchain_core.runnables import RunnableConfig\n",
    "import uuid\n",
    "\n",
    "# 검토 요청하는 질문\n",
    "user_input = (\n",
    "    \"2024년 노벨 문학상 수상자가 누구인지 조사해주세요. \"\n",
    "    \"답을 찾으면 `human_review` 도구를 사용해서 검토를 요청하세요.\"\n",
    ")\n",
    "\n",
    "custom_config = RunnableConfig(configurable={\"thread_id\": str(uuid.uuid4())})\n",
    "\n",
    "print(f\"User: {user_input}\\n\")\n",
    "\n",
    "# 실행 (interrupt에서 중단될 것임)\n",
    "try:\n",
    "    result = custom_graph.invoke(\n",
    "        {\"messages\": [HumanMessage(content=user_input)]},\n",
    "        config=custom_config,\n",
    "    )\n",
    "except Exception as e:\n",
    "    print(f\"⏸️ 검토 요청으로 실행이 중단되었습니다\")"
   ]
  },
  {
   "cell_type": "code",
   "execution_count": null,
   "metadata": {},
   "outputs": [],
   "source": [
    "# AI가 작성한 내용 확인\n",
    "last_message = custom_graph.get_state(custom_config).values[\"messages\"][-1]\n",
    "print(\"AI가 검토 요청한 내용:\")\n",
    "print(\"-\" * 50)\n",
    "print(last_message.tool_calls[0][\"args\"][\"human_feedback\"])\n",
    "print(\"-\" * 50)"
   ]
  },
  {
   "cell_type": "code",
   "execution_count": null,
   "metadata": {},
   "outputs": [],
   "source": [
    "# 인간의 검토 응답으로 재개\n",
    "human_command = Command(\n",
    "    resume={\"human_feedback\": \"2024년 노벨 문학상 수상자는 대한민국의 한강 작가입니다.\"}\n",
    ")\n",
    "\n",
    "print(\"\\n💡 사람의 수정사항이 반영됩니다...\\n\")\n",
    "\n",
    "# 재개\n",
    "result = custom_graph.invoke(human_command, config=custom_config)\n",
    "print(f\"\\n[최종 응답]\\n{result['messages'][-1].content}\")"
   ]
  },
  {
   "cell_type": "markdown",
   "metadata": {},
   "source": [
    "---\n",
    "\n",
    "# Part 6: 상태 이력 관리 ⏰\n",
    "\n",
    "## 🎯 목적\n",
    "체크포인트 기반으로 상태를 저장/복원해 **롤백/재실행** 시나리오를 실습합니다.\n",
    "\n",
    "### 핵심 개념\n",
    "- **State History**: 상태 변경 이력 관리(추적/복원)\n",
    "- **Checkpoint ID**: 특정 시점 식별자\n",
    "- **Rollback**: 지정 시점으로 복원\n",
    "- **Resume**: 복원 상태에서 재실행\n",
    "\n",
    "### 기대 효과\n",
    "- **안전한 실험**, **디버깅 효율**, **A/B 테스트**, **안정성 향상**"
   ]
  },
  {
   "cell_type": "markdown",
   "metadata": {},
   "source": [
    "### 체크포인트 기반 그래프 구성\n",
    "\n",
    "상태 이력 확인과 롤백/재실행을 위한 최소 구성으로 시작합니다."
   ]
  },
  {
   "cell_type": "code",
   "execution_count": null,
   "metadata": {},
   "outputs": [],
   "source": [
    "from langgraph.graph import StateGraph\n",
    "from langgraph.prebuilt import ToolNode, tools_condition\n",
    "from langgraph.checkpoint.memory import InMemorySaver\n",
    "from langchain_core.tools import tool\n",
    "import random\n",
    "\n",
    "# 간단한 검색 도구 모의\n",
    "@tool\n",
    "def search(query: str) -> str:\n",
    "    \"\"\"Search for information.\"\"\"\n",
    "    # 실제로는 API 호출하지만, 여기서는 모의 결과 반환\n",
    "    results = [\n",
    "        \"LangGraph는 상태 기반 AI 애플리케이션 프레임워크입니다.\",\n",
    "        \"LangGraph는 LangChain 팀이 개발했습니다.\",\n",
    "        \"LangGraph는 그래프 구조로 워크플로우를 관리합니다.\"\n",
    "    ]\n",
    "    return random.choice(results)\n",
    "\n",
    "# 상태 관리 테스트를 위한 체크포인트 기반 그래프\n",
    "from typing import Annotated\n",
    "from typing_extensions import TypedDict\n",
    "from langgraph.graph.message import add_messages\n",
    "\n",
    "class State(TypedDict):\n",
    "    messages: Annotated[list, add_messages]\n",
    "\n",
    "graph_builder = StateGraph(State)\n",
    "\n",
    "# 도구와 LLM 설정\n",
    "tools = [search]\n",
    "llm_with_tools_tt = llm.bind_tools(tools)\n",
    "\n",
    "\n",
    "def chatbot_tt(state: State):\n",
    "    \"\"\"상태 관리 테스트용 챗봇\"\"\"\n",
    "    return {\"messages\": [llm_with_tools_tt.invoke(state[\"messages\"])]}\n",
    "\n",
    "\n",
    "# 그래프 구성\n",
    "graph_builder.add_node(\"chatbot\", chatbot_tt)\n",
    "tool_node_tt = ToolNode(tools=tools)\n",
    "graph_builder.add_node(\"tools\", tool_node_tt)\n",
    "\n",
    "graph_builder.add_conditional_edges(\"chatbot\", tools_condition)\n",
    "graph_builder.add_edge(\"tools\", \"chatbot\")\n",
    "graph_builder.add_edge(START, \"chatbot\")\n",
    "\n",
    "# 메모리와 함께 컴파일\n",
    "memory_tt = InMemorySaver()\n",
    "time_travel_graph = graph_builder.compile(checkpointer=memory_tt)\n",
    "\n",
    "print(\"✅ 체크포인트 기반 그래프 생성 완료!\")"
   ]
  },
  {
   "cell_type": "markdown",
   "metadata": {},
   "source": [
    "### 체크포인트 시퀀스 생성\n",
    "\n",
    "여러 번 대화를 실행해 충분한 상태 이력을 만듭니다."
   ]
  },
  {
   "cell_type": "code",
   "execution_count": null,
   "metadata": {},
   "outputs": [],
   "source": [
    "time_travel_config = RunnableConfig(configurable={\"thread_id\": \"time-travel-1\"})\n",
    "\n",
    "# 첫 번째 대화\n",
    "print(\"[대화 1]\")\n",
    "result1 = time_travel_graph.invoke(\n",
    "    {\"messages\": [HumanMessage(content=\"LangGraph에 대해서 검색해주세요.\")]},\n",
    "    config=time_travel_config,\n",
    ")\n",
    "print(f\"응답: {result1['messages'][-1].content[:100]}...\\n\")"
   ]
  },
  {
   "cell_type": "code",
   "execution_count": null,
   "metadata": {},
   "outputs": [],
   "source": [
    "# 두 번째 대화\n",
    "print(\"[대화 2]\")\n",
    "result2 = time_travel_graph.invoke(\n",
    "    {\"messages\": [HumanMessage(content=\"LangGraph의 주요 기능을 검색해주세요.\")]},\n",
    "    config=time_travel_config,\n",
    ")\n",
    "print(f\"응답: {result2['messages'][-1].content[:100]}...\")"
   ]
  },
  {
   "cell_type": "markdown",
   "metadata": {},
   "source": [
    "### 상태 이력 탐색 및 시점 선택\n",
    "\n",
    "`get_state_history` 로 이력을 조회하고, 롤백/재실행할 체크포인트를 선택합니다."
   ]
  },
  {
   "cell_type": "code",
   "execution_count": null,
   "metadata": {},
   "outputs": [],
   "source": [
    "# 전체 상태 히스토리 확인\n",
    "print(\"📜 상태 히스토리 (최신순):\")\n",
    "print(\"=\" * 80)\n",
    "\n",
    "# to_replay 변수 초기화\n",
    "to_replay = None\n",
    "\n",
    "for i, state in enumerate(time_travel_graph.get_state_history(time_travel_config)):\n",
    "    print(f\"\\n[체크포인트 {i}]\")\n",
    "    print(f\"  다음 노드: {state.next}\")\n",
    "    print(f\"  체크포인트 ID: {state.config['configurable']['checkpoint_id']}\")\n",
    "    print(f\"  메시지 수: {len(state.values['messages'])}\")\n",
    "    \n",
    "    # 첫 번째 검색 완료 시점을 선택\n",
    "    if len(state.values['messages']) == 4 and to_replay is None:\n",
    "        print(\"  ⭐ 이 상태로 되돌아갈 예정\")\n",
    "        to_replay = state\n",
    "        \n",
    "        # 마지막 메시지 내용 확인\n",
    "        last_msg = state.values['messages'][-1]\n",
    "        if hasattr(last_msg, 'tool_calls') and last_msg.tool_calls:\n",
    "            print(f\"  도구 호출: {last_msg.tool_calls[0]['name']}\")\n",
    "            print(f\"  쿼리: {last_msg.tool_calls[0]['args']}\")\n",
    "\n",
    "print(\"\\n\" + \"=\" * 80)"
   ]
  },
  {
   "cell_type": "markdown",
   "metadata": {},
   "source": [
    "### 상태 수정 및 최적화\n",
    "\n",
    "복원된 상태에서 도구 호출 파라미터를 수정해 다른 결과를 유도합니다."
   ]
  },
  {
   "cell_type": "code",
   "execution_count": null,
   "metadata": {},
   "outputs": [],
   "source": [
    "# 도구 호출 수정 함수\n",
    "def update_tool_call(message, tool_name, new_args):\n",
    "    \"\"\"메시지의 도구 호출을 수정합니다.\"\"\"\n",
    "    if hasattr(message, 'tool_calls') and message.tool_calls:\n",
    "        # 새로운 메시지 생성 (원본 수정 방지)\n",
    "        from langchain_core.messages import AIMessage\n",
    "        updated_message = AIMessage(\n",
    "            content=message.content,\n",
    "            tool_calls=[{\n",
    "                \"name\": tool_name,\n",
    "                \"args\": new_args,\n",
    "                \"id\": message.tool_calls[0][\"id\"]\n",
    "            }]\n",
    "        )\n",
    "        return updated_message\n",
    "    return message"
   ]
  },
  {
   "cell_type": "code",
   "execution_count": null,
   "metadata": {},
   "outputs": [],
   "source": [
    "if to_replay:\n",
    "    # 원본 도구 호출 확인\n",
    "    original_message = to_replay.values[\"messages\"][-1]\n",
    "    print(\"[원본 도구 호출]\")\n",
    "    print(f\"쿼리: {original_message.tool_calls[0]['args']}\")\n",
    "    \n",
    "    # 도구 호출 수정\n",
    "    updated_message = update_tool_call(\n",
    "        original_message,\n",
    "        tool_name=\"search\",\n",
    "        new_args={\"query\": \"LangGraph 고급 기능과 best practices\"}\n",
    "    )\n",
    "    \n",
    "    print(\"\\n[수정된 도구 호출]\")\n",
    "    print(f\"쿼리: {updated_message.tool_calls[0]['args']}\")"
   ]
  },
  {
   "cell_type": "code",
   "execution_count": null,
   "metadata": {},
   "outputs": [],
   "source": [
    "# 변경된 메시지를 update_state 로 업데이트\n",
    "if to_replay:\n",
    "    updated_state = time_travel_graph.update_state(\n",
    "        values={\"messages\": [updated_message]}, \n",
    "        config=to_replay.config\n",
    "    )\n",
    "    print(\"✅ 상태가 업데이트되었습니다\")"
   ]
  },
  {
   "cell_type": "markdown",
   "metadata": {},
   "source": [
    "### 수정 상태 재실행\n",
    "\n",
    "업데이트된 상태로 재실행하여 결과를 비교합니다."
   ]
  },
  {
   "cell_type": "code",
   "execution_count": null,
   "metadata": {},
   "outputs": [],
   "source": [
    "# 업데이트된 상태에서 재실행\n",
    "if updated_state:\n",
    "    print(\"[재실행 중...]\\n\")\n",
    "    result = time_travel_graph.invoke(None, config=updated_state)\n",
    "    \n",
    "    print(\"[수정된 검색으로 얻은 새로운 응답]\")\n",
    "    print(\"-\" * 50)\n",
    "    print(result['messages'][-1].content)\n",
    "    print(\"-\" * 50)"
   ]
  },
  {
   "cell_type": "markdown",
   "metadata": {},
   "source": [
    "## 📚 Part 5-6 요약\n",
    "\n",
    "### Part 5: 상태 커스터마이징\n",
    "1. **Custom State Fields**: 메시지 외 비즈니스 데이터 관리\n",
    "2. **Command Updates**: 도구에서 상태 직접 업데이트\n",
    "3. **human_review 패턴**: 검토 및 수정 워크플로우\n",
    "4. **동적 상태 변경**: 런타임에 상태 필드 수정\n",
    "\n",
    "### Part 6: 상태 이력 관리  \n",
    "1. **get_state_history**: 모든 체크포인트 조회\n",
    "2. **Checkpoint 선택**: 특정 시점으로 복원\n",
    "3. **update_state**: 상태 수정 후 재실행\n",
    "4. **A/B 테스트**: 다른 파라미터로 비교 실험\n",
    "\n",
    "### 실무 활용 시나리오\n",
    "- **디버깅**: 오류 발생 시점으로 롤백하여 원인 분석\n",
    "- **최적화**: 다양한 파라미터로 재실행하여 최적값 탐색\n",
    "- **감사**: 모든 상태 변경 이력 추적 및 검증\n",
    "- **실험**: 안전하게 다양한 시나리오 테스트\n",
    "\n",
    "### 주의사항\n",
    "- **메모리 관리**: 체크포인트가 많아지면 저장소 용량 고려\n",
    "- **동시성**: 여러 사용자가 같은 thread_id 사용 시 충돌 방지\n",
    "- **보안**: 민감한 상태 정보는 암호화 저장\n",
    "- **성능**: 프로덕션에서는 PostgresSaver 등 영구 저장소 사용"
   ]
  }
 ],
 "metadata": {
  "kernelspec": {
   "display_name": "Python 3",
   "language": "python",
   "name": "python3"
  },
  "language_info": {
   "codemirror_mode": {
    "name": "ipython",
    "version": 3
   },
   "file_extension": ".py",
   "mimetype": "text/x-python",
   "name": "python",
   "nbconvert_exporter": "python",
   "pygments_lexer": "ipython3",
   "version": "3.11.0"
  }
 },
 "nbformat": 4,
 "nbformat_minor": 4
}