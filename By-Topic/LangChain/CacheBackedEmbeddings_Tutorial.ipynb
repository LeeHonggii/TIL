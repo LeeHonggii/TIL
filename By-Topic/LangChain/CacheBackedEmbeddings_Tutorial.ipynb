{
 "cells": [
  {
   "cell_type": "markdown",
   "id": "4322ab7f",
   "metadata": {},
   "source": [
    "# CacheBackedEmbeddings로 임베딩 캐싱하기\n",
    "\n",
    "이 튜토리얼에서는 LangChain의 `CacheBackedEmbeddings`를 사용하여 임베딩을 캐싱하는 방법을 알아봅니다. 임베딩 캐싱은 동일한 텍스트에 대한 임베딩을 재계산하지 않아 성능을 크게 향상시킬 수 있습니다.\n",
    "\n",
    "## 목차\n",
    "1. CacheBackedEmbeddings 소개\n",
    "2. LocalFileStore를 사용한 영구 캐싱\n",
    "3. InMemoryByteStore를 사용한 임시 캐싱\n",
    "4. 성능 비교"
   ]
  },
  {
   "cell_type": "markdown",
   "id": "intro-section",
   "metadata": {},
   "source": [
    "## 1. CacheBackedEmbeddings 소개\n",
    "\n",
    "Embeddings는 재계산을 피하기 위해 저장되거나 일시적으로 캐시될 수 있습니다.\n",
    "\n",
    "Embeddings를 캐싱하는 것은 `CacheBackedEmbeddings`를 사용하여 수행될 수 있습니다. 캐시 지원 embedder는 embeddings를 키-값 저장소에 캐싱하는 embedder 주변에 래퍼입니다. 텍스트는 해시되고 이 해시는 캐시에서 키로 사용됩니다.\n",
    "\n",
    "### 주요 매개변수\n",
    "\n",
    "`CacheBackedEmbeddings`를 초기화하는 주요 지원 방법은 `from_bytes_store`입니다. 이는 다음 매개변수를 받습니다:\n",
    "\n",
    "- **`underlying_embeddings`**: 임베딩을 위해 사용되는 embedder.\n",
    "- **`document_embedding_cache`**: 문서 임베딩을 캐싱하기 위한 `ByteStore` 중 하나.\n",
    "- **`namespace`**: (선택 사항, 기본값은 `\"\"`) 문서 캐시를 위해 사용되는 네임스페이스. 이 네임스페이스는 다른 캐시와의 충돌을 피하기 위해 사용됩니다.\n",
    "\n",
    "⚠️ **주의**: 동일한 텍스트가 다른 임베딩 모델을 사용하여 임베딩될 때 충돌을 피하기 위해 `namespace` 매개변수를 설정하는 것이 중요합니다."
   ]
  },
  {
   "cell_type": "code",
   "execution_count": 1,
   "id": "6e217776",
   "metadata": {},
   "outputs": [
    {
     "data": {
      "text/plain": [
       "True"
      ]
     },
     "execution_count": 1,
     "metadata": {},
     "output_type": "execute_result"
    }
   ],
   "source": [
    "# API 키를 환경변수로 관리하기 위한 설정 파일\n",
    "from dotenv import load_dotenv\n",
    "\n",
    "# API 키 정보 로드\n",
    "load_dotenv()"
   ]
  },
  {
   "cell_type": "markdown",
   "id": "c16376d0",
   "metadata": {},
   "source": [
    "## 2. LocalFileStore를 사용한 영구 캐싱\n",
    "\n",
    "`LocalFileStore`는 임베딩을 로컬 파일 시스템에 영구적으로 저장합니다. 이는 프로그램이 종료되어도 캐시된 임베딩이 유지되어 다음 실행 시에도 사용할 수 있습니다.\n",
    "\n",
    "먼저, 로컬 파일 시스템을 사용하여 임베딩을 저장하고 FAISS 벡터 스토어를 사용하여 검색하는 예제를 살펴보겠습니다."
   ]
  },
  {
   "cell_type": "code",
   "execution_count": 2,
   "id": "2943b999",
   "metadata": {},
   "outputs": [],
   "source": [
    "from langchain.storage import LocalFileStore\n",
    "from langchain_openai import OpenAIEmbeddings\n",
    "from langchain.embeddings import CacheBackedEmbeddings\n",
    "from langchain_community.vectorstores.faiss import FAISS\n",
    "\n",
    "# OpenAI 임베딩을 사용하여 기본 임베딩 설정\n",
    "embedding = OpenAIEmbeddings()\n",
    "\n",
    "# 로컬 파일 저장소 설정 (./cache/ 디렉토리에 저장)\n",
    "store = LocalFileStore(\"./cache/\")\n",
    "\n",
    "# 캐시를 지원하는 임베딩 생성\n",
    "cached_embedder = CacheBackedEmbeddings.from_bytes_store(\n",
    "    underlying_embeddings=embedding,\n",
    "    document_embedding_cache=store,\n",
    "    namespace=embedding.model,  # 모델명을 네임스페이스로 사용하여 충돌 방지\n",
    ")"
   ]
  },
  {
   "cell_type": "markdown",
   "id": "check-cache",
   "metadata": {},
   "source": [
    "### 캐시 저장소 확인\n",
    "\n",
    "저장소에 어떤 키들이 있는지 확인할 수 있습니다:"
   ]
  },
  {
   "cell_type": "code",
   "execution_count": 3,
   "id": "e180f6cd",
   "metadata": {},
   "outputs": [
    {
     "data": {
      "text/plain": [
       "['llm_cache.db']"
      ]
     },
     "execution_count": 3,
     "metadata": {},
     "output_type": "execute_result"
    }
   ],
   "source": [
    "# store에서 키들을 순차적으로 가져옵니다.\n",
    "list(store.yield_keys())"
   ]
  },
  {
   "cell_type": "markdown",
   "id": "ebfab7dd",
   "metadata": {},
   "source": [
    "### 문서 로드 및 처리\n",
    "\n",
    "문서를 로드하고, 청크로 분할한 다음, 각 청크를 임베딩하고 벡터 저장소에 로드합니다."
   ]
  },
  {
   "cell_type": "code",
   "execution_count": 4,
   "id": "1dee7f4e",
   "metadata": {},
   "outputs": [],
   "source": [
    "from langchain.document_loaders import TextLoader\n",
    "from langchain_text_splitters import CharacterTextSplitter\n",
    "\n",
    "# 문서 로드\n",
    "raw_documents = TextLoader(\"../appendix-keywords.txt\").load()\n",
    "\n",
    "# 문자 단위로 텍스트 분할 설정\n",
    "text_splitter = CharacterTextSplitter(chunk_size=1000, chunk_overlap=0)\n",
    "\n",
    "# 문서 분할\n",
    "documents = text_splitter.split_documents(raw_documents)"
   ]
  },
  {
   "cell_type": "markdown",
   "id": "first-embedding",
   "metadata": {},
   "source": [
    "### 첫 번째 임베딩 생성 (캐시 없음)\n",
    "\n",
    "처음 실행할 때는 캐시가 없으므로 모든 임베딩을 계산해야 합니다:"
   ]
  },
  {
   "cell_type": "code",
   "execution_count": 5,
   "id": "330cc8de",
   "metadata": {},
   "outputs": [
    {
     "name": "stdout",
     "output_type": "stream",
     "text": [
      "CPU times: total: 406 ms\n",
      "Wall time: 1.97 s\n"
     ]
    }
   ],
   "source": [
    "# 코드 실행 시간을 측정합니다.\n",
    "%time db = FAISS.from_documents(documents, cached_embedder)  # 문서로부터 FAISS 데이터베이스 생성"
   ]
  },
  {
   "cell_type": "markdown",
   "id": "64e85f94",
   "metadata": {},
   "source": [
    "### 두 번째 임베딩 생성 (캐시 사용)\n",
    "\n",
    "벡터 저장소를 다시 생성하려고 하면, 임베딩을 다시 계산할 필요가 없기 때문에 훨씬 더 빠르게 처리됩니다.\n",
    "\n",
    "**성능 향상**: 약 30배 이상 빠른 처리 속도를 보여줍니다!"
   ]
  },
  {
   "cell_type": "code",
   "execution_count": 6,
   "id": "505cb4a1",
   "metadata": {},
   "outputs": [
    {
     "name": "stdout",
     "output_type": "stream",
     "text": [
      "CPU times: total: 15.6 ms\n",
      "Wall time: 65.7 ms\n"
     ]
    }
   ],
   "source": [
    "# 캐싱된 임베딩을 사용하여 FAISS 데이터베이스 생성\n",
    "%time db2 = FAISS.from_documents(documents, cached_embedder)"
   ]
  },
  {
   "cell_type": "markdown",
   "id": "f51fb837",
   "metadata": {},
   "source": [
    "## 3. InMemoryByteStore를 사용한 임시 캐싱\n",
    "\n",
    "`InMemoryByteStore`는 임베딩을 메모리에만 저장합니다. 프로그램이 종료되면 캐시가 사라지지만, 프로그램 실행 중에는 빠른 접근이 가능합니다.\n",
    "\n",
    "다른 `ByteStore`를 사용하기 위해서는 `CacheBackedEmbeddings`를 생성할 때 해당 `ByteStore`를 사용하면 됩니다.\n",
    "\n",
    "### 사용 사례\n",
    "- 임시 작업이나 테스트 환경\n",
    "- 디스크 I/O를 최소화하고 싶은 경우\n",
    "- 짧은 세션 동안만 캐시가 필요한 경우"
   ]
  },
  {
   "cell_type": "code",
   "execution_count": 7,
   "id": "89c51b52",
   "metadata": {},
   "outputs": [],
   "source": [
    "from langchain.embeddings import CacheBackedEmbeddings\n",
    "from langchain.storage import InMemoryByteStore\n",
    "\n",
    "# 메모리 내 바이트 저장소 생성\n",
    "store = InMemoryByteStore()\n",
    "\n",
    "# 캐시 지원 임베딩 생성\n",
    "cached_embedder = CacheBackedEmbeddings.from_bytes_store(\n",
    "    embedding, \n",
    "    store, \n",
    "    namespace=embedding.model\n",
    ")"
   ]
  },
  {
   "cell_type": "markdown",
   "id": "comparison",
   "metadata": {},
   "source": [
    "## 4. LocalFileStore vs InMemoryByteStore 비교\n",
    "\n",
    "| 특성 | LocalFileStore | InMemoryByteStore |\n",
    "|------|----------------|-------------------|\n",
    "| **영속성** | 영구 저장 (디스크) | 임시 저장 (메모리) |\n",
    "| **속도** | 중간 (디스크 I/O) | 매우 빠름 (메모리 접근) |\n",
    "| **용량** | 디스크 용량에 의존 | RAM 크기에 제한 |\n",
    "| **사용 사례** | 프로덕션 환경, 반복 작업 | 개발/테스트, 단기 세션 |\n",
    "| **재시작 후** | 캐시 유지 | 캐시 손실 |"
   ]
  },
  {
   "cell_type": "markdown",
   "id": "best-practices",
   "metadata": {},
   "source": [
    "## 5. 모범 사례\n",
    "\n",
    "1. **네임스페이스 설정**: 항상 임베딩 모델명을 네임스페이스로 사용하여 다른 모델과의 충돌을 방지하세요.\n",
    "   ```python\n",
    "   namespace=embedding.model  # 예: \"text-embedding-ada-002\"\n",
    "   ```\n",
    "\n",
    "2. **캐시 디렉토리 관리**: LocalFileStore 사용 시 적절한 디렉토리 구조를 유지하세요.\n",
    "   ```python\n",
    "   store = LocalFileStore(\"./cache/embeddings/\")\n",
    "   ```\n",
    "\n",
    "3. **캐시 정리**: 필요 시 오래된 캐시를 정리하여 디스크 공간을 관리하세요.\n",
    "\n",
    "4. **에러 처리**: 캐시 읽기/쓰기 실패에 대한 예외 처리를 고려하세요."
   ]
  },
  {
   "cell_type": "markdown",
   "id": "summary",
   "metadata": {},
   "source": [
    "## 요약\n",
    "\n",
    "`CacheBackedEmbeddings`는 임베딩 재계산을 방지하여 성능을 크게 향상시킵니다:\n",
    "\n",
    "- **LocalFileStore**: 영구 캐싱이 필요한 프로덕션 환경에 적합\n",
    "- **InMemoryByteStore**: 빠른 접근이 필요한 임시 작업에 적합\n",
    "- 적절한 네임스페이스 사용으로 다른 모델과의 충돌 방지\n",
    "- 첫 실행 후 30배 이상의 성능 향상 가능"
   ]
  }
 ],
 "metadata": {
  "kernelspec": {
   "display_name": "Python 3",
   "language": "python",
   "name": "python3"
  },
  "language_info": {
   "codemirror_mode": {
    "name": "ipython",
    "version": 3
   },
   "file_extension": ".py",
   "mimetype": "text/x-python",
   "name": "python",
   "nbconvert_exporter": "python",
   "pygments_lexer": "ipython3",
   "version": "3.11.0"
  }
 },
 "nbformat": 4,
 "nbformat_minor": 5
}