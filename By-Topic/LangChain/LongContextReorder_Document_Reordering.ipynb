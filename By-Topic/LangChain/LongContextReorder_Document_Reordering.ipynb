{
 "cells": [
  {
   "cell_type": "markdown",
   "id": "title-cell",
   "metadata": {},
   "source": [
    "# LongContextReorder로 문서 재정렬 최적화\n",
    "\n",
    "## 📚 개요\n",
    "\n",
    "LangChain의 `LongContextReorder`를 활용하여 긴 문맥에서 검색된 문서들의 순서를 재배열하는 방법을 학습합니다. 이는 모델이 긴 컨텍스트 중간에 있는 관련 정보를 놓치는 문제를 해결하는 기법입니다.\n",
    "\n",
    "## 🎯 학습 목표\n",
    "\n",
    "- LongContextReorder의 필요성과 원리 이해\n",
    "- 문서 재정렬을 통한 성능 향상 방법 학습\n",
    "- RAG 파이프라인에서의 문서 재정렬 구현"
   ]
  },
  {
   "cell_type": "markdown",
   "id": "problem-description",
   "metadata": {},
   "source": [
    "## 1. 긴 문맥 재정렬(LongContextReorder)의 필요성\n",
    "\n",
    "### 문제점\n",
    "모델의 아키텍처와 상관없이, 10개 이상의 검색된 문서를 포함할 경우 성능이 상당히 저하됩니다. 모델이 긴 컨텍스트 중간에 있는 관련 정보에 접근해야 할 때, 제공된 문서를 무시하는 경향이 있습니다.\n",
    "\n",
    "### 해결 방안\n",
    "이 문제를 피하기 위해, 검색 후 문서의 순서를 재배열하여 성능 저하를 방지할 수 있습니다.\n",
    "- 덜 관련된 문서는 목록의 중간에 위치\n",
    "- 더 관련된 문서는 시작과 끝에 위치\n",
    "\n",
    "### 참고 논문\n",
    "- https://arxiv.org/abs/2307.03172"
   ]
  },
  {
   "cell_type": "markdown",
   "id": "setup",
   "metadata": {},
   "source": [
    "## 2. 환경 설정"
   ]
  },
  {
   "cell_type": "code",
   "execution_count": 1,
   "id": "env-setup",
   "metadata": {},
   "outputs": [
    {
     "data": {
      "text/plain": [
       "True"
      ]
     },
     "execution_count": 1,
     "metadata": {},
     "output_type": "execute_result"
    }
   ],
   "source": [
    "# API 키를 환경변수로 관리하기 위한 설정 파일\n",
    "from dotenv import load_dotenv\n",
    "\n",
    "# API 키 정보 로드\n",
    "load_dotenv()"
   ]
  },
  {
   "cell_type": "markdown",
   "id": "basic-implementation",
   "metadata": {},
   "source": [
    "## 3. 기본 구현: 벡터 저장소와 검색기 생성"
   ]
  },
  {
   "cell_type": "code",
   "execution_count": 2,
   "id": "imports-and-setup",
   "metadata": {},
   "outputs": [],
   "source": [
    "from langchain_core.prompts import PromptTemplate\n",
    "from langchain_community.document_transformers import LongContextReorder\n",
    "from langchain_community.vectorstores import Chroma\n",
    "from langchain_openai import OpenAIEmbeddings\n",
    "\n",
    "# 임베딩 모델 설정\n",
    "embeddings = OpenAIEmbeddings(model=\"text-embedding-3-small\")\n",
    "\n",
    "# 테스트용 텍스트 데이터\n",
    "texts = [\n",
    "    \"이건 그냥 내가 아무렇게나 적어본 글입니다.\",\n",
    "    \"사용자와 대화하는 것처럼 설계된 AI인 ChatGPT는 다양한 질문에 답할 수 있습니다.\",\n",
    "    \"아이폰, 아이패드, 맥북 등은 애플이 출시한 대표적인 제품들입니다.\",\n",
    "    \"챗GPT는 OpenAI에 의해 개발되었으며, 지속적으로 개선되고 있습니다.\",\n",
    "    \"챗지피티는 사용자의 질문을 이해하고 적절한 답변을 생성하기 위해 대량의 데이터를 학습했습니다.\",\n",
    "    \"애플 워치와 에어팟 같은 웨어러블 기기도 애플의 인기 제품군에 속합니다.\",\n",
    "    \"ChatGPT는 복잡한 문제를 해결하거나 창의적인 아이디어를 제안하는 데에도 사용될 수 있습니다.\",\n",
    "    \"비트코인은 디지털 금이라고도 불리며, 가치 저장 수단으로서 인기를 얻고 있습니다.\",\n",
    "    \"ChatGPT의 기능은 지속적인 학습과 업데이트를 통해 더욱 발전하고 있습니다.\",\n",
    "    \"FIFA 월드컵은 네 번째 해마다 열리며, 국제 축구에서 가장 큰 행사입니다.\",\n",
    "]\n",
    "\n",
    "# 검색기 생성 (K=10으로 설정하여 모든 문서 검색)\n",
    "retriever = Chroma.from_texts(texts, embedding=embeddings).as_retriever(\n",
    "    search_kwargs={\"k\": 10}\n",
    ")"
   ]
  },
  {
   "cell_type": "markdown",
   "id": "search-demo",
   "metadata": {},
   "source": [
    "## 4. 검색 수행 및 결과 확인"
   ]
  },
  {
   "cell_type": "code",
   "execution_count": 3,
   "id": "search-query",
   "metadata": {},
   "outputs": [
    {
     "name": "stdout",
     "output_type": "stream",
     "text": [
      "원본 검색 결과 (관련성 점수 순):\n",
      "1. ChatGPT는 복잡한 문제를 해결하거나 창의적인 아이디어를 제안하는 데에도 사용될 수 있습니다.\n",
      "2. ChatGPT의 기능은 지속적인 학습과 업데이트를 통해 더욱 발전하고 있습니다.\n",
      "3. 사용자와 대화하는 것처럼 설계된 AI인 ChatGPT는 다양한 질문에 답할 수 있습니다.\n",
      "4. 챗GPT는 OpenAI에 의해 개발되었으며, 지속적으로 개선되고 있습니다.\n",
      "5. 이건 그냥 내가 아무렇게나 적어본 글입니다.\n",
      "6. 챗지피티는 사용자의 질문을 이해하고 적절한 답변을 생성하기 위해 대량의 데이터를 학습했습니다.\n",
      "7. 비트코인은 디지털 금이라고도 불리며, 가치 저장 수단으로서 인기를 얻고 있습니다.\n",
      "8. 아이폰, 아이패드, 맥북 등은 애플이 출시한 대표적인 제품들입니다.\n",
      "9. 애플 워치와 에어팟 같은 웨어러블 기기도 애플의 인기 제품군에 속합니다.\n",
      "10. FIFA 월드컵은 네 번째 해마다 열리며, 국제 축구에서 가장 큰 행사입니다.\n"
     ]
    }
   ],
   "source": [
    "query = \"ChatGPT에 대해 무엇을 말해줄 수 있나요?\"\n",
    "\n",
    "# 관련성 점수에 따라 정렬된 관련 문서를 가져옵니다.\n",
    "docs = retriever.invoke(query)\n",
    "\n",
    "print(\"원본 검색 결과 (관련성 점수 순):\")\n",
    "for i, doc in enumerate(docs, 1):\n",
    "    print(f\"{i}. {doc.page_content}\")"
   ]
  },
  {
   "cell_type": "markdown",
   "id": "reordering-demo",
   "metadata": {},
   "source": [
    "## 5. LongContextReorder를 사용한 문서 재정렬"
   ]
  },
  {
   "cell_type": "code",
   "execution_count": 4,
   "id": "reorder-docs",
   "metadata": {},
   "outputs": [
    {
     "name": "stdout",
     "output_type": "stream",
     "text": [
      "재정렬된 문서 (관련 문서가 시작과 끝에 위치):\n",
      "1. ChatGPT의 기능은 지속적인 학습과 업데이트를 통해 더욱 발전하고 있습니다.\n",
      "2. 챗GPT는 OpenAI에 의해 개발되었으며, 지속적으로 개선되고 있습니다.\n",
      "3. 챗지피티는 사용자의 질문을 이해하고 적절한 답변을 생성하기 위해 대량의 데이터를 학습했습니다.\n",
      "4. 아이폰, 아이패드, 맥북 등은 애플이 출시한 대표적인 제품들입니다.\n",
      "5. FIFA 월드컵은 네 번째 해마다 열리며, 국제 축구에서 가장 큰 행사입니다.\n",
      "6. 애플 워치와 에어팟 같은 웨어러블 기기도 애플의 인기 제품군에 속합니다.\n",
      "7. 비트코인은 디지털 금이라고도 불리며, 가치 저장 수단으로서 인기를 얻고 있습니다.\n",
      "8. 이건 그냥 내가 아무렇게나 적어본 글입니다.\n",
      "9. 사용자와 대화하는 것처럼 설계된 AI인 ChatGPT는 다양한 질문에 답할 수 있습니다.\n",
      "10. ChatGPT는 복잡한 문제를 해결하거나 창의적인 아이디어를 제안하는 데에도 사용될 수 있습니다.\n"
     ]
    }
   ],
   "source": [
    "# LongContextReorder 인스턴스 생성\n",
    "reordering = LongContextReorder()\n",
    "\n",
    "# 문서 재정렬\n",
    "# 덜 관련된 문서는 목록의 중간에 위치하고 더 관련된 문서는 시작/끝에 위치합니다.\n",
    "reordered_docs = reordering.transform_documents(docs)\n",
    "\n",
    "print(\"재정렬된 문서 (관련 문서가 시작과 끝에 위치):\")\n",
    "for i, doc in enumerate(reordered_docs, 1):\n",
    "    print(f\"{i}. {doc.page_content}\")"
   ]
  },
  {
   "cell_type": "markdown",
   "id": "rag-chain-setup",
   "metadata": {},
   "source": [
    "## 6. Context Reordering을 활용한 RAG 체인 구현\n",
    "\n",
    "재정렬 기능을 RAG(Retrieval-Augmented Generation) 파이프라인에 통합합니다."
   ]
  },
  {
   "cell_type": "code",
   "execution_count": 5,
   "id": "helper-functions",
   "metadata": {},
   "outputs": [],
   "source": [
    "# 문서 포맷팅 함수 (기본)\n",
    "def format_docs_simple(docs):\n",
    "    return \"\\n\".join([doc.page_content for doc in docs])\n",
    "\n",
    "# 문서 포맷팅 함수 (인덱스와 소스 정보 포함)\n",
    "def format_docs_with_source(docs):\n",
    "    return \"\\n\".join(\n",
    "        [\n",
    "            f\"[{i}] {doc.page_content} [source: example@email.com]\"\n",
    "            for i, doc in enumerate(docs)\n",
    "        ]\n",
    "    )\n",
    "\n",
    "# 문서 재정렬 및 포맷팅 함수\n",
    "def reorder_and_format_documents(docs):\n",
    "    # 재정렬\n",
    "    reordering = LongContextReorder()\n",
    "    reordered_docs = reordering.transform_documents(docs)\n",
    "    \n",
    "    # 포맷팅\n",
    "    formatted = format_docs_with_source(reordered_docs)\n",
    "    print(\"재정렬된 문서:\")\n",
    "    print(formatted)\n",
    "    print(\"-\" * 50)\n",
    "    \n",
    "    return formatted"
   ]
  },
  {
   "cell_type": "code",
   "execution_count": 6,
   "id": "chain-setup",
   "metadata": {},
   "outputs": [],
   "source": [
    "from langchain.prompts import ChatPromptTemplate\n",
    "from operator import itemgetter\n",
    "from langchain_openai import ChatOpenAI\n",
    "from langchain_core.output_parsers import StrOutputParser\n",
    "from langchain_core.runnables import RunnableLambda\n",
    "\n",
    "# 프롬프트 템플릿 정의\n",
    "template = \"\"\"Given this text extracts:\n",
    "{context}\n",
    "\n",
    "-----\n",
    "Please answer the following question:\n",
    "{question}\n",
    "\n",
    "Answer in the following language: {language}\n",
    "\"\"\"\n",
    "\n",
    "# 프롬프트 생성\n",
    "prompt = ChatPromptTemplate.from_template(template)\n",
    "\n",
    "# RAG 체인 구성\n",
    "chain = (\n",
    "    {\n",
    "        \"context\": itemgetter(\"question\")\n",
    "        | retriever\n",
    "        | RunnableLambda(reorder_and_format_documents),  # 문서 재정렬 적용\n",
    "        \"question\": itemgetter(\"question\"),\n",
    "        \"language\": itemgetter(\"language\"),\n",
    "    }\n",
    "    | prompt\n",
    "    | ChatOpenAI(model=\"gpt-4o-mini\")\n",
    "    | StrOutputParser()\n",
    ")"
   ]
  },
  {
   "cell_type": "markdown",
   "id": "chain-execution",
   "metadata": {},
   "source": [
    "## 7. RAG 체인 실행 및 결과 확인"
   ]
  },
  {
   "cell_type": "code",
   "execution_count": 7,
   "id": "run-chain",
   "metadata": {},
   "outputs": [
    {
     "name": "stdout",
     "output_type": "stream",
     "text": [
      "재정렬된 문서:\n",
      "[0] ChatGPT의 기능은 지속적인 학습과 업데이트를 통해 더욱 발전하고 있습니다. [source: example@email.com]\n",
      "[1] 챗GPT는 OpenAI에 의해 개발되었으며, 지속적으로 개선되고 있습니다. [source: example@email.com]\n",
      "[2] 챗지피티는 사용자의 질문을 이해하고 적절한 답변을 생성하기 위해 대량의 데이터를 학습했습니다. [source: example@email.com]\n",
      "[3] 아이폰, 아이패드, 맥북 등은 애플이 출시한 대표적인 제품들입니다. [source: example@email.com]\n",
      "[4] FIFA 월드컵은 네 번째 해마다 열리며, 국제 축구에서 가장 큰 행사입니다. [source: example@email.com]\n",
      "[5] 애플 워치와 에어팟 같은 웨어러블 기기도 애플의 인기 제품군에 속합니다. [source: example@email.com]\n",
      "[6] 비트코인은 디지털 금이라고도 불리며, 가치 저장 수단으로서 인기를 얻고 있습니다. [source: example@email.com]\n",
      "[7] 이건 그냥 내가 아무렇게나 적어본 글입니다. [source: example@email.com]\n",
      "[8] 사용자와 대화하는 것처럼 설계된 AI인 ChatGPT는 다양한 질문에 답할 수 있습니다. [source: example@email.com]\n",
      "[9] ChatGPT는 복잡한 문제를 해결하거나 창의적인 아이디어를 제안하는 데에도 사용될 수 있습니다. [source: example@email.com]\n",
      "--------------------------------------------------\n",
      "\n",
      "최종 답변:\n",
      "ChatGPT는 OpenAI에 의해 개발된 인공지능으로, 사용자의 질문을 이해하고 적절한 답변을 생성하기 위해 대량의 데이터를 학습했습니다. 지속적인 학습과 업데이트를 통해 기능이 발전하고 있으며, 다양한 질문에 답할 수 있도록 설계되었습니다. 또한, 복잡한 문제를 해결하거나 창의적인 아이디어를 제안하는 데에도 활용될 수 있습니다.\n"
     ]
    }
   ],
   "source": [
    "# 체인 실행\n",
    "answer = chain.invoke(\n",
    "    {\n",
    "        \"question\": \"ChatGPT에 대해 무엇을 말해줄 수 있나요?\", \n",
    "        \"language\": \"Korean\"\n",
    "    }\n",
    ")\n",
    "\n",
    "print(\"\\n최종 답변:\")\n",
    "print(answer)"
   ]
  },
  {
   "cell_type": "markdown",
   "id": "comparison",
   "metadata": {},
   "source": [
    "## 8. 재정렬 전후 비교\n",
    "\n",
    "문서 재정렬이 어떻게 작동하는지 시각적으로 비교해봅시다."
   ]
  },
  {
   "cell_type": "code",
   "execution_count": 8,
   "id": "visual-comparison",
   "metadata": {},
   "outputs": [
    {
     "name": "stdout",
     "output_type": "stream",
     "text": [
      "=== 문서 순서 비교 ===\n",
      "\n",
      "원본 순서 (관련성 점수 순):\n",
      "1. ChatGPT는 복잡한 문제를... (가장 관련성 높음)\n",
      "2. ChatGPT의 기능은 지속적인...\n",
      "3. 사용자와 대화하는 것처럼...\n",
      "4. 챗GPT는 OpenAI에 의해...\n",
      "5. 이건 그냥 내가... (중간)\n",
      "6. 챗지피티는 사용자의 질문을...\n",
      "7. 비트코인은 디지털 금이라고...\n",
      "8. 아이폰, 아이패드, 맥북...\n",
      "9. 애플 워치와 에어팟...\n",
      "10. FIFA 월드컵은... (가장 관련성 낮음)\n",
      "\n",
      "재정렬 후 (시작과 끝에 중요 문서):\n",
      "1. ChatGPT의 기능은 지속적인... ⭐\n",
      "2. 챗GPT는 OpenAI에 의해... ⭐\n",
      "3. 챗지피티는 사용자의 질문을... ⭐\n",
      "4. 아이폰, 아이패드, 맥북...\n",
      "5. FIFA 월드컵은... (중간에 배치)\n",
      "6. 애플 워치와 에어팟...\n",
      "7. 비트코인은 디지털 금이라고...\n",
      "8. 이건 그냥 내가...\n",
      "9. 사용자와 대화하는 것처럼... ⭐\n",
      "10. ChatGPT는 복잡한 문제를... ⭐\n",
      "\n",
      "⭐ 표시: ChatGPT 관련 중요 문서\n"
     ]
    }
   ],
   "source": [
    "print(\"=== 문서 순서 비교 ===\")\n",
    "print(\"\\n원본 순서 (관련성 점수 순):\")\n",
    "for i, doc in enumerate(docs, 1):\n",
    "    content_preview = doc.page_content[:20] + \"...\"\n",
    "    if i == 1:\n",
    "        print(f\"{i}. {content_preview} (가장 관련성 높음)\")\n",
    "    elif i == 5:\n",
    "        print(f\"{i}. {content_preview} (중간)\")\n",
    "    elif i == 10:\n",
    "        print(f\"{i}. {content_preview} (가장 관련성 낮음)\")\n",
    "    else:\n",
    "        print(f\"{i}. {content_preview}\")\n",
    "\n",
    "print(\"\\n재정렬 후 (시작과 끝에 중요 문서):\")\n",
    "for i, doc in enumerate(reordered_docs, 1):\n",
    "    content_preview = doc.page_content[:20] + \"...\"\n",
    "    if \"ChatGPT\" in doc.page_content or \"챗GPT\" in doc.page_content or \"챗지피티\" in doc.page_content:\n",
    "        print(f\"{i}. {content_preview} ⭐\")\n",
    "    elif i == 5:\n",
    "        print(f\"{i}. {content_preview} (중간에 배치)\")\n",
    "    else:\n",
    "        print(f\"{i}. {content_preview}\")\n",
    "\n",
    "print(\"\\n⭐ 표시: ChatGPT 관련 중요 문서\")"
   ]
  },
  {
   "cell_type": "markdown",
   "id": "summary",
   "metadata": {},
   "source": [
    "## 📝 요약\n",
    "\n",
    "### 핵심 개념\n",
    "1. **문제**: 긴 컨텍스트에서 중간에 있는 정보를 모델이 놓치는 경향\n",
    "2. **해결책**: LongContextReorder를 사용한 문서 재정렬\n",
    "3. **원리**: 관련성 높은 문서를 시작과 끝에 배치\n",
    "\n",
    "### 구현 단계\n",
    "1. 벡터 저장소 생성 및 검색기 설정\n",
    "2. LongContextReorder 인스턴스 생성\n",
    "3. transform_documents() 메서드로 문서 재정렬\n",
    "4. RAG 체인에 RunnableLambda로 통합\n",
    "\n",
    "### 활용 시나리오\n",
    "- 10개 이상의 문서를 검색하는 경우\n",
    "- 긴 컨텍스트를 다루는 RAG 시스템\n",
    "- 검색 품질 향상이 필요한 경우\n",
    "\n",
    "### 주의사항\n",
    "- 검색된 문서 수가 적을 때는 효과가 제한적일 수 있음\n",
    "- 재정렬 알고리즘의 특성상 추가적인 처리 시간 필요"
   ]
  }
 ],
 "metadata": {
  "kernelspec": {
   "display_name": "Python 3",
   "language": "python",
   "name": "python3"
  },
  "language_info": {
   "codemirror_mode": {
    "name": "ipython",
    "version": 3
   },
   "file_extension": ".py",
   "mimetype": "text/x-python",
   "name": "python",
   "nbconvert_exporter": "python",
   "pygments_lexer": "ipython3",
   "version": "3.11.0"
  }
 },
 "nbformat": 4,
 "nbformat_minor": 5
}