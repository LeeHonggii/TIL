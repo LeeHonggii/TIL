{
 "cells": [
  {
   "cell_type": "markdown",
   "id": "header",
   "metadata": {},
   "source": [
    "# EnsembleRetriever로 하이브리드 검색 구현\n",
    "\n",
    "이 노트북에서는 LangChain의 `EnsembleRetriever`를 사용하여 여러 검색 알고리즘을 결합한 하이브리드 검색 시스템을 구현합니다.\n",
    "\n",
    "## 학습 목표\n",
    "- EnsembleRetriever의 개념과 작동 원리 이해\n",
    "- BM25 (sparse retriever)와 FAISS (dense retriever) 결합\n",
    "- Reciprocal Rank Fusion 알고리즘 활용\n",
    "- 런타임에서 가중치 동적 조정\n",
    "\n",
    "## 목차\n",
    "1. [EnsembleRetriever 개요](#overview)\n",
    "2. [환경 설정](#setup)\n",
    "3. [기본 구현](#basic-implementation)\n",
    "4. [검색 결과 비교](#comparison)\n",
    "5. [런타임 Config 변경](#runtime-config)\n",
    "6. [요약](#summary)"
   ]
  },
  {
   "cell_type": "markdown",
   "id": "overview",
   "metadata": {},
   "source": [
    "## 1. EnsembleRetriever 개요 <a id='overview'></a>\n",
    "\n",
    "`EnsembleRetriever`는 여러 검색기를 결합하여 더 강력한 검색 결과를 제공하는 LangChain의 기능입니다. 이 검색기는 다양한 검색 알고리즘의 장점을 활용하여 단일 알고리즘보다 더 나은 성능을 달성할 수 있습니다.\n",
    "\n",
    "### 주요 특징\n",
    "1. **여러 검색기 통합**: 다양한 유형의 검색기를 입력으로 받아 결과를 결합합니다.\n",
    "2. **결과 재순위화**: [Reciprocal Rank Fusion](https://plg.uwaterloo.ca/~gvcormac/cormacksigir09-rrf.pdf) 알고리즘을 사용하여 결과의 순위를 조정합니다.\n",
    "3. **하이브리드 검색**: 주로 `sparse retriever`(예: BM25)와 `dense retriever`(예: 임베딩 유사도)를 결합하여 사용합니다.\n",
    "\n",
    "### 장점\n",
    "- **Sparse retriever (BM25)**: 키워드 기반 검색에 효과적\n",
    "- **Dense retriever (FAISS)**: 의미적 유사성 기반 검색에 효과적\n",
    "\n",
    "이러한 상호 보완적인 특성으로 인해 `EnsembleRetriever`는 다양한 검색 시나리오에서 향상된 성능을 제공할 수 있습니다.\n",
    "\n",
    "자세한 내용은 [LangChain 공식 문서](https://python.langchain.com/docs/modules/data_connection/retrievers/ensemble)를 참조하세요."
   ]
  },
  {
   "cell_type": "markdown",
   "id": "setup",
   "metadata": {},
   "source": [
    "## 2. 환경 설정 <a id='setup'></a>\n",
    "\n",
    "필요한 라이브러리를 설치하고 API 키를 설정합니다."
   ]
  },
  {
   "cell_type": "code",
   "execution_count": 1,
   "id": "install",
   "metadata": {},
   "outputs": [],
   "source": [
    "# 필요한 패키지 설치\n",
    "# !pip install langchain langchain-openai faiss-cpu python-dotenv rank-bm25"
   ]
  },
  {
   "cell_type": "code",
   "execution_count": 2,
   "id": "imports",
   "metadata": {},
   "outputs": [
    {
     "data": {
      "text/plain": [
       "True"
      ]
     },
     "execution_count": 2,
     "metadata": {},
     "output_type": "execute_result"
    }
   ],
   "source": [
    "# API 키를 환경변수로 관리하기 위한 설정 파일\n",
    "from dotenv import load_dotenv\n",
    "\n",
    "# API 키 정보 로드\n",
    "load_dotenv()"
   ]
  },
  {
   "cell_type": "markdown",
   "id": "basic-implementation",
   "metadata": {},
   "source": [
    "## 3. 기본 구현 <a id='basic-implementation'></a>\n",
    "\n",
    "BM25 retriever와 FAISS retriever를 생성하고, 이를 EnsembleRetriever로 결합합니다."
   ]
  },
  {
   "cell_type": "code",
   "execution_count": 3,
   "id": "create-retrievers",
   "metadata": {},
   "outputs": [],
   "source": [
    "from langchain.retrievers import BM25Retriever, EnsembleRetriever\n",
    "from langchain.vectorstores import FAISS\n",
    "from langchain_openai import OpenAIEmbeddings\n",
    "\n",
    "# 샘플 문서 리스트\n",
    "doc_list = [\n",
    "    \"I like apples\",\n",
    "    \"I like apple company\",\n",
    "    \"I like apple's iphone\",\n",
    "    \"Apple is my favorite company\",\n",
    "    \"I like apple's ipad\",\n",
    "    \"I like apple's macbook\",\n",
    "]\n",
    "\n",
    "# BM25 Retriever 초기화 (Sparse Retriever)\n",
    "# BM25는 전통적인 정보 검색 알고리즘으로, 단어의 빈도와 문서 내 중요도를 기반으로 검색합니다.\n",
    "bm25_retriever = BM25Retriever.from_texts(\n",
    "    doc_list,\n",
    ")\n",
    "bm25_retriever.k = 1  # BM25Retriever의 검색 결과 개수를 1로 설정합니다.\n",
    "\n",
    "# FAISS Retriever 초기화 (Dense Retriever)\n",
    "# FAISS는 벡터 유사도 기반 검색으로, 의미적 유사성을 기반으로 검색합니다.\n",
    "embedding = OpenAIEmbeddings()  # OpenAI 임베딩을 사용합니다.\n",
    "faiss_vectorstore = FAISS.from_texts(\n",
    "    doc_list,\n",
    "    embedding,\n",
    ")\n",
    "faiss_retriever = faiss_vectorstore.as_retriever(search_kwargs={\"k\": 1})\n",
    "\n",
    "# 앙상블 retriever를 초기화합니다.\n",
    "# weights 매개변수로 각 retriever의 가중치를 설정할 수 있습니다.\n",
    "ensemble_retriever = EnsembleRetriever(\n",
    "    retrievers=[bm25_retriever, faiss_retriever],\n",
    "    weights=[0.7, 0.3],  # BM25에 70%, FAISS에 30%의 가중치 부여\n",
    ")"
   ]
  },
  {
   "cell_type": "markdown",
   "id": "comparison",
   "metadata": {},
   "source": [
    "## 4. 검색 결과 비교 <a id='comparison'></a>\n",
    "\n",
    "동일한 쿼리에 대해 각 retriever의 결과를 비교해봅니다."
   ]
  },
  {
   "cell_type": "markdown",
   "id": "test1-desc",
   "metadata": {},
   "source": [
    "### 테스트 1: \"my favorite fruit is apple\"\n",
    "\n",
    "이 쿼리는 'favorite'와 'apple' 키워드를 포함하고 있어 BM25가 유리하며, 'fruit'과 'apple'의 의미적 연관성도 있어 FAISS도 관련 결과를 찾을 수 있습니다."
   ]
  },
  {
   "cell_type": "code",
   "execution_count": 4,
   "id": "test1",
   "metadata": {},
   "outputs": [
    {
     "name": "stdout",
     "output_type": "stream",
     "text": [
      "[Ensemble Retriever]\n",
      "Content: Apple is my favorite company\n",
      "\n",
      "Content: I like apples\n",
      "\n",
      "[BM25 Retriever]\n",
      "Content: Apple is my favorite company\n",
      "\n",
      "[FAISS Retriever]\n",
      "Content: I like apples\n",
      "\n"
     ]
    }
   ],
   "source": [
    "# 검색 결과 문서를 가져옵니다.\n",
    "query = \"my favorite fruit is apple\"\n",
    "ensemble_result = ensemble_retriever.invoke(query)\n",
    "bm25_result = bm25_retriever.invoke(query)\n",
    "faiss_result = faiss_retriever.invoke(query)\n",
    "\n",
    "# 가져온 문서를 출력합니다.\n",
    "print(\"[Ensemble Retriever]\")\n",
    "for doc in ensemble_result:\n",
    "    print(f\"Content: {doc.page_content}\")\n",
    "    print()\n",
    "\n",
    "print(\"[BM25 Retriever]\")\n",
    "for doc in bm25_result:\n",
    "    print(f\"Content: {doc.page_content}\")\n",
    "    print()\n",
    "\n",
    "print(\"[FAISS Retriever]\")\n",
    "for doc in faiss_result:\n",
    "    print(f\"Content: {doc.page_content}\")\n",
    "    print()"
   ]
  },
  {
   "cell_type": "markdown",
   "id": "test2-desc",
   "metadata": {},
   "source": [
    "### 테스트 2: \"Apple company makes my favorite iphone\"\n",
    "\n",
    "이 쿼리는 'Apple company', 'favorite', 'iphone' 등 여러 키워드를 포함하고 있어 각 retriever가 다른 관점에서 관련 문서를 찾을 수 있습니다."
   ]
  },
  {
   "cell_type": "code",
   "execution_count": 5,
   "id": "test2",
   "metadata": {},
   "outputs": [
    {
     "name": "stdout",
     "output_type": "stream",
     "text": [
      "[Ensemble Retriever]\n",
      "Content: Apple is my favorite company\n",
      "\n",
      "Content: I like apple's iphone\n",
      "\n",
      "[BM25 Retriever]\n",
      "Content: Apple is my favorite company\n",
      "\n",
      "[FAISS Retriever]\n",
      "Content: I like apple's iphone\n",
      "\n"
     ]
    }
   ],
   "source": [
    "# 검색 결과 문서를 가져옵니다.\n",
    "query = \"Apple company makes my favorite iphone\"\n",
    "ensemble_result = ensemble_retriever.invoke(query)\n",
    "bm25_result = bm25_retriever.invoke(query)\n",
    "faiss_result = faiss_retriever.invoke(query)\n",
    "\n",
    "# 가져온 문서를 출력합니다.\n",
    "print(\"[Ensemble Retriever]\")\n",
    "for doc in ensemble_result:\n",
    "    print(f\"Content: {doc.page_content}\")\n",
    "    print()\n",
    "\n",
    "print(\"[BM25 Retriever]\")\n",
    "for doc in bm25_result:\n",
    "    print(f\"Content: {doc.page_content}\")\n",
    "    print()\n",
    "\n",
    "print(\"[FAISS Retriever]\")\n",
    "for doc in faiss_result:\n",
    "    print(f\"Content: {doc.page_content}\")\n",
    "    print()"
   ]
  },
  {
   "cell_type": "markdown",
   "id": "analysis",
   "metadata": {},
   "source": [
    "### 결과 분석\n",
    "\n",
    "위의 결과에서 볼 수 있듯이:\n",
    "- **BM25**: 키워드 매칭에 강점을 보입니다 (예: 'favorite', 'company' 등의 정확한 매칭)\n",
    "- **FAISS**: 의미적 유사성에 강점을 보입니다 (예: 'fruit'과 'apple'의 연관성, 'iphone'과 관련된 문맥)\n",
    "- **Ensemble**: 두 방법의 장점을 결합하여 더 포괄적인 결과를 제공합니다"
   ]
  },
  {
   "cell_type": "markdown",
   "id": "runtime-config",
   "metadata": {},
   "source": [
    "## 5. 런타임 Config 변경 <a id='runtime-config'></a>\n",
    "\n",
    "런타임에서도 retriever의 속성을 변경할 수 있습니다. 이는 `ConfigurableField` 클래스를 사용하여 가능합니다.\n",
    "\n",
    "이 기능은 다양한 검색 시나리오에 맞춰 가중치를 동적으로 조정할 때 유용합니다."
   ]
  },
  {
   "cell_type": "code",
   "execution_count": 6,
   "id": "configurable-ensemble",
   "metadata": {},
   "outputs": [],
   "source": [
    "from langchain_core.runnables import ConfigurableField\n",
    "\n",
    "# ConfigurableField를 사용하여 런타임에 가중치를 변경할 수 있도록 설정합니다.\n",
    "ensemble_retriever = EnsembleRetriever(\n",
    "    # 리트리버 목록을 설정합니다. 여기서는 bm25_retriever와 faiss_retriever를 사용합니다.\n",
    "    retrievers=[bm25_retriever, faiss_retriever],\n",
    ").configurable_fields(\n",
    "    weights=ConfigurableField(\n",
    "        # 검색 매개변수의 고유 식별자를 설정합니다.\n",
    "        id=\"ensemble_weights\",\n",
    "        # 검색 매개변수의 이름을 설정합니다.\n",
    "        name=\"Ensemble Weights\",\n",
    "        # 검색 매개변수에 대한 설명을 작성합니다.\n",
    "        description=\"Ensemble Weights for BM25 and FAISS retrievers\",\n",
    "    )\n",
    ")"
   ]
  },
  {
   "cell_type": "markdown",
   "id": "weight-test-desc",
   "metadata": {},
   "source": [
    "### BM25에 100% 가중치 부여\n",
    "\n",
    "키워드 매칭이 중요한 경우 BM25에 모든 가중치를 부여할 수 있습니다."
   ]
  },
  {
   "cell_type": "code",
   "execution_count": 7,
   "id": "bm25-only",
   "metadata": {},
   "outputs": [
    {
     "data": {
      "text/plain": [
       "[Document(page_content='Apple is my favorite company'),\n",
       " Document(page_content='I like apples')]"
      ]
     },
     "execution_count": 7,
     "metadata": {},
     "output_type": "execute_result"
    }
   ],
   "source": [
    "# BM25에 100%, FAISS에 0% 가중치 부여\n",
    "config = {\"configurable\": {\"ensemble_weights\": [1, 0]}}\n",
    "\n",
    "# config 매개변수를 사용하여 검색 설정을 지정합니다.\n",
    "docs = ensemble_retriever.invoke(\"my favorite fruit is apple\", config=config)\n",
    "docs  # 검색 결과인 docs를 출력합니다."
   ]
  },
  {
   "cell_type": "markdown",
   "id": "faiss-test-desc",
   "metadata": {},
   "source": [
    "### FAISS에 100% 가중치 부여\n",
    "\n",
    "의미적 유사성이 중요한 경우 FAISS에 모든 가중치를 부여할 수 있습니다."
   ]
  },
  {
   "cell_type": "code",
   "execution_count": 8,
   "id": "faiss-only",
   "metadata": {},
   "outputs": [
    {
     "data": {
      "text/plain": [
       "[Document(page_content='I like apples'),\n",
       " Document(page_content='Apple is my favorite company')]"
      ]
     },
     "execution_count": 8,
     "metadata": {},
     "output_type": "execute_result"
    }
   ],
   "source": [
    "# BM25에 0%, FAISS에 100% 가중치 부여\n",
    "config = {\"configurable\": {\"ensemble_weights\": [0, 1]}}\n",
    "\n",
    "# config 매개변수를 사용하여 검색 설정을 지정합니다.\n",
    "docs = ensemble_retriever.invoke(\"my favorite fruit is apple\", config=config)\n",
    "docs  # 검색 결과인 docs를 출력합니다."
   ]
  },
  {
   "cell_type": "markdown",
   "id": "balanced-test-desc",
   "metadata": {},
   "source": [
    "### 균형잡힌 가중치 설정\n",
    "\n",
    "다양한 가중치 조합을 테스트하여 최적의 설정을 찾을 수 있습니다."
   ]
  },
  {
   "cell_type": "code",
   "execution_count": 9,
   "id": "balanced-weights",
   "metadata": {},
   "outputs": [
    {
     "name": "stdout",
     "output_type": "stream",
     "text": [
      "Weights [0.5, 0.5]:\n",
      "1. I like apples\n",
      "2. Apple is my favorite company\n",
      "\n",
      "Weights [0.3, 0.7]:\n",
      "1. I like apples\n",
      "2. Apple is my favorite company\n",
      "\n",
      "Weights [0.7, 0.3]:\n",
      "1. Apple is my favorite company\n",
      "2. I like apples\n",
      "\n"
     ]
    }
   ],
   "source": [
    "# 다양한 가중치 조합 테스트\n",
    "weight_combinations = [\n",
    "    [0.5, 0.5],  # 균등 분배\n",
    "    [0.3, 0.7],  # FAISS 중심\n",
    "    [0.7, 0.3],  # BM25 중심\n",
    "]\n",
    "\n",
    "query = \"my favorite fruit is apple\"\n",
    "\n",
    "for weights in weight_combinations:\n",
    "    config = {\"configurable\": {\"ensemble_weights\": weights}}\n",
    "    docs = ensemble_retriever.invoke(query, config=config)\n",
    "    \n",
    "    print(f\"Weights {weights}:\")\n",
    "    for i, doc in enumerate(docs, 1):\n",
    "        print(f\"{i}. {doc.page_content}\")\n",
    "    print()"
   ]
  },
  {
   "cell_type": "markdown",
   "id": "summary",
   "metadata": {},
   "source": [
    "## 6. 요약 <a id='summary'></a>\n",
    "\n",
    "이 노트북에서는 LangChain의 `EnsembleRetriever`를 사용하여 하이브리드 검색 시스템을 구현했습니다.\n",
    "\n",
    "### 핵심 포인트\n",
    "\n",
    "1. **EnsembleRetriever의 장점**\n",
    "   - 여러 검색 알고리즘의 장점을 결합\n",
    "   - Reciprocal Rank Fusion을 통한 효과적인 결과 통합\n",
    "   - 유연한 가중치 조정\n",
    "\n",
    "2. **BM25 vs FAISS**\n",
    "   - BM25: 정확한 키워드 매칭에 효과적\n",
    "   - FAISS: 의미적 유사성 검색에 효과적\n",
    "   - 두 방법의 조합으로 더 나은 검색 결과 달성\n",
    "\n",
    "3. **동적 설정**\n",
    "   - ConfigurableField를 통한 런타임 가중치 조정\n",
    "   - 다양한 검색 시나리오에 맞춘 최적화 가능\n",
    "\n",
    "### 활용 시나리오\n",
    "\n",
    "- **문서 검색 시스템**: 사용자 쿼리의 특성에 따라 가중치 조정\n",
    "- **FAQ 시스템**: 키워드와 의미적 검색을 모두 활용\n",
    "- **추천 시스템**: 다양한 관점에서의 유사 아이템 검색\n",
    "\n",
    "### 참고 자료\n",
    "\n",
    "- [LangChain EnsembleRetriever 문서](https://python.langchain.com/docs/modules/data_connection/retrievers/ensemble)\n",
    "- [Reciprocal Rank Fusion 논문](https://plg.uwaterloo.ca/~gvcormac/cormacksigir09-rrf.pdf)\n",
    "- [BM25 알고리즘 설명](https://en.wikipedia.org/wiki/Okapi_BM25)\n",
    "- [FAISS 라이브러리](https://github.com/facebookresearch/faiss)"
   ]
  }
 ],
 "metadata": {
  "kernelspec": {
   "display_name": "Python 3",
   "language": "python",
   "name": "python3"
  },
  "language_info": {
   "codemirror_mode": {
    "name": "ipython",
    "version": 3
   },
   "file_extension": ".py",
   "mimetype": "text/x-python",
   "name": "python",
   "nbconvert_exporter": "python",
   "pygments_lexer": "ipython3",
   "version": "3.11.0"
  }
 },
 "nbformat": 4,
 "nbformat_minor": 5
}