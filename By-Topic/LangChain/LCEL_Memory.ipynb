{
 "cells": [
  {
   "cell_type": "markdown",
   "metadata": {},
   "source": [
    "# LCEL (LangChain Expression Language) 메모리 통합\n",
    "\n",
    "이 노트북에서는 LCEL 체인에 메모리를 추가하여 대화 내용을 기억하는 방법을 학습합니다.\n",
    "\n",
    "## 주요 학습 내용\n",
    "- ConversationBufferMemory를 LCEL 체인에 통합하는 방법\n",
    "- RunnablePassthrough와 RunnableLambda를 활용한 메모리 연결\n",
    "- MessagesPlaceholder를 사용한 대화 기록 관리\n",
    "- 수동으로 메모리를 저장하고 불러오는 과정"
   ]
  },
  {
   "cell_type": "markdown",
   "metadata": {},
   "source": [
    "## 환경 설정"
   ]
  },
  {
   "cell_type": "code",
   "execution_count": 1,
   "metadata": {},
   "outputs": [
    {
     "data": {
      "text/plain": [
       "True"
      ]
     },
     "execution_count": 1,
     "metadata": {},
     "output_type": "execute_result"
    }
   ],
   "source": [
    "from dotenv import load_dotenv\n",
    "\n",
    "# 환경 변수 로드\n",
    "load_dotenv()"
   ]
  },
  {
   "cell_type": "markdown",
   "metadata": {},
   "source": [
    "## 필요한 라이브러리 임포트 및 기본 설정"
   ]
  },
  {
   "cell_type": "code",
   "execution_count": 2,
   "metadata": {},
   "outputs": [],
   "source": [
    "from operator import itemgetter\n",
    "from langchain.memory import ConversationBufferMemory\n",
    "from langchain_core.prompts import ChatPromptTemplate, MessagesPlaceholder\n",
    "from langchain_core.runnables import RunnableLambda, RunnablePassthrough\n",
    "from langchain_openai import ChatOpenAI\n",
    "\n",
    "# ChatOpenAI 모델을 초기화합니다.\n",
    "model = ChatOpenAI()\n",
    "\n",
    "# 대화형 프롬프트를 생성합니다.\n",
    "# 이 프롬프트는 시스템 메시지, 이전 대화 내역, 그리고 사용자 입력을 포함합니다.\n",
    "prompt = ChatPromptTemplate.from_messages(\n",
    "    [\n",
    "        (\"system\", \"You are a helpful chatbot\"),\n",
    "        MessagesPlaceholder(variable_name=\"chat_history\"),  # 대화 기록을 위한 placeholder\n",
    "        (\"human\", \"{input}\"),\n",
    "    ]\n",
    ")"
   ]
  },
  {
   "cell_type": "markdown",
   "metadata": {},
   "source": [
    "## ConversationBufferMemory 생성\n",
    "\n",
    "대화 내용을 저장할 메모리를 생성합니다.\n",
    "\n",
    "- `return_messages=True`: 메시지 형태로 반환하도록 설정\n",
    "- `memory_key=\"chat_history\"`: 프롬프트의 MessagesPlaceholder와 일치하는 키 설정"
   ]
  },
  {
   "cell_type": "code",
   "execution_count": 3,
   "metadata": {},
   "outputs": [
    {
     "name": "stderr",
     "output_type": "stream",
     "text": [
      "C:\\Users\\cava2\\AppData\\Local\\Temp\\ipykernel_11084\\2260825137.py:2: LangChainDeprecationWarning: Please see the migration guide at: https://python.langchain.com/docs/versions/migrating_memory/\n",
      "  memory = ConversationBufferMemory(return_messages=True, memory_key=\"chat_history\")\n"
     ]
    }
   ],
   "source": [
    "# 대화 버퍼 메모리를 생성하고, 메시지 반환 기능을 활성화합니다.\n",
    "memory = ConversationBufferMemory(return_messages=True, memory_key=\"chat_history\")"
   ]
  },
  {
   "cell_type": "code",
   "execution_count": 4,
   "metadata": {},
   "outputs": [
    {
     "data": {
      "text/plain": [
       "{'chat_history': []}"
      ]
     },
     "execution_count": 4,
     "metadata": {},
     "output_type": "execute_result"
    }
   ],
   "source": [
    "# 현재 메모리 상태 확인 (비어있음)\n",
    "memory.load_memory_variables({})"
   ]
  },
  {
   "cell_type": "markdown",
   "metadata": {},
   "source": [
    "## RunnablePassthrough를 사용한 메모리 연결\n",
    "\n",
    "`RunnablePassthrough.assign`을 사용하여 입력 데이터에 대화 기록을 추가합니다."
   ]
  },
  {
   "cell_type": "code",
   "execution_count": 5,
   "metadata": {},
   "outputs": [],
   "source": [
    "# RunnablePassthrough를 사용하여 chat_history 변수에 메모리 내용을 할당\n",
    "runnable = RunnablePassthrough.assign(\n",
    "    chat_history=RunnableLambda(memory.load_memory_variables)\n",
    "    | itemgetter(\"chat_history\")  # memory_key와 동일하게 입력\n",
    ")"
   ]
  },
  {
   "cell_type": "code",
   "execution_count": 6,
   "metadata": {},
   "outputs": [
    {
     "data": {
      "text/plain": [
       "{'input': 'hi', 'chat_history': []}"
      ]
     },
     "execution_count": 6,
     "metadata": {},
     "output_type": "execute_result"
    }
   ],
   "source": [
    "# runnable 테스트 - input과 함께 chat_history가 추가됨\n",
    "runnable.invoke({\"input\": \"hi\"})"
   ]
  },
  {
   "cell_type": "markdown",
   "metadata": {},
   "source": [
    "## 전체 체인 구성"
   ]
  },
  {
   "cell_type": "code",
   "execution_count": 9,
   "metadata": {},
   "outputs": [],
   "source": [
    "# runnable -> prompt -> model 순서로 체인 구성\n",
    "chain = runnable | prompt | model"
   ]
  },
  {
   "cell_type": "markdown",
   "metadata": {},
   "source": [
    "## 메모리를 활용한 대화 시작"
   ]
  },
  {
   "cell_type": "code",
   "execution_count": 10,
   "metadata": {},
   "outputs": [
    {
     "name": "stdout",
     "output_type": "stream",
     "text": [
      "만나서 반가워요, 홍기님! 무엇을 도와드릴까요?\n"
     ]
    }
   ],
   "source": [
    "# 첫 번째 대화: 자기소개\n",
    "response = chain.invoke({\"input\": \"만나서 반갑습니다. 제 이름은 홍기입니다.\"})\n",
    "print(response.content)"
   ]
  },
  {
   "cell_type": "code",
   "execution_count": 11,
   "metadata": {},
   "outputs": [
    {
     "data": {
      "text/plain": [
       "{'chat_history': []}"
      ]
     },
     "execution_count": 11,
     "metadata": {},
     "output_type": "execute_result"
    }
   ],
   "source": [
    "# 아직 메모리에 저장하지 않았으므로 비어있음\n",
    "memory.load_memory_variables({})"
   ]
  },
  {
   "cell_type": "markdown",
   "metadata": {},
   "source": [
    "## 대화 내용을 메모리에 저장"
   ]
  },
  {
   "cell_type": "code",
   "execution_count": 12,
   "metadata": {},
   "outputs": [
    {
     "data": {
      "text/plain": [
       "{'chat_history': [HumanMessage(content='만나서 반갑습니다. 제 이름은 홍기입니다.', additional_kwargs={}, response_metadata={}),\n",
       "  AIMessage(content='만나서 반가워요, 홍기님! 무엇을 도와드릴까요?', additional_kwargs={}, response_metadata={})]}"
      ]
     },
     "execution_count": 12,
     "metadata": {},
     "output_type": "execute_result"
    }
   ],
   "source": [
    "# 입력과 응답을 메모리에 저장\n",
    "memory.save_context(\n",
    "    {\"human\": \"만나서 반갑습니다. 제 이름은 홍기입니다.\"}, \n",
    "    {\"ai\": response.content}\n",
    ")\n",
    "\n",
    "# 저장된 대화 기록 확인\n",
    "memory.load_memory_variables({})"
   ]
  },
  {
   "cell_type": "markdown",
   "metadata": {},
   "source": [
    "## 메모리를 활용한 연속 대화"
   ]
  },
  {
   "cell_type": "code",
   "execution_count": 13,
   "metadata": {},
   "outputs": [
    {
     "name": "stdout",
     "output_type": "stream",
     "text": [
      "네, 홍기님의 이름을 기억하고 있어요. 어떻게 도와드릴까요?\n"
     ]
    }
   ],
   "source": [
    "# 이전 대화 내용을 기억하는지 확인\n",
    "response = chain.invoke({\"input\": \"제 이름이 무엇이었는지 기억하세요?\"})\n",
    "print(response.content)"
   ]
  },
  {
   "cell_type": "markdown",
   "metadata": {},
   "source": [
    "## 요약\n",
    "\n",
    "이 노트북에서는 LCEL 체인에 메모리를 통합하는 방법을 학습했습니다:\n",
    "\n",
    "1. **ConversationBufferMemory**: 대화 내용을 저장하는 메모리 클래스\n",
    "2. **MessagesPlaceholder**: 프롬프트 템플릿에서 대화 기록을 삽입할 위치 지정\n",
    "3. **RunnablePassthrough.assign**: 입력 데이터에 메모리 내용을 추가\n",
    "4. **수동 메모리 관리**: `save_context()`를 통해 대화 내용을 명시적으로 저장\n",
    "\n",
    "### 주의사항\n",
    "- 현재 LCEL에서는 메모리를 수동으로 관리해야 합니다\n",
    "- 각 대화 후 `save_context()`를 호출하여 대화 내용을 저장해야 합니다\n",
    "- memory_key와 MessagesPlaceholder의 variable_name이 일치해야 합니다"
   ]
  }
 ],
 "metadata": {
  "kernelspec": {
   "display_name": "Python 3",
   "language": "python",
   "name": "python3"
  },
  "language_info": {
   "codemirror_mode": {
    "name": "ipython",
    "version": 3
   },
   "file_extension": ".py",
   "mimetype": "text/x-python",
   "name": "python",
   "nbconvert_exporter": "python",
   "pygments_lexer": "ipython3",
   "version": "3.11.11"
  }
 },
 "nbformat": 4,
 "nbformat_minor": 2
}