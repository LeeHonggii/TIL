{
 "cells": [
  {
   "cell_type": "markdown",
   "metadata": {},
   "source": [
    "# SelfQueryRetriever로 메타데이터 기반 자동 필터링\n",
    "\n",
    "`SelfQueryRetriever`는 자연어 질의를 구조화된 쿼리로 자동 변환하여 메타데이터 기반 필터링을 수행하는 강력한 검색 도구입니다.\n",
    "\n",
    "## 주요 특징\n",
    "- 자연어 질의를 구조화된 쿼리로 자동 변환\n",
    "- 메타데이터 필터 자동 추출 및 적용\n",
    "- 의미적 유사성 검색과 메타데이터 필터링 결합\n",
    "- 다양한 벡터 데이터베이스 지원\n",
    "\n",
    "## 작동 원리\n",
    "1. 사용자의 자연어 질의 입력\n",
    "2. Query-constructing LLM chain이 구조화된 쿼리 생성\n",
    "3. 구조화된 쿼리를 VectorStore에 적용\n",
    "4. 필터링된 결과 반환\n",
    "\n",
    "[참고] LangChain이 지원하는 셀프 쿼리 검색기 목록: https://python.langchain.com/docs/integrations/retrievers/self_query"
   ]
  },
  {
   "cell_type": "code",
   "execution_count": 1,
   "metadata": {},
   "outputs": [],
   "source": [
    "# API 키를 환경변수로 관리하기 위한 설정 파일\n",
    "from dotenv import load_dotenv\n",
    "\n",
    "# API 키 정보 로드\n",
    "load_dotenv()"
   ]
  },
  {
   "cell_type": "markdown",
   "metadata": {},
   "source": [
    "## 1. 샘플 데이터 및 벡터 저장소 생성\n",
    "\n",
    "화장품 상품 정보를 담은 문서와 메타데이터를 준비하고, 벡터 저장소를 구축합니다."
   ]
  },
  {
   "cell_type": "code",
   "execution_count": 2,
   "metadata": {},
   "outputs": [],
   "source": [
    "from langchain_chroma import Chroma\n",
    "from langchain_core.documents import Document\n",
    "from langchain_openai import OpenAIEmbeddings\n",
    "\n",
    "# 화장품 상품의 설명과 메타데이터 생성\n",
    "docs = [\n",
    "    Document(\n",
    "        page_content=\"수분 가득한 히알루론산 세럼으로 피부 속 깊은 곳까지 수분을 공급합니다.\",\n",
    "        metadata={\"year\": 2024, \"category\": \"스킨케어\", \"user_rating\": 4.7},\n",
    "    ),\n",
    "    Document(\n",
    "        page_content=\"24시간 지속되는 매트한 피니시의 파운데이션, 모공을 커버하고 자연스러운 피부 표현이 가능합니다.\",\n",
    "        metadata={\"year\": 2023, \"category\": \"메이크업\", \"user_rating\": 4.5},\n",
    "    ),\n",
    "    Document(\n",
    "        page_content=\"식물성 성분으로 만든 저자극 클렌징 오일, 메이크업과 노폐물을 부드럽게 제거합니다.\",\n",
    "        metadata={\"year\": 2023, \"category\": \"클렌징\", \"user_rating\": 4.8},\n",
    "    ),\n",
    "    Document(\n",
    "        page_content=\"비타민 C 함유 브라이트닝 크림, 칙칙한 피부톤을 환하게 밝혀줍니다.\",\n",
    "        metadata={\"year\": 2023, \"category\": \"스킨케어\", \"user_rating\": 4.6},\n",
    "    ),\n",
    "    Document(\n",
    "        page_content=\"롱래스팅 립스틱, 선명한 발색과 촉촉한 사용감으로 하루종일 편안하게 사용 가능합니다.\",\n",
    "        metadata={\"year\": 2024, \"category\": \"메이크업\", \"user_rating\": 4.4},\n",
    "    ),\n",
    "    Document(\n",
    "        page_content=\"자외선 차단 기능이 있는 톤업 선크림, SPF50+/PA++++ 높은 자외선 차단 지수로 피부를 보호합니다.\",\n",
    "        metadata={\"year\": 2024, \"category\": \"선케어\", \"user_rating\": 4.9},\n",
    "    ),\n",
    "]\n",
    "\n",
    "# 벡터 저장소 생성\n",
    "vectorstore = Chroma.from_documents(\n",
    "    docs, OpenAIEmbeddings(model=\"text-embedding-3-small\")\n",
    ")"
   ]
  },
  {
   "cell_type": "markdown",
   "metadata": {},
   "source": [
    "## 2. 메타데이터 필드 정의\n",
    "\n",
    "`AttributeInfo` 클래스를 사용하여 각 메타데이터 필드의 정보를 정의합니다.\n",
    "이 정보는 LLM이 자연어 질의에서 적절한 필터를 추출하는 데 사용됩니다."
   ]
  },
  {
   "cell_type": "code",
   "execution_count": 3,
   "metadata": {},
   "outputs": [],
   "source": [
    "from langchain.chains.query_constructor.base import AttributeInfo\n",
    "\n",
    "# 메타데이터 필드 정보 생성\n",
    "metadata_field_info = [\n",
    "    AttributeInfo(\n",
    "        name=\"category\",\n",
    "        description=\"The category of the cosmetic product. One of ['스킨케어', '메이크업', '클렌징', '선케어']\",\n",
    "        type=\"string\",\n",
    "    ),\n",
    "    AttributeInfo(\n",
    "        name=\"year\",\n",
    "        description=\"The year the cosmetic product was released\",\n",
    "        type=\"integer\",\n",
    "    ),\n",
    "    AttributeInfo(\n",
    "        name=\"user_rating\",\n",
    "        description=\"A user rating for the cosmetic product, ranging from 1 to 5\",\n",
    "        type=\"float\",\n",
    "    ),\n",
    "]"
   ]
  },
  {
   "cell_type": "markdown",
   "metadata": {},
   "source": [
    "## 3. SelfQueryRetriever 생성\n",
    "\n",
    "`SelfQueryRetriever.from_llm()` 메서드를 사용하여 retriever를 생성합니다."
   ]
  },
  {
   "cell_type": "code",
   "execution_count": 4,
   "metadata": {},
   "outputs": [],
   "source": [
    "from langchain.retrievers.self_query.base import SelfQueryRetriever\n",
    "from langchain_openai import ChatOpenAI\n",
    "\n",
    "# LLM 정의\n",
    "llm = ChatOpenAI(model=\"gpt-4o-mini\", temperature=0)\n",
    "\n",
    "# SelfQueryRetriever 생성\n",
    "retriever = SelfQueryRetriever.from_llm(\n",
    "    llm=llm,\n",
    "    vectorstore=vectorstore,\n",
    "    document_contents=\"Brief summary of a cosmetic product\",\n",
    "    metadata_field_info=metadata_field_info,\n",
    ")"
   ]
  },
  {
   "cell_type": "markdown",
   "metadata": {},
   "source": [
    "## 4. 기본 Query 테스트\n",
    "\n",
    "자연어 질의를 통해 메타데이터 필터링이 자동으로 수행되는 것을 확인합니다."
   ]
  },
  {
   "cell_type": "code",
   "execution_count": 5,
   "metadata": {},
   "outputs": [
    {
     "name": "stdout",
     "output_type": "stream",
     "text": [
      "평점 4.8 이상 제품:\n",
      "- 자외선 차단 기능이 있는 톤업 선크림 (선케어, 평점: 4.9)\n",
      "- 식물성 성분으로 만든 저자극 클렌징 오일 (클렌징, 평점: 4.8)\n"
     ]
    }
   ],
   "source": [
    "# 평점 기반 필터링\n",
    "results = retriever.invoke(\"평점이 4.8 이상인 제품을 추천해주세요\")\n",
    "print(\"평점 4.8 이상 제품:\")\n",
    "for doc in results:\n",
    "    print(f\"- {doc.page_content[:30]}... ({doc.metadata['category']}, 평점: {doc.metadata['user_rating']})\")"
   ]
  },
  {
   "cell_type": "code",
   "execution_count": 6,
   "metadata": {},
   "outputs": [
    {
     "name": "stdout",
     "output_type": "stream",
     "text": [
      "\n",
      "2023년 출시 제품:\n",
      "- 24시간 지속되는 매트한 피니시의 파운데이션 (메이크업, 2023년)\n",
      "- 비타민 C 함유 브라이트닝 크림 (스킨케어, 2023년)\n",
      "- 식물성 성분으로 만든 저자극 클렌징 오일 (클렌징, 2023년)\n"
     ]
    }
   ],
   "source": [
    "# 연도 기반 필터링\n",
    "results = retriever.invoke(\"2023년에 출시된 상품을 추천해주세요\")\n",
    "print(\"\\n2023년 출시 제품:\")\n",
    "for doc in results:\n",
    "    print(f\"- {doc.page_content[:30]}... ({doc.metadata['category']}, {doc.metadata['year']}년)\")"
   ]
  },
  {
   "cell_type": "code",
   "execution_count": 7,
   "metadata": {},
   "outputs": [
    {
     "name": "stdout",
     "output_type": "stream",
     "text": [
      "\n",
      "선케어 카테고리 제품:\n",
      "- 자외선 차단 기능이 있는 톤업 선크림 (선케어)\n"
     ]
    }
   ],
   "source": [
    "# 카테고리 기반 필터링\n",
    "results = retriever.invoke(\"카테고리가 선케어인 상품을 추천해주세요\")\n",
    "print(\"\\n선케어 카테고리 제품:\")\n",
    "for doc in results:\n",
    "    print(f\"- {doc.page_content[:30]}... ({doc.metadata['category']})\")"
   ]
  },
  {
   "cell_type": "code",
   "execution_count": 8,
   "metadata": {},
   "outputs": [
    {
     "name": "stdout",
     "output_type": "stream",
     "text": [
      "\n",
      "복합 조건 검색 결과:\n",
      "- 24시간 지속되는 매트한 피니시의 파운데이션 (메이크업, 평점: 4.5)\n"
     ]
    }
   ],
   "source": [
    "# 복합 조건 필터링\n",
    "results = retriever.invoke(\n",
    "    \"카테고리가 메이크업인 상품 중에서 평점이 4.5 이상인 상품을 추천해주세요\"\n",
    ")\n",
    "print(\"\\n복합 조건 검색 결과:\")\n",
    "for doc in results:\n",
    "    print(f\"- {doc.page_content[:30]}... ({doc.metadata['category']}, 평점: {doc.metadata['user_rating']})\")"
   ]
  },
  {
   "cell_type": "markdown",
   "metadata": {},
   "source": [
    "## 5. 검색 결과 개수 제한\n",
    "\n",
    "`enable_limit=True`를 설정하면 검색 결과 개수를 제한할 수 있습니다."
   ]
  },
  {
   "cell_type": "code",
   "execution_count": 9,
   "metadata": {},
   "outputs": [
    {
     "name": "stdout",
     "output_type": "stream",
     "text": [
      "검색 결과 (최대 2개):\n",
      "- 24시간 지속되는 매트한 피니시의 파운데이션 (2023년)\n",
      "- 비타민 C 함유 브라이트닝 크림 (2023년)\n"
     ]
    }
   ],
   "source": [
    "# 검색 결과 개수 제한 설정\n",
    "retriever = SelfQueryRetriever.from_llm(\n",
    "    llm=llm,\n",
    "    vectorstore=vectorstore,\n",
    "    document_contents=\"Brief summary of a cosmetic product\",\n",
    "    metadata_field_info=metadata_field_info,\n",
    "    enable_limit=True,  # 검색 결과 제한 기능 활성화\n",
    "    search_kwargs={\"k\": 2},  # 최대 2개 결과 반환\n",
    ")\n",
    "\n",
    "results = retriever.invoke(\"2023년에 출시된 상품을 추천해주세요\")\n",
    "print(\"검색 결과 (최대 2개):\")\n",
    "for doc in results:\n",
    "    print(f\"- {doc.page_content[:30]}... ({doc.metadata['year']}년)\")"
   ]
  },
  {
   "cell_type": "code",
   "execution_count": 10,
   "metadata": {},
   "outputs": [
    {
     "name": "stdout",
     "output_type": "stream",
     "text": [
      "\n",
      "쿼리에서 개수 지정 (1개):\n",
      "- 24시간 지속되는 매트한 피니시의 파운데이션 (2023년)\n"
     ]
    }
   ],
   "source": [
    "# 쿼리에서 직접 개수 지정\n",
    "retriever = SelfQueryRetriever.from_llm(\n",
    "    llm=llm,\n",
    "    vectorstore=vectorstore,\n",
    "    document_contents=\"Brief summary of a cosmetic product\",\n",
    "    metadata_field_info=metadata_field_info,\n",
    "    enable_limit=True,\n",
    ")\n",
    "\n",
    "results = retriever.invoke(\"2023년에 출시된 상품 1개를 추천해주세요\")\n",
    "print(\"\\n쿼리에서 개수 지정 (1개):\")\n",
    "for doc in results:\n",
    "    print(f\"- {doc.page_content[:30]}... ({doc.metadata['year']}년)\")"
   ]
  },
  {
   "cell_type": "code",
   "execution_count": 11,
   "metadata": {},
   "outputs": [
    {
     "name": "stdout",
     "output_type": "stream",
     "text": [
      "\n",
      "쿼리에서 개수 지정 (2개):\n",
      "- 24시간 지속되는 매트한 피니시의 파운데이션 (2023년)\n",
      "- 비타민 C 함유 브라이트닝 크림 (2023년)\n"
     ]
    }
   ],
   "source": [
    "results = retriever.invoke(\"2023년에 출시된 상품 2개를 추천해주세요\")\n",
    "print(\"\\n쿼리에서 개수 지정 (2개):\")\n",
    "for doc in results:\n",
    "    print(f\"- {doc.page_content[:30]}... ({doc.metadata['year']}년)\")"
   ]
  },
  {
   "cell_type": "markdown",
   "metadata": {},
   "source": [
    "## 6. Query Constructor Chain 상세 분석\n",
    "\n",
    "SelfQueryRetriever의 핵심인 Query Constructor가 어떻게 작동하는지 살펴봅니다."
   ]
  },
  {
   "cell_type": "code",
   "execution_count": 12,
   "metadata": {},
   "outputs": [],
   "source": [
    "from langchain.chains.query_constructor.base import (\n",
    "    StructuredQueryOutputParser,\n",
    "    get_query_constructor_prompt,\n",
    ")\n",
    "\n",
    "# Query Constructor 프롬프트 생성\n",
    "prompt = get_query_constructor_prompt(\n",
    "    \"Brief summary of a cosmetic product\",\n",
    "    metadata_field_info,\n",
    ")\n",
    "\n",
    "# 구조화된 쿼리 출력 파서\n",
    "output_parser = StructuredQueryOutputParser.from_components()\n",
    "\n",
    "# Query Constructor Chain 생성\n",
    "query_constructor = prompt | llm | output_parser"
   ]
  },
  {
   "cell_type": "code",
   "execution_count": 13,
   "metadata": {},
   "outputs": [
    {
     "name": "stdout",
     "output_type": "stream",
     "text": [
      "=== Query Constructor Prompt (일부) ===\n",
      "\n",
      "Your goal is to structure the user's query to match the request schema provided below.\n",
      "\n",
      "<< Structured Request Schema >>\n",
      "When responding use a markdown code snippet with a JSON object formatted in the following schema:\n",
      "\n",
      "```json\n",
      "{\n",
      "    \"query\": string \\ text string to compare to document contents\n",
      "    \"filter\": string \\ logical condition statement for filtering documents\n",
      "}\n",
      "```\n",
      "\n",
      "...(중략)...\n",
      "\n",
      "Attributes:\n",
      "- category: 화장품 카테고리 ['스킨케어', '메이크업', '클렌징', '선케어']\n",
      "- year: 출시 연도\n",
      "- user_rating: 사용자 평점 (1-5)\n"
     ]
    }
   ],
   "source": [
    "# 프롬프트 내용 확인 (일부)\n",
    "prompt_text = prompt.format(query=\"dummy question\")\n",
    "print(\"=== Query Constructor Prompt (일부) ===\")\n",
    "print(\"\\n\" + prompt_text[:400] + \"\\n....(중략)...\\n\")\n",
    "print(\"Attributes:\")\n",
    "print(\"- category: 화장품 카테고리 ['스킨케어', '메이크업', '클렌징', '선케어']\")\n",
    "print(\"- year: 출시 연도\")\n",
    "print(\"- user_rating: 사용자 평점 (1-5)\")"
   ]
  },
  {
   "cell_type": "code",
   "execution_count": 14,
   "metadata": {},
   "outputs": [
    {
     "name": "stdout",
     "output_type": "stream",
     "text": [
      "생성된 구조화 쿼리:\n",
      "- Query: \n",
      "- Filter conditions:\n",
      "  - year >= 2023\n",
      "  - user_rating >= 4.5\n",
      "  - category == 스킨케어\n"
     ]
    }
   ],
   "source": [
    "# Query Constructor 테스트\n",
    "query_output = query_constructor.invoke(\n",
    "    {\"query\": \"2023년도에 출시한 상품 중 평점이 4.5 이상인 상품중에서 스킨케어 제품을 추천해주세요\"}\n",
    ")\n",
    "\n",
    "print(\"생성된 구조화 쿼리:\")\n",
    "print(f\"- Query: {query_output.query}\")\n",
    "print(\"- Filter conditions:\")\n",
    "for condition in query_output.filter.arguments:\n",
    "    print(f\"  - {condition.attribute} {condition.comparator.value} {condition.value}\")"
   ]
  },
  {
   "cell_type": "markdown",
   "metadata": {},
   "source": [
    "## 7. 커스텀 Structured Query Translator 사용\n",
    "\n",
    "특정 벡터 데이터베이스에 맞는 Query Translator를 사용하여 더 정밀한 제어가 가능합니다."
   ]
  },
  {
   "cell_type": "code",
   "execution_count": 15,
   "metadata": {},
   "outputs": [
    {
     "name": "stdout",
     "output_type": "stream",
     "text": [
      "커스텀 검색 결과:\n",
      "- 비타민 C 함유 브라이트닝 크림 (스킨케어, 2023년, 평점: 4.6)\n",
      "- 수분 가득한 히알루론산 세럼 (스킨케어, 2024년, 평점: 4.7)\n"
     ]
    }
   ],
   "source": [
    "from langchain.retrievers.self_query.chroma import ChromaTranslator\n",
    "\n",
    "# 커스텀 Retriever 생성\n",
    "retriever = SelfQueryRetriever(\n",
    "    query_constructor=query_constructor,\n",
    "    vectorstore=vectorstore,\n",
    "    structured_query_translator=ChromaTranslator(),  # Chroma 전용 변환기\n",
    ")\n",
    "\n",
    "results = retriever.invoke(\n",
    "    \"2023년도에 출시한 상품 중 평점이 4.5 이상인 상품중에서 스킨케어 제품을 추천해주세요\"\n",
    ")\n",
    "\n",
    "print(\"커스텀 검색 결과:\")\n",
    "for doc in results:\n",
    "    meta = doc.metadata\n",
    "    print(f\"- {doc.page_content[:20]}... ({meta['category']}, {meta['year']}년, 평점: {meta['user_rating']})\")"
   ]
  },
  {
   "cell_type": "markdown",
   "metadata": {},
   "source": [
    "## 핵심 요약\n",
    "\n",
    "### SelfQueryRetriever의 장점\n",
    "1. **자동 필터 추출**: 자연어에서 메타데이터 필터를 자동으로 추출\n",
    "2. **유연한 검색**: 의미적 유사성과 메타데이터 필터링을 동시에 수행\n",
    "3. **복잡한 쿼리 지원**: AND, OR, NOT 등의 논리 연산자 자동 적용\n",
    "4. **다양한 데이터 타입**: 문자열, 정수, 실수 등 다양한 메타데이터 타입 지원\n",
    "\n",
    "### 최적화 팁\n",
    "1. **명확한 메타데이터 설명**: AttributeInfo의 description을 구체적으로 작성\n",
    "2. **적절한 LLM 선택**: 복잡한 쿼리에는 더 강력한 LLM 사용\n",
    "3. **프롬프트 튜닝**: 필요시 query_constructor 프롬프트 커스터마이징\n",
    "4. **벡터 DB 선택**: 사용 케이스에 맞는 벡터 데이터베이스와 translator 선택\n",
    "\n",
    "### 사용 시 주의사항\n",
    "- 메타데이터 필드가 많을수록 LLM 토큰 사용량 증가\n",
    "- 복잡한 쿼리는 추가적인 LLM 호출 비용 발생\n",
    "- 벡터 데이터베이스별로 지원하는 필터 연산자가 다를 수 있음"
   ]
  }
 ],
 "metadata": {
  "kernelspec": {
   "display_name": "Python 3",
   "language": "python",
   "name": "python3"
  },
  "language_info": {
   "codemirror_mode": {
    "name": "ipython",
    "version": 3
   },
   "file_extension": ".py",
   "mimetype": "text/x-python",
   "name": "python",
   "nbconvert_exporter": "python",
   "pygments_lexer": "ipython3",
   "version": "3.11.0"
  }
 },
 "nbformat": 4,
 "nbformat_minor": 4
}