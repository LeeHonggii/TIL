{
 "cells": [
  {
   "cell_type": "markdown",
   "metadata": {},
   "source": [
    "# LangChain Runnable 컴포넌트\n",
    "\n",
    "이 노트북에서는 LangChain의 다양한 Runnable 컴포넌트들을 살펴보겠습니다:\n",
    "\n",
    "- [기본 체인 구성](#기본-체인-구성)\n",
    "- [RunnablePassthrough](#runnablepassthrough): 입력을 그대로 전달하거나 키를 추가\n",
    "- [RunnableLambda](#runnablelambda): 정의된 함수를 체인에 통합\n",
    "- [RunnableParallel](#runnableparallel): 여러 체인을 병렬로 실행\n",
    "- [itemgetter](#itemgetter): 딕셔너리 값을 쉽게 접근"
   ]
  },
  {
   "cell_type": "code",
   "execution_count": null,
   "metadata": {},
   "outputs": [],
   "source": [
    "from dotenv import load_dotenv\n",
    "\n",
    "load_dotenv()"
   ]
  },
  {
   "cell_type": "markdown",
   "metadata": {},
   "source": [
    "## 기본 체인 구성\n",
    "\n",
    "LangChain에서는 파이프라인(`|`) 연산자를 사용하여 체인을 쉽게 구성할 수 있습니다."
   ]
  },
  {
   "cell_type": "code",
   "execution_count": null,
   "metadata": {},
   "outputs": [],
   "source": [
    "from langchain_core.prompts import PromptTemplate\n",
    "from langchain_openai import ChatOpenAI\n",
    "\n",
    "\n",
    "# prompt와 llm을 생성\n",
    "prompt = PromptTemplate.from_template(\"{num}의 제곱은?\")\n",
    "llm = ChatOpenAI(temperature=0)\n",
    "\n",
    "# 파이프라인 연산자로 체인 구성\n",
    "chain = prompt | llm"
   ]
  },
  {
   "cell_type": "code",
   "execution_count": null,
   "metadata": {},
   "outputs": [],
   "source": [
    "# 딕셔너리로 입력값 전달\n",
    "chain.invoke({\"num\": 5})"
   ]
  },
  {
   "cell_type": "code",
   "execution_count": null,
   "metadata": {},
   "outputs": [],
   "source": [
    "# 값이 하나일 경우 딕셔너리가 아니어도 작동\n",
    "chain.invoke(5)"
   ]
  },
  {
   "cell_type": "markdown",
   "metadata": {},
   "source": [
    "## RunnablePassthrough\n",
    "\n",
    "`RunnablePassthrough`는 입력을 변경하지 않거나 추가 키를 더하여 전달할 수 있습니다.\n",
    "\n",
    "- `RunnablePassthrough()`가 단독으로 호출되면, 단순히 입력을 받아 그대로 전달합니다.\n",
    "- `RunnablePassthrough.assign(...)`으로 호출되면, 입력을 받아 assign 함수에 전달된 추가 인수를 추가합니다."
   ]
  },
  {
   "cell_type": "code",
   "execution_count": null,
   "metadata": {},
   "outputs": [],
   "source": [
    "from langchain_core.runnables import RunnablePassthrough\n",
    "\n",
    "# 입력을 그대로 전달\n",
    "RunnablePassthrough().invoke({\"num\": 10})"
   ]
  },
  {
   "cell_type": "code",
   "execution_count": null,
   "metadata": {},
   "outputs": [],
   "source": [
    "# 사용예시: RunnablePassthrough를 사용한 체인 구성\n",
    "runnable_chain = {\"num\": RunnablePassthrough()} | prompt | ChatOpenAI()\n",
    "\n",
    "runnable_chain.invoke(10)"
   ]
  },
  {
   "cell_type": "code",
   "execution_count": null,
   "metadata": {},
   "outputs": [],
   "source": [
    "# assign을 사용하는 경우 새로운 키-값 쌍이 할당되어 합쳐짐\n",
    "(RunnablePassthrough.assign(new_num=lambda x: x[\"num\"] * 3)).invoke({\"num\": 1})"
   ]
  },
  {
   "cell_type": "markdown",
   "metadata": {},
   "source": [
    "## RunnableLambda\n",
    "\n",
    "`RunnableLambda`는 정의된 함수를 프롬프트에 통합할 수 있게 해줍니다. 이를 통해 동적인 값을 체인 내에서 생성할 수 있습니다."
   ]
  },
  {
   "cell_type": "code",
   "execution_count": null,
   "metadata": {},
   "outputs": [],
   "source": [
    "from langchain_core.runnables import RunnableLambda\n",
    "from langchain_core.output_parsers import StrOutputParser\n",
    "from datetime import datetime\n",
    "\n",
    "# 오늘 날짜를 반환하는 함수\n",
    "def get_today(a):\n",
    "    print(f\"입력받은 매개변수의값: {a}\")\n",
    "    return datetime.today().strftime(\"%b-%d\")\n",
    "\n",
    "# 오늘 날짜 출력\n",
    "get_today(None)"
   ]
  },
  {
   "cell_type": "code",
   "execution_count": null,
   "metadata": {},
   "outputs": [],
   "source": [
    "# RunnableLambda를 사용한 체인 구성\n",
    "prompt = PromptTemplate.from_template(\n",
    "    \"{today}가 생일인 유명인 {n}명을 나열하세요. 생년월일을 표기해 주세요.\"\n",
    ")\n",
    "llm = ChatOpenAI(temperature=0, model_name=\"gpt-4o\")\n",
    "\n",
    "chain = (\n",
    "    {\"today\": RunnableLambda(get_today), \"n\": RunnablePassthrough()}\n",
    "    | prompt\n",
    "    | llm\n",
    "    | StrOutputParser()\n",
    ")\n",
    "\n",
    "# 출력\n",
    "print(chain.invoke(3))"
   ]
  },
  {
   "cell_type": "code",
   "execution_count": null,
   "metadata": {},
   "outputs": [],
   "source": [
    "# RunnableLambda에 전달되는 값의 활용 예시\n",
    "def get_number(a):\n",
    "    print(f\"입력받은 매개변수의값: {a}\")\n",
    "    return a ** a\n",
    "\n",
    "prompt = PromptTemplate.from_template(\n",
    "    \"{number}의 소인수분해에는 {n}이 들어가있나요? 소인수분해시 전체 수를 보여주세요\"\n",
    ")\n",
    "\n",
    "chain = (\n",
    "    {\"number\": RunnableLambda(get_number), \"n\": RunnablePassthrough()}\n",
    "    | prompt\n",
    "    | llm\n",
    "    | StrOutputParser()\n",
    ")\n",
    "\n",
    "print(chain.invoke(3))"
   ]
  },
  {
   "cell_type": "markdown",
   "metadata": {},
   "source": [
    "## RunnableParallel\n",
    "\n",
    "`RunnableParallel`은 여러 체인을 병렬로 실행할 수 있게 해주는 클래스입니다. 각 체인이 독립적으로 동작하므로 여러 작업을 동시에 수행할 때 유용합니다."
   ]
  },
  {
   "cell_type": "code",
   "execution_count": null,
   "metadata": {},
   "outputs": [],
   "source": [
    "from langchain_core.runnables import RunnableParallel\n",
    "\n",
    "# RunnableParallel 인스턴스 생성\n",
    "runnable = RunnableParallel(\n",
    "    # 입력을 그대로 전달\n",
    "    passed=RunnablePassthrough(),\n",
    "    # 'mult' 키에 lambda 함수 결과를 할당\n",
    "    extra=RunnablePassthrough.assign(mult=lambda x: x[\"num\"] * 3),\n",
    "    # 'modified' 키에 lambda 함수 결과를 할당\n",
    "    modified=lambda x: x[\"num\"] + 1,\n",
    ")\n",
    "\n",
    "# 실행\n",
    "runnable.invoke({\"num\": 1})"
   ]
  },
  {
   "cell_type": "code",
   "execution_count": null,
   "metadata": {},
   "outputs": [],
   "source": [
    "# 실제 사용 예시\n",
    "chain1 = (\n",
    "    {\"country\": RunnablePassthrough()}\n",
    "    | PromptTemplate.from_template(\"{country}의 수도는?\")\n",
    "    | ChatOpenAI()\n",
    ")\n",
    "chain2 = (\n",
    "    {\"country\": RunnablePassthrough()}\n",
    "    | PromptTemplate.from_template(\"{country}의 면적은?\")\n",
    "    | ChatOpenAI()\n",
    ")\n",
    "\n",
    "# 병렬로 실행하는 체인 구성\n",
    "combined_chain = RunnableParallel(capital=chain1, area=chain2)\n",
    "combined_chain.invoke(\"대한민국\")"
   ]
  },
  {
   "cell_type": "markdown",
   "metadata": {},
   "source": [
    "## itemgetter\n",
    "\n",
    "`itemgetter`는 딕셔너리 값에 쉽게 접근할 수 있는 방법을 제공합니다. 여러 키 값을 한 번에 받아올 수 있습니다."
   ]
  },
  {
   "cell_type": "code",
   "execution_count": null,
   "metadata": {},
   "outputs": [],
   "source": [
    "from operator import itemgetter\n",
    "\n",
    "from langchain_core.prompts import ChatPromptTemplate\n",
    "from langchain_core.runnables import RunnableLambda\n",
    "from langchain_openai import ChatOpenAI\n",
    "\n",
    "\n",
    "# 문장의 길이를 반환하는 함수\n",
    "def length_function(text):\n",
    "    return len(text)\n",
    "\n",
    "\n",
    "# 두 문장의 길이를 곱한 값을 반환하는 함수\n",
    "def _multiple_length_function(text1, text2):\n",
    "    return len(text1) * len(text2)\n",
    "\n",
    "\n",
    "# _multiple_length_function 함수를 사용하여 두 문장의 길이를 곱한 값을 반환하는 함수\n",
    "def multiple_length_function(_dict):\n",
    "    return _multiple_length_function(_dict[\"text1\"], _dict[\"text2\"])\n",
    "\n",
    "\n",
    "prompt = ChatPromptTemplate.from_template(\"{a} + {b}는 무엇인가요?\")\n",
    "model = ChatOpenAI()\n",
    "\n",
    "# itemgetter를 사용한 체인 구성\n",
    "chain = (\n",
    "    {\n",
    "        \"a\": itemgetter(\"word1\") | RunnableLambda(length_function),\n",
    "        \"b\": {\"text1\": itemgetter(\"word1\"), \"text2\": itemgetter(\"word2\")}\n",
    "        | RunnableLambda(multiple_length_function),\n",
    "    }\n",
    "    | prompt\n",
    "    | model\n",
    ")\n",
    "\n",
    "# 실행\n",
    "chain.invoke({\"word1\": \"hello\", \"word2\": \"world\"})"
   ]
  }
 ],
 "metadata": {
  "kernelspec": {
   "display_name": "Python 3",
   "language": "python",
   "name": "python3"
  },
  "language_info": {
   "codemirror_mode": {
    "name": "ipython",
    "version": 3
   },
   "file_extension": ".py",
   "mimetype": "text/x-python",
   "name": "python",
   "nbconvert_exporter": "python",
   "pygments_lexer": "ipython3",
   "version": "3.11.11"
  }
 },
 "nbformat": 4,
 "nbformat_minor": 2
}