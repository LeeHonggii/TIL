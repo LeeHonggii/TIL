{
 "cells": [
  {
   "cell_type": "markdown",
   "id": "bce0499a",
   "metadata": {},
   "source": [
    "# HTMLHeaderTextSplitter Tutorial\n",
    "\n",
    "## 개요\n",
    "\n",
    "`HTMLHeaderTextSplitter`는 HTML 문서의 구조를 인식하여 텍스트를 분할하는 LangChain의 텍스트 분할기입니다.\n",
    "\n",
    "### 주요 특징\n",
    "- HTML 헤더 태그(h1, h2, h3 등)를 기준으로 텍스트 분할\n",
    "- 각 청크에 헤더 계층 구조를 메타데이터로 보존\n",
    "- 문서의 의미론적 구조 유지\n",
    "- 다른 텍스트 분할기와 파이프라인 구성 가능\n",
    "\n",
    "### 사용 사례\n",
    "- 웹 스크래핑된 HTML 문서 처리\n",
    "- 구조화된 문서의 계층적 정보 보존\n",
    "- RAG 시스템에서 문맥 정보가 중요한 경우"
   ]
  },
  {
   "cell_type": "markdown",
   "id": "ce9677a6",
   "metadata": {},
   "source": [
    "## 1. HTML 문자열 분할\n",
    "\n",
    "### 기본 사용법\n",
    "- `headers_to_split_on`: 분할 기준이 되는 헤더 태그와 메타데이터 이름을 튜플로 지정\n",
    "- 각 헤더 레벨의 텍스트가 해당 헤더의 메타데이터와 함께 분할됨"
   ]
  },
  {
   "cell_type": "code",
   "execution_count": 1,
   "id": "4f06e05e",
   "metadata": {},
   "outputs": [
    {
     "name": "stdout",
     "output_type": "stream",
     "text": [
      "헤더1\n",
      "{}\n",
      "=====================\n",
      "헤더1 에 포함된 본문  \n",
      "헤더2-1 제목 헤더3-1 제목 헤더3-2 제목\n",
      "{'Header 1': '헤더1'}\n",
      "=====================\n",
      "헤더2-1 에 포함된 본문\n",
      "{'Header 1': '헤더1', 'Header 2': '헤더2-1 제목'}\n",
      "=====================\n",
      "헤더3-1 에 포함된 본문\n",
      "{'Header 1': '헤더1', 'Header 2': '헤더2-1 제목', 'Header 3': '헤더3-1 제목'}\n",
      "=====================\n",
      "헤더3-2 에 포함된 본문\n",
      "{'Header 1': '헤더1', 'Header 2': '헤더2-1 제목', 'Header 3': '헤더3-2 제목'}\n",
      "=====================\n",
      "헤더2-2 제목2\n",
      "{'Header 1': '헤더1'}\n",
      "=====================\n",
      "헤더2-2 에 포함된 본문\n",
      "{'Header 1': '헤더1', 'Header 2': '헤더2-2 제목2'}\n",
      "=====================\n",
      "마지막 내용\n",
      "{'Header 1': '헤더1'}\n",
      "=====================\n"
     ]
    }
   ],
   "source": [
    "from langchain_text_splitters import HTMLHeaderTextSplitter\n",
    "\n",
    "# 테스트용 HTML 문자열\n",
    "html_string = \"\"\"\n",
    "<!DOCTYPE html>\n",
    "<html>\n",
    "<body>\n",
    "    <div>\n",
    "        <h1>헤더1</h1>\n",
    "        <p>헤더1 에 포함된 본문</p>\n",
    "        <div>\n",
    "            <h2>헤더2-1 제목</h2>\n",
    "            <p>헤더2-1 에 포함된 본문</p>\n",
    "            <h3>헤더3-1 제목</h3>\n",
    "            <p>헤더3-1 에 포함된 본문</p>\n",
    "            <h3>헤더3-2 제목</h3>\n",
    "            <p>헤더3-2 에 포함된 본문</p>\n",
    "        </div>\n",
    "        <div>\n",
    "            <h2>헤더2-2 제목2</h2>\n",
    "            <p>헤더2-2 에 포함된 본문</p>\n",
    "        </div>\n",
    "        <br>\n",
    "        <p>마지막 내용</p>\n",
    "    </div>\n",
    "</body>\n",
    "</html>\n",
    "\"\"\"\n",
    "\n",
    "# 분할 기준 헤더 설정\n",
    "headers_to_split_on = [\n",
    "    (\"h1\", \"Header 1\"),  # (태그명, 메타데이터 키)\n",
    "    (\"h2\", \"Header 2\"),\n",
    "    (\"h3\", \"Header 3\"),\n",
    "]\n",
    "\n",
    "# HTMLHeaderTextSplitter 생성\n",
    "html_splitter = HTMLHeaderTextSplitter(headers_to_split_on=headers_to_split_on)\n",
    "\n",
    "# HTML 분할 실행\n",
    "html_header_splits = html_splitter.split_text(html_string)\n",
    "\n",
    "# 결과 출력\n",
    "for header in html_header_splits:\n",
    "    print(f\"{header.page_content}\")\n",
    "    print(f\"{header.metadata}\", end=\"\\n=====================\\n\")"
   ]
  },
  {
   "cell_type": "markdown",
   "id": "8a1b2c3d",
   "metadata": {},
   "source": [
    "### 결과 분석\n",
    "- 각 텍스트 청크는 해당하는 모든 상위 헤더 정보를 메타데이터로 포함\n",
    "- 계층 구조가 메타데이터에 보존되어 문맥 정보 유지\n",
    "- 헤더가 없는 텍스트도 가장 가까운 상위 헤더의 메타데이터를 상속"
   ]
  },
  {
   "cell_type": "markdown",
   "id": "78b1e7ea",
   "metadata": {},
   "source": [
    "## 2. 웹 URL에서 HTML 로드 및 다른 Splitter와 파이프라인 구성\n",
    "\n",
    "### 파이프라인 구성 방법\n",
    "1. HTMLHeaderTextSplitter로 구조적 분할\n",
    "2. RecursiveCharacterTextSplitter로 크기 기반 재분할\n",
    "3. 메타데이터 보존하면서 적절한 크기의 청크 생성"
   ]
  },
  {
   "cell_type": "code",
   "execution_count": 2,
   "id": "52ade119",
   "metadata": {},
   "outputs": [
    {
     "name": "stdout",
     "output_type": "stream",
     "text": [
      "We see that Gödel first tried to reduce the consistency problem for analysis to that of arithmetic. This seemed to require a truth definition for arithmetic, which in turn led to paradoxes, such as the Liar paradox ('This sentence is false') and Berry's paradox ('The least number not defined by an expression consisting of just fourteen English words'). Gödel then noticed that such paradoxes would not necessarily arise if truth were replaced by provability. But this means that arithmetic truth\n",
      "{'Header 1': 'Kurt Gödel', 'Header 2': '2. Gödel's Mathematical Work', 'Header 3': '2.2 The Incompleteness Theorems', 'Header 4': '2.2.1 The First Incompleteness Theorem'}\n",
      "=====================\n",
      "means that arithmetic truth and arithmetic provability are not co-extensive — whence the First Incompleteness Theorem.\n",
      "{'Header 1': 'Kurt Gödel', 'Header 2': '2. Gödel's Mathematical Work', 'Header 3': '2.2 The Incompleteness Theorems', 'Header 4': '2.2.1 The First Incompleteness Theorem'}\n",
      "=====================\n",
      "This account of Gödel's discovery was told to Hao Wang very much after the fact; but in Gödel's contemporary correspondence with Bernays and Zermelo, essentially the same description of his path to the theorems is given. (See Gödel 2003a and Gödel 2003b respectively.) From those accounts we see that the undefinability of truth in arithmetic, a result credited to Tarski, was likely obtained in some form by Gödel by 1931. But he neither publicized nor published the result; the biases logicians\n",
      "{'Header 1': 'Kurt Gödel', 'Header 2': '2. Gödel's Mathematical Work', 'Header 3': '2.2 The Incompleteness Theorems', 'Header 4': '2.2.1 The First Incompleteness Theorem'}\n",
      "=====================\n",
      "result; the biases logicians had expressed at the time concerning the notion of truth, biases which came vehemently to the fore when Tarski announced his results on the undefinability of truth in formal systems 1935, may have served as a deterrent to Gödel's publication of that theorem.\n",
      "{'Header 1': 'Kurt Gödel', 'Header 2': '2. Gödel's Mathematical Work', 'Header 3': '2.2 The Incompleteness Theorems', 'Header 4': '2.2.1 The First Incompleteness Theorem'}\n",
      "=====================\n",
      "We now describe the proof of the two theorems, formulating Gödel's results in Peano arithmetic. Gödel himself used a system related to that defined in Principia Mathematica, but containing Peano arithmetic. In our presentation of the First and Second Incompleteness Theorems we refer to Peano arithmetic as P, following Gödel's notation.\n",
      "{'Header 1': 'Kurt Gödel', 'Header 2': '2. Gödel's Mathematical Work', 'Header 3': '2.2 The Incompleteness Theorems', 'Header 4': '2.2.2 The proof of the First Incompleteness Theorem'}\n",
      "=====================\n"
     ]
    }
   ],
   "source": [
    "from langchain_text_splitters import RecursiveCharacterTextSplitter\n",
    "\n",
    "# 실제 웹 페이지 URL\n",
    "url = \"https://plato.stanford.edu/entries/goedel/\"\n",
    "\n",
    "# 더 많은 헤더 레벨 처리\n",
    "headers_to_split_on = [\n",
    "    (\"h1\", \"Header 1\"),\n",
    "    (\"h2\", \"Header 2\"),\n",
    "    (\"h3\", \"Header 3\"),\n",
    "    (\"h4\", \"Header 4\"),\n",
    "]\n",
    "\n",
    "# Step 1: HTML 구조 기반 분할\n",
    "html_splitter = HTMLHeaderTextSplitter(headers_to_split_on=headers_to_split_on)\n",
    "html_header_splits = html_splitter.split_text_from_url(url)\n",
    "\n",
    "# Step 2: 크기 기반 재분할 설정\n",
    "chunk_size = 500  # 각 청크의 최대 크기\n",
    "chunk_overlap = 30  # 청크 간 중복 문자 수\n",
    "\n",
    "text_splitter = RecursiveCharacterTextSplitter(\n",
    "    chunk_size=chunk_size, \n",
    "    chunk_overlap=chunk_overlap\n",
    ")\n",
    "\n",
    "# Step 3: 파이프라인 실행\n",
    "splits = text_splitter.split_documents(html_header_splits)\n",
    "\n",
    "# 결과 샘플 출력 (80-85번째 청크)\n",
    "for header in splits[80:85]:\n",
    "    print(f\"{header.page_content}\")\n",
    "    print(f\"{header.metadata}\", end=\"\\n=====================\\n\")"
   ]
  },
  {
   "cell_type": "markdown",
   "id": "9b2e3f4d",
   "metadata": {},
   "source": [
    "### 파이프라인의 장점\n",
    "- **구조 보존**: HTML 헤더 계층 구조가 메타데이터로 보존\n",
    "- **크기 최적화**: RecursiveCharacterTextSplitter로 적절한 크기로 재분할\n",
    "- **문맥 유지**: 청크 오버랩으로 문맥 연속성 확보"
   ]
  },
  {
   "cell_type": "markdown",
   "id": "625acd12",
   "metadata": {},
   "source": [
    "## 3. HTMLHeaderTextSplitter의 한계\n",
    "\n",
    "### 주요 한계점\n",
    "1. **HTML 구조 의존성**: 헤더가 표준적인 계층 구조를 따르지 않는 경우 문제 발생\n",
    "2. **복잡한 레이아웃**: 헤더와 관련 텍스트가 별개의 하위 트리에 있는 경우 연결 실패\n",
    "3. **동적 콘텐츠**: JavaScript로 생성되는 동적 콘텐츠는 처리 불가\n",
    "\n",
    "### 실제 예시: CNN 뉴스 기사"
   ]
  },
  {
   "cell_type": "code",
   "execution_count": 3,
   "id": "b0d2fa95",
   "metadata": {},
   "outputs": [
    {
     "name": "stdout",
     "output_type": "stream",
     "text": [
      "CNN values your feedback  \n",
      "1. How relevant is this ad to you?  \n",
      "2. Did you encounter any technical i\n",
      "{}\n",
      "=====================\n",
      "No two El Niño winters are the same, but many have temperature and precipitation trends in common.  \n",
      "{'Header 2': 'What could this winter look like?'}\n",
      "=====================\n",
      "Ad Feedback  \n",
      "Ad Feedback  \n",
      "Ad Feedback  \n",
      "Ad Feedback  \n",
      "Ad Feedback  \n",
      "Ad Feedback  \n",
      "Ad Feedback  \n",
      "Ad\n",
      "{}\n",
      "=====================\n"
     ]
    }
   ],
   "source": [
    "# 복잡한 HTML 구조를 가진 실제 뉴스 사이트\n",
    "url = \"https://www.cnn.com/2023/09/25/weather/el-nino-winter-us-climate/index.html\"\n",
    "\n",
    "headers_to_split_on = [\n",
    "    (\"h1\", \"Header 1\"),\n",
    "    (\"h2\", \"Header 2\"),\n",
    "]\n",
    "\n",
    "html_splitter = HTMLHeaderTextSplitter(headers_to_split_on=headers_to_split_on)\n",
    "html_header_splits = html_splitter.split_text_from_url(url)\n",
    "\n",
    "# 처음 3개 결과만 출력\n",
    "for header in html_header_splits[:3]:\n",
    "    print(f\"{header.page_content[:100]}\")\n",
    "    print(f\"{header.metadata}\", end=\"\\n=====================\\n\")"
   ]
  },
  {
   "cell_type": "markdown",
   "id": "4e5f6g7h",
   "metadata": {},
   "source": [
    "### 한계 분석\n",
    "- **h1 메타데이터 누락**: 메인 헤드라인이 별도의 DOM 트리에 있어 메타데이터에 포함되지 않음\n",
    "- **광고 콘텐츠 포함**: 관련 없는 광고 피드백 텍스트가 포함됨\n",
    "- **h2는 정상 처리**: 표준적인 구조의 h2 헤더는 정상적으로 처리됨"
   ]
  },
  {
   "cell_type": "markdown",
   "id": "5d08db50",
   "metadata": {},
   "source": [
    "## 4. 모범 사례 및 팁\n",
    "\n",
    "### 사용 시 권장사항\n",
    "1. **HTML 구조 사전 확인**: 대상 웹사이트의 HTML 구조를 먼저 분석\n",
    "2. **적절한 헤더 선택**: 실제 콘텐츠 구조에 맞는 헤더 태그 선택\n",
    "3. **파이프라인 활용**: 다른 splitter와 조합하여 최적의 청크 생성\n",
    "4. **메타데이터 검증**: 분할 후 메타데이터가 올바르게 할당되었는지 확인\n",
    "\n",
    "### 대안 고려\n",
    "- 복잡한 HTML 구조: BeautifulSoup을 사용한 커스텀 파서 구현\n",
    "- 동적 콘텐츠: Selenium 등을 사용한 렌더링 후 처리\n",
    "- 비표준 구조: CSS 선택자 기반 커스텀 분할기 개발"
   ]
  },
  {
   "cell_type": "markdown",
   "id": "6e09fb10",
   "metadata": {},
   "source": [
    "## 요약\n",
    "\n",
    "HTMLHeaderTextSplitter는 구조화된 HTML 문서를 의미론적으로 분할하는 강력한 도구입니다.\n",
    "\n",
    "**장점**:\n",
    "- 문서의 계층 구조를 메타데이터로 보존\n",
    "- 다른 텍스트 분할기와 쉽게 결합 가능\n",
    "- 웹 URL 직접 처리 지원\n",
    "\n",
    "**한계**:\n",
    "- 비표준적인 HTML 구조 처리의 어려움\n",
    "- 동적 콘텐츠 처리 불가\n",
    "- 복잡한 레이아웃에서의 제한사항\n",
    "\n",
    "적절한 사용 사례를 선택하고 필요시 다른 도구와 결합하여 사용하면 효과적인 문서 처리가 가능합니다."
   ]
  }
 ],
 "metadata": {
  "kernelspec": {
   "display_name": "Python 3",
   "language": "python",
   "name": "python3"
  },
  "language_info": {
   "codemirror_mode": {
    "name": "ipython",
    "version": 3
   },
   "file_extension": ".py",
   "mimetype": "text/x-python",
   "name": "python",
   "nbconvert_exporter": "python",
   "pygments_lexer": "ipython3",
   "version": "3.11.0"
  }
 },
 "nbformat": 4,
 "nbformat_minor": 5
}