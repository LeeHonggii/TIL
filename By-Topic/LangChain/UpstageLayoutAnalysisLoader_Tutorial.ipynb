{
 "cells": [
  {
   "cell_type": "markdown",
   "metadata": {},
   "source": [
    "# UpstageLayoutAnalysisLoader\n",
    "\n",
    "`UpstageLayoutAnalysisLoader` 는 Upstage AI에서 제공하는 문서 분석 도구로, LangChain 프레임워크와 통합되어 사용할 수 있는 문서 로더입니다.\n",
    "\n",
    "**주요 특징:**\n",
    "- PDF, 이미지 등 다양한 형식의 문서에서 레이아웃 분석 수행\n",
    "- 문서의 구조적 요소(제목, 단락, 표, 이미지 등)를 자동으로 인식 및 추출\n",
    "- OCR 기능 지원 (선택적)\n",
    "\n",
    "UpstageLayoutAnalysisLoader는 단순한 텍스트 추출을 넘어 문서의 구조를 이해하고 요소 간 관계를 파악하여 보다 정확한 문서 분석을 가능하게 합니다.\n",
    "\n",
    "**설치**\n",
    "\n",
    "`langchain-upstage` 패키지를 설치 후 사용합니다.\n",
    "\n",
    "```bash\n",
    "pip install -U langchain-upstage\n",
    "```"
   ]
  },
  {
   "cell_type": "markdown",
   "metadata": {},
   "source": [
    "## 환경 설정\n",
    "\n",
    "Upstage API를 사용하기 위해서는 API KEY가 필요합니다. [Upstage Console](https://console.upstage.ai/)에서 API KEY를 발급받을 수 있습니다."
   ]
  },
  {
   "cell_type": "code",
   "execution_count": 1,
   "metadata": {},
   "outputs": [
    {
     "data": {
      "text/plain": [
       "True"
      ]
     },
     "execution_count": 1,
     "metadata": {},
     "output_type": "execute_result"
    }
   ],
   "source": [
    "# API KEY를 환경변수로 관리하기 위한 설정 파일\n",
    "from dotenv import load_dotenv\n",
    "\n",
    "# API KEY 정보로드\n",
    "load_dotenv()"
   ]
  },
  {
   "cell_type": "markdown",
   "metadata": {},
   "source": [
    "## UpstageLayoutAnalysisLoader 사용법\n",
    "\n",
    "**주요 파라미터**\n",
    "- `file_path`: 분석할 문서 경로\n",
    "- `output_type`: 출력 형식 [(기본값)'html', 'text']\n",
    "- `split`: 문서 분할 방식 ['none', 'element', 'page']\n",
    "- `use_ocr=True`: OCR 사용\n",
    "- `exclude=[\"header\", \"footer\"]`: 헤더, 푸터 제외"
   ]
  },
  {
   "cell_type": "code",
   "execution_count": 2,
   "metadata": {},
   "outputs": [
    {
     "name": "stdout",
     "output_type": "stream",
     "text": [
      "page_content='<h1 id='0' style='font-size:16px'><ADsP 요약정리 및 오답노트></h1>' metadata={'page': 1, 'id': 0, 'bounding_box': '[{\"x\": 174, \"y\": 203}, {\"x\": 469, \"y\": 203}, {\"x\": 469, \"y\": 230}, {\"x\": 174, \"y\": 230}]', 'category': 'heading1'}\n",
      "page_content='<h1 id='1' style='font-size:20px'>-1과목-</h1>' metadata={'page': 1, 'id': 1, 'bounding_box': '[{\"x\": 172, \"y\": 271}, {\"x\": 253, \"y\": 271}, {\"x\": 253, \"y\": 297}, {\"x\": 172, \"y\": 297}]', 'category': 'heading1'}\n",
      "page_content='<p id='2' data-category='paragraph' style='font-size:16px'>(객관식)<br>데이터 마스킹 : 데이터의 속성은 유지한 채, 익명으로 생성<br>Cinematch -> 넷플릭스에서 개발한 알고리즘<br>데이터마이닝 VS 머신러닝(딥러닝) 구분하기 다른거임<br>트레이딩, 공급, 수요예측 -> 에너지 산업<br>CRM -> 고객관계관리 데이터베이스 (기업내부)<br>ERP -> 기업 전체를 통합적으로 관리하고 경영의 효율화 목적<br>빅데이터 가치측정 어려윤 이유 : 1) 데이터 재사용,재조합,다목적용 개발<br>2) 새로운 가치 창출<br>3) 분석 기술 발전<br>cf. 전문인력증가는 가치측정과 관련 없음<br>사생활 침해를 막기 위한 개인정보 무작위 처리 (본래 목적 외에 사용 방지기술) -> 난수화<br>유형분석 -> 특성에따라 분류할때 사용한다.<br>핀테크(금융)분야에서 빅데이터 활용의 핵심분야 -> 신용평가<br>K-NN 분석기법 - 딥러닝과 관련 x<br>LSTM, Autoencoder, RNN -> 딥러닝과 관련 O</p>' metadata={'page': 1, 'id': 2, 'bounding_box': '[{\"x\": 170, \"y\": 342}, {\"x\": 1050, \"y\": 342}, {\"x\": 1050, \"y\": 1223}, {\"x\": 170, \"y\": 1223}]', 'category': 'paragraph'}\n"
     ]
    }
   ],
   "source": [
    "from langchain_upstage import UpstageLayoutAnalysisLoader\n",
    "\n",
    "# 파일 경로\n",
    "file_path = \"../ADsP.pdf\"\n",
    "\n",
    "# 문서 로더 설정\n",
    "loader = UpstageLayoutAnalysisLoader(\n",
    "    file_path,\n",
    "    output_type=\"html\",\n",
    "    split=\"element\",\n",
    "    use_ocr=True,\n",
    "    exclude=[\"header\", \"footer\"],\n",
    ")\n",
    "\n",
    "# 문서 로드\n",
    "docs = loader.load()\n",
    "\n",
    "# 결과 출력\n",
    "for doc in docs[:3]:\n",
    "    print(doc)"
   ]
  },
  {
   "cell_type": "markdown",
   "metadata": {},
   "source": [
    "## 문서 구조 분석\n",
    "\n",
    "UpstageLayoutAnalysisLoader는 문서의 각 요소에 대한 메타데이터를 제공합니다:"
   ]
  },
  {
   "cell_type": "code",
   "execution_count": 4,
   "metadata": {},
   "outputs": [
    {
     "data": {
      "text/plain": [
       "Document(metadata={'page': 1, 'id': 1, 'bounding_box': '[{\"x\": 172, \"y\": 271}, {\"x\": 253, \"y\": 271}, {\"x\": 253, \"y\": 297}, {\"x\": 172, \"y\": 297}]', 'category': 'heading1'}, page_content=\"<h1 id='1' style='font-size:20px'>-1과목-</h1>\")"
      ]
     },
     "execution_count": 4,
     "metadata": {},
     "output_type": "execute_result"
    }
   ],
   "source": [
    "# 개별 문서 요소 확인\n",
    "docs[1]"
   ]
  },
  {
   "cell_type": "markdown",
   "metadata": {},
   "source": [
    "### 메타데이터 설명\n",
    "\n",
    "각 Document 객체는 다음과 같은 메타데이터를 포함합니다:\n",
    "\n",
    "- **page**: 문서의 페이지 번호\n",
    "- **id**: 요소의 고유 ID\n",
    "- **bounding_box**: 요소의 위치 정보 (x, y 좌표)\n",
    "- **category**: 요소의 유형 (heading1, paragraph, table 등)\n",
    "\n",
    "## 다양한 출력 형식\n",
    "\n",
    "### 1. Text 형식으로 출력"
   ]
  },
  {
   "cell_type": "code",
   "execution_count": null,
   "metadata": {},
   "outputs": [],
   "source": [
    "# Text 형식으로 로드\n",
    "loader_text = UpstageLayoutAnalysisLoader(\n",
    "    file_path,\n",
    "    output_type=\"text\",  # 텍스트 형식\n",
    "    split=\"page\",        # 페이지 단위로 분할\n",
    "    use_ocr=True,\n",
    ")\n",
    "\n",
    "docs_text = loader_text.load()\n",
    "print(f\"총 페이지 수: {len(docs_text)}\")\n",
    "print(f\"첫 페이지 내용:\\n{docs_text[0].page_content[:500]}...\")"
   ]
  },
  {
   "cell_type": "markdown",
   "metadata": {},
   "source": [
    "### 2. 분할 없이 전체 문서 로드"
   ]
  },
  {
   "cell_type": "code",
   "execution_count": null,
   "metadata": {},
   "outputs": [],
   "source": [
    "# 분할 없이 전체 문서를 하나의 Document로 로드\n",
    "loader_full = UpstageLayoutAnalysisLoader(\n",
    "    file_path,\n",
    "    output_type=\"html\",\n",
    "    split=\"none\",  # 분할하지 않음\n",
    "    use_ocr=True,\n",
    ")\n",
    "\n",
    "docs_full = loader_full.load()\n",
    "print(f\"문서 수: {len(docs_full)}\")\n",
    "print(f\"전체 문서 크기: {len(docs_full[0].page_content)} 문자\")"
   ]
  },
  {
   "cell_type": "markdown",
   "metadata": {},
   "source": [
    "## 활용 예제: 특정 카테고리 추출\n",
    "\n",
    "문서에서 특정 카테고리(예: 제목, 표)만 추출하는 예제:"
   ]
  },
  {
   "cell_type": "code",
   "execution_count": null,
   "metadata": {},
   "outputs": [],
   "source": [
    "# 제목(heading)만 추출\n",
    "headings = [doc for doc in docs if 'heading' in doc.metadata.get('category', '')]\n",
    "\n",
    "print(f\"총 제목 수: {len(headings)}\\n\")\n",
    "for heading in headings[:5]:\n",
    "    print(f\"- {heading.page_content}\")\n",
    "    print(f\"  (페이지: {heading.metadata['page']}, 카테고리: {heading.metadata['category']})\\n\")"
   ]
  },
  {
   "cell_type": "markdown",
   "metadata": {},
   "source": [
    "## 요약\n",
    "\n",
    "`UpstageLayoutAnalysisLoader`는 문서의 구조를 이해하고 분석하는 강력한 도구입니다:\n",
    "\n",
    "1. **레이아웃 분석**: 문서의 구조적 요소를 자동으로 인식\n",
    "2. **OCR 지원**: 스캔된 문서나 이미지에서도 텍스트 추출 가능\n",
    "3. **유연한 출력**: HTML, 텍스트 등 다양한 형식 지원\n",
    "4. **세밀한 제어**: 요소별, 페이지별 분할 옵션 제공\n",
    "5. **메타데이터**: 각 요소의 위치, 카테고리 등 상세 정보 제공\n",
    "\n",
    "이러한 기능들은 복잡한 문서를 효과적으로 처리하고, RAG(Retrieval-Augmented Generation) 시스템에서 더 정확한 정보 검색을 가능하게 합니다."
   ]
  }
 ],
 "metadata": {
  "kernelspec": {
   "display_name": "Python 3",
   "language": "python",
   "name": "python3"
  },
  "language_info": {
   "codemirror_mode": {
    "name": "ipython",
    "version": 3
   },
   "file_extension": ".py",
   "mimetype": "text/x-python",
   "name": "python",
   "nbconvert_exporter": "python",
   "pygments_lexer": "ipython3",
   "version": "3.11.11"
  }
 },
 "nbformat": 4,
 "nbformat_minor": 2
}