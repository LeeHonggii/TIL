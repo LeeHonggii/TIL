{
 "cells": [
  {
   "cell_type": "markdown",
   "metadata": {},
   "source": [
    "# PDF Document Loaders in LangChain\n",
    "\n",
    "이 노트북에서는 LangChain에서 제공하는 다양한 PDF 문서 로더들의 특징과 사용법을 학습합니다.\n",
    "\n",
    "## 목차\n",
    "1. [PDF 개요](#intro)\n",
    "2. [환경 설정](#setup)\n",
    "3. [PyPDFLoader](#pypdf)\n",
    "4. [PyPDFLoader with OCR](#pypdf-ocr)\n",
    "5. [PyMuPDFLoader](#pymupdf)\n",
    "6. [UnstructuredPDFLoader](#unstructured)\n",
    "7. [PyPDFium2Loader](#pypdfium2)\n",
    "8. [로더 비교 및 선택 가이드](#comparison)\n",
    "9. [핵심 요약](#summary)"
   ]
  },
  {
   "cell_type": "markdown",
   "metadata": {},
   "source": [
    "## 1. PDF 개요 <a id='intro'></a>\n",
    "\n",
    "[Portable Document Format (PDF)](https://en.wikipedia.org/wiki/PDF)는 ISO 32000으로 표준화된 파일 형식으로, Adobe가 1992년에 문서를 제시하기 위해 개발했습니다. 이는 응용 소프트웨어, 하드웨어 및 운영 시스템에 독립적인 방식으로 텍스트 서식 및 이미지를 포함합니다.\n",
    "\n",
    "### LangChain의 PDF 로더들\n",
    "\n",
    "LangChain은 다양한 PDF 파서와 통합됩니다:\n",
    "- **간단하고 저수준**: 기본적인 텍스트 추출\n",
    "- **고급 기능**: OCR, 이미지 처리, 문서 레이아웃 분석\n",
    "\n",
    "올바른 선택은 사용자의 애플리케이션에 따라 달라집니다.\n",
    "\n",
    "### 참고 자료\n",
    "- [LangChain 공식 문서 - PDF Loaders](https://python.langchain.com/v0.1/docs/modules/data_connection/document_loaders/pdf/)"
   ]
  },
  {
   "cell_type": "markdown",
   "metadata": {},
   "source": [
    "## 2. 환경 설정 <a id='setup'></a>\n",
    "\n",
    "필요한 라이브러리를 설치하고 환경을 설정합니다."
   ]
  },
  {
   "cell_type": "code",
   "execution_count": 1,
   "metadata": {},
   "outputs": [
    {
     "data": {
      "text/plain": [
       "True"
      ]
     },
     "execution_count": 1,
     "metadata": {},
     "output_type": "execute_result"
    }
   ],
   "source": [
    "# API KEY를 환경변수로 관리하기 위한 설정 파일\n",
    "from dotenv import load_dotenv\n",
    "\n",
    "# API KEY 정보로드\n",
    "load_dotenv()"
   ]
  },
  {
   "cell_type": "code",
   "execution_count": 2,
   "metadata": {},
   "outputs": [],
   "source": [
    "# 테스트용 파일 경로 설정\n",
    "FILE_PATH = \"../ADsP.pdf\"  # 실제 파일 경로로 변경 필요"
   ]
  },
  {
   "cell_type": "code",
   "execution_count": 3,
   "metadata": {},
   "outputs": [],
   "source": [
    "# 메타데이터를 보기 좋게 출력하는 헬퍼 함수\n",
    "def show_metadata(docs):\n",
    "    \"\"\"문서의 메타데이터를 보기 좋게 출력하는 함수\"\"\"\n",
    "    if docs:\n",
    "        print(\"[metadata keys]\")\n",
    "        print(list(docs[0].metadata.keys()))\n",
    "        print(\"\\n[metadata examples]\")\n",
    "        max_key_length = max(len(k) for k in docs[0].metadata.keys())\n",
    "        for k, v in docs[0].metadata.items():\n",
    "            print(f\"{k:<{max_key_length}} : {v}\")"
   ]
  },
  {
   "cell_type": "markdown",
   "metadata": {},
   "source": [
    "## 3. PyPDFLoader <a id='pypdf'></a>\n",
    "\n",
    "`PyPDFLoader`는 가장 기본적인 PDF 로더입니다. 간단하고 빠르지만 복잡한 레이아웃이나 이미지 처리에는 제한이 있습니다.\n",
    "\n",
    "### 특징\n",
    "- 간단하고 빠른 텍스트 추출\n",
    "- 페이지별로 문서 분할\n",
    "- 기본적인 메타데이터 제공"
   ]
  },
  {
   "cell_type": "code",
   "execution_count": 4,
   "metadata": {},
   "outputs": [
    {
     "name": "stdout",
     "output_type": "stream",
     "text": [
      "로드된 문서 수: 1\n",
      "\n",
      "첫 번째 페이지 내용 (처음 500자):\n",
      "<ADsP 요약정리 및 오답노트>-1과목-(객관식)데이터 마스킹 : 데이터의 속성은 유지한 채, 익명으로 생성Cinematch -> 넷플릭스에서 개발한 알고리즘데이터마이닝 vs 머신러닝(딥러닝) 구분하기 다른거임트레이딩, 공급, 수요예측 -> 에너지 산업CRM -> 고객관계관리 데이터베이스 (기업내부)ERP -> 기업 전체를 통합적으로 관리하고 경영의 효율화 목적빅데이터 가치측정 어려윤 이유 : 1) 데이터 재사용,재조합,다목적용 개발                                          2) 새로운 가치 창출                                          3) 분석 기술 발전cf. 전문인력증가는 가치측정과 관련 없음사생활 침해를 막기 위한 개인정보 무작위 처리 (본래 목적 외에 사용 방지기술) -> 난수화유형분석 -> 특성에따라 분류할때 사용한다.핀테크(금융)분야에서 빅데이터 활용의 핵심분야 -> 신용평가K-NN 분석기법 - 딥러닝과 관련 xLSTM, Autoencoder, RNN -> 딥러닝과 관련 oCaffe, Tnsorflow\n"
     ]
    }
   ],
   "source": [
    "from langchain_community.document_loaders import PyPDFLoader\n",
    "\n",
    "# PyPDF 로더 초기화\n",
    "loader = PyPDFLoader(FILE_PATH)\n",
    "\n",
    "# PDF 문서 로드\n",
    "docs = loader.load()\n",
    "\n",
    "print(f\"로드된 문서 수: {len(docs)}\")\n",
    "print(f\"\\n첫 번째 페이지 내용 (처음 500자):\")\n",
    "print(docs[0].page_content[:500])"
   ]
  },
  {
   "cell_type": "code",
   "execution_count": 5,
   "metadata": {},
   "outputs": [
    {
     "name": "stdout",
     "output_type": "stream",
     "text": [
      "[metadata keys]\n",
      "['producer', 'creator', 'creationdate', 'source', 'total_pages', 'page', 'page_label']\n",
      "\n",
      "[metadata examples]\n",
      "producer     : PyPDF2\n",
      "creator      : PyPDF\n",
      "creationdate : \n",
      "source       : ../ADsP.pdf\n",
      "total_pages  : 1\n",
      "page         : 0\n",
      "page_label   : 1\n"
     ]
    }
   ],
   "source": [
    "# PyPDFLoader의 메타데이터 확인\n",
    "show_metadata(docs)"
   ]
  },
  {
   "cell_type": "markdown",
   "metadata": {},
   "source": [
    "## 4. PyPDFLoader with OCR <a id='pypdf-ocr'></a>\n",
    "\n",
    "일부 PDF에는 스캔된 문서나 그림 내에 텍스트 이미지가 포함되어 있습니다. `rapidocr-onnxruntime` 패키지를 사용하여 이미지에서 텍스트를 추출할 수 있습니다.\n",
    "\n",
    "### 설치\n",
    "```bash\n",
    "pip install -qU rapidocr-onnxruntime\n",
    "```\n",
    "\n",
    "### 특징\n",
    "- 이미지에서 텍스트 추출 (OCR)\n",
    "- 스캔된 문서 처리 가능\n",
    "- `extract_images=True` 옵션 필요"
   ]
  },
  {
   "cell_type": "code",
   "execution_count": 6,
   "metadata": {},
   "outputs": [
    {
     "name": "stdout",
     "output_type": "stream",
     "text": [
      "5번째 페이지 내용 (처음 300자):\n",
      "LayoutParser: A Unified Toolkit for DL-Based DIA 5\n",
      "Table 1: Current layout detection models in the LayoutParser model zoo\n",
      "Dataset Base Model1 Large ModelNotes\n",
      "PubLayNet [38] F / M M Layouts of modern scientific documents\n",
      "PRImA [3] M - Layouts of scanned modern magazines and scientific reports\n",
      "Newspaper\n",
      "\n",
      "OCR이 이미지에서 텍스트를 추출했음을 확인할 수 있습니다.\n"
     ]
    }
   ],
   "source": [
    "# OCR 기능을 활성화한 PyPDF 로더\n",
    "# 논문 PDF를 예시로 사용 (이미지가 포함된 문서)\n",
    "ocr_loader = PyPDFLoader(\n",
    "    \"https://arxiv.org/pdf/2103.15348.pdf\", \n",
    "    extract_images=True  # OCR 활성화\n",
    ")\n",
    "\n",
    "# PDF 페이지 로드\n",
    "ocr_docs = ocr_loader.load()\n",
    "\n",
    "# 이미지가 포함된 페이지 내용 확인\n",
    "print(\"5번째 페이지 내용 (처음 300자):\")\n",
    "print(ocr_docs[4].page_content[:300])\n",
    "print(\"\\nOCR이 이미지에서 텍스트를 추출했음을 확인할 수 있습니다.\")"
   ]
  },
  {
   "cell_type": "code",
   "execution_count": 7,
   "metadata": {},
   "outputs": [
    {
     "name": "stdout",
     "output_type": "stream",
     "text": [
      "[metadata keys]\n",
      "['producer', 'creator', 'creationdate', 'author', 'keywords', 'moddate', 'ptex.fullbanner', 'subject', 'title', 'trapped', 'source', 'total_pages', 'page', 'page_label']\n",
      "\n",
      "[metadata examples]\n",
      "producer        : pdfTeX-1.40.21\n",
      "creator         : LaTeX with hyperref\n",
      "creationdate    : 2021-06-22T01:27:10+00:00\n",
      "author          : \n",
      "keywords        : \n",
      "moddate         : 2021-06-22T01:27:10+00:00\n",
      "ptex.fullbanner : This is pdfTeX, Version 3.14159265-2.6-1.40.21 (TeX Live 2020) kpathsea version 6.3.2\n",
      "subject         : \n",
      "title           : \n",
      "trapped         : /False\n",
      "source          : https://arxiv.org/pdf/2103.15348.pdf\n",
      "total_pages     : 16\n",
      "page            : 0\n",
      "page_label      : 1\n"
     ]
    }
   ],
   "source": [
    "# OCR 로더의 메타데이터 확인\n",
    "show_metadata(ocr_docs)"
   ]
  },
  {
   "cell_type": "markdown",
   "metadata": {},
   "source": [
    "## 5. PyMuPDFLoader <a id='pymupdf'></a>\n",
    "\n",
    "`PyMuPDFLoader`는 속도 최적화가 되어 있으며, PDF 및 해당 페이지에 대한 자세한 메타데이터를 포함합니다.\n",
    "\n",
    "### 설치\n",
    "```bash\n",
    "pip install -qU pymupdf\n",
    "```\n",
    "\n",
    "### 특징\n",
    "- **빠른 처리 속도**: 대용량 PDF 처리에 적합\n",
    "- **상세한 메타데이터**: 문서 구조 정보 포함\n",
    "- **페이지당 하나의 문서**: 각 페이지를 별도 Document로 반환\n",
    "- **텍스트 서식 보존**: 줄바꿈 등의 서식을 더 잘 보존"
   ]
  },
  {
   "cell_type": "code",
   "execution_count": 8,
   "metadata": {},
   "outputs": [
    {
     "name": "stdout",
     "output_type": "stream",
     "text": [
      "로드된 문서 수: 1\n",
      "\n",
      "첫 번째 페이지 내용 (처음 400자):\n",
      "<ADsP 요약정리 및 오답노트>\n",
      "-1과목-\n",
      "(객관식)\n",
      "데이터 마스킹 : 데이터의 속성은 유지한 채, 익명으로 생성\n",
      "Cinematch -> 넷플릭스에서 개발한 알고리즘\n",
      "데이터마이닝 vs 머신러닝(딥러닝) 구분하기 다른거임\n",
      "트레이딩, 공급, 수요예측 -> 에너지 산업\n",
      "CRM -> 고객관계관리 데이터베이스 (기업내부)\n",
      "ERP -> 기업 전체를 통합적으로 관리하고 경영의 효율화 목적\n",
      "빅데이터 가치측정 어려윤 이유 : 1) 데이터 재사용,재조합,다목적용 개발\n",
      "                                          2) 새로운 가치 창출\n",
      "                                          3) 분석 기술 발전\n",
      "cf. 전문인력증가는 가치측정과 관련 없음\n",
      "\n",
      "줄바꿈이 잘 보존되어 있음을 확인할 수 있습니다.\n"
     ]
    }
   ],
   "source": [
    "from langchain_community.document_loaders import PyMuPDFLoader\n",
    "\n",
    "# PyMuPDF 로더 인스턴스 생성\n",
    "pymupdf_loader = PyMuPDFLoader(FILE_PATH)\n",
    "\n",
    "# 문서 로드\n",
    "pymupdf_docs = pymupdf_loader.load()\n",
    "\n",
    "print(f\"로드된 문서 수: {len(pymupdf_docs)}\")\n",
    "print(f\"\\n첫 번째 페이지 내용 (처음 400자):\")\n",
    "print(pymupdf_docs[0].page_content[:400])\n",
    "print(\"\\n줄바꿈이 잘 보존되어 있음을 확인할 수 있습니다.\")"
   ]
  },
  {
   "cell_type": "code",
   "execution_count": 9,
   "metadata": {},
   "outputs": [
    {
     "name": "stdout",
     "output_type": "stream",
     "text": [
      "[metadata keys]\n",
      "['producer', 'creator', 'creationdate', 'source', 'file_path', 'total_pages', 'format', 'title', 'author', 'subject', 'keywords', 'moddate', 'trapped', 'modDate', 'creationDate', 'page']\n",
      "\n",
      "[metadata examples]\n",
      "producer     : PyPDF2\n",
      "creator      : \n",
      "creationdate : \n",
      "source       : ../ADsP.pdf\n",
      "file_path    : ../ADsP.pdf\n",
      "total_pages  : 1\n",
      "format       : PDF 1.4\n",
      "title        : \n",
      "author       : \n",
      "subject      : \n",
      "keywords     : \n",
      "moddate      : \n",
      "trapped      : \n",
      "modDate      : \n",
      "creationDate : \n",
      "page         : 0\n",
      "\n",
      "PyMuPDF는 더 많은 메타데이터 필드를 제공합니다 (예: format, file_path).\n"
     ]
    }
   ],
   "source": [
    "# PyMuPDF의 메타데이터 확인\n",
    "show_metadata(pymupdf_docs)\n",
    "print(\"\\nPyMuPDF는 더 많은 메타데이터 필드를 제공합니다 (예: format, file_path).\")"
   ]
  },
  {
   "cell_type": "markdown",
   "metadata": {},
   "source": [
    "## 6. UnstructuredPDFLoader <a id='unstructured'></a>\n",
    "\n",
    "[Unstructured](https://unstructured-io.github.io/unstructured/)는 비구조화된 또는 반구조화된 파일 형식을 다루기 위한 고급 도구입니다.\n",
    "\n",
    "### 설치\n",
    "```bash\n",
    "pip install -qU unstructured\n",
    "```\n",
    "\n",
    "### 특징\n",
    "- **고급 레이아웃 분석**: 문서 구조를 이해하고 요소별로 분류\n",
    "- **다양한 모드 지원**:\n",
    "  - `single`: 전체 문서를 하나로\n",
    "  - `elements`: 요소별로 분할 (제목, 단락, 표 등)\n",
    "- **카테고리 분류**: 각 요소를 Title, NarrativeText 등으로 분류"
   ]
  },
  {
   "cell_type": "code",
   "execution_count": 10,
   "metadata": {},
   "outputs": [
    {
     "name": "stdout",
     "output_type": "stream",
     "text": [
      "기본 모드 - 로드된 문서 수: 1\n",
      "첫 번째 문서 내용 (처음 300자):\n",
      "<ADsP 요약정리 및 오답노트>\n",
      "\n",
      "-1과목-\n",
      "\n",
      "(객관식) 데이터 마스킹 : 데이터의 속성은 유지한 채, 익명으로 생성 Cinematch -> 넷플릭스에서 개발한 알고리즘 데이터마이닝 vs 머신러닝(딥러닝) 구분하기 다른거임 트레이딩, 공급, 수요예측 -> 에너지 산업 CRM -> 고객관계관리 데이터베이스 (기업내부) ERP -> 기업 전체를 통합적으로 관리하고 경영의 효율화 목적 빅데이터 가치측정 어려윤 이유 : 1) 데이터 재사용,재조합,다목적용 개발\n",
      "\n",
      "2) 새로운 가치 창출\n",
      "\n",
      "3) 분석 기술 발전\n"
     ]
    }
   ],
   "source": [
    "from langchain_community.document_loaders import UnstructuredPDFLoader\n",
    "\n",
    "# UnstructuredPDFLoader 인스턴스 생성 (기본 모드)\n",
    "unstructured_loader = UnstructuredPDFLoader(FILE_PATH)\n",
    "\n",
    "# 데이터 로드\n",
    "unstructured_docs = unstructured_loader.load()\n",
    "\n",
    "print(f\"기본 모드 - 로드된 문서 수: {len(unstructured_docs)}\")\n",
    "print(\"첫 번째 문서 내용 (처음 300자):\")\n",
    "print(unstructured_docs[0].page_content[:300])"
   ]
  },
  {
   "cell_type": "code",
   "execution_count": 11,
   "metadata": {},
   "outputs": [
    {
     "name": "stdout",
     "output_type": "stream",
     "text": [
      "[metadata keys]\n",
      "['source']\n",
      "\n",
      "[metadata examples]\n",
      "source : ../ADsP.pdf\n"
     ]
    }
   ],
   "source": [
    "# 기본 모드의 메타데이터 확인\n",
    "show_metadata(unstructured_docs)"
   ]
  },
  {
   "cell_type": "code",
   "execution_count": 12,
   "metadata": {},
   "outputs": [
    {
     "name": "stdout",
     "output_type": "stream",
     "text": [
      "Elements 모드 - 로드된 문서 수: 3\n",
      "\n",
      "첫 번째 요소:\n",
      "내용: <ADsP 요약정리 및 오답노트>\n",
      "카테고리: Title\n",
      "\n",
      "두 번째 요소:\n",
      "내용: -1과목-\n",
      "카테고리: Title\n",
      "\n",
      "발견된 모든 카테고리: {'Title', 'NarrativeText'}\n"
     ]
    }
   ],
   "source": [
    "# Elements 모드로 로더 생성\n",
    "elements_loader = UnstructuredPDFLoader(FILE_PATH, mode=\"elements\")\n",
    "\n",
    "# 데이터 로드\n",
    "elements_docs = elements_loader.load()\n",
    "\n",
    "print(f\"Elements 모드 - 로드된 문서 수: {len(elements_docs)}\")\n",
    "print()\n",
    "\n",
    "# 처음 몇 개 요소 확인\n",
    "for i, doc in enumerate(elements_docs[:2]):\n",
    "    print(f\"{['첫', '두'][i]} 번째 요소:\")\n",
    "    print(f\"내용: {doc.page_content}\")\n",
    "    print(f\"카테고리: {doc.metadata.get('category', 'N/A')}\")\n",
    "    print()\n",
    "\n",
    "# 모든 카테고리 추출\n",
    "categories = set(doc.metadata.get(\"category\", \"Unknown\") for doc in elements_docs)\n",
    "print(f\"발견된 모든 카테고리: {categories}\")"
   ]
  },
  {
   "cell_type": "code",
   "execution_count": 13,
   "metadata": {},
   "outputs": [
    {
     "name": "stdout",
     "output_type": "stream",
     "text": [
      "Elements 모드의 메타데이터:\n",
      "[metadata keys]\n",
      "['source', 'coordinates', 'filename', 'languages', 'last_modified', 'filetype', 'category', 'element_id']\n",
      "\n",
      "[metadata examples]\n",
      "source        : ../ADsP.pdf\n",
      "coordinates   : {'points': ((174.0, 203.0), (174.0, 230.0), (469.0, 230.0), (469.0, 203.0)), 'system': 'PixelSpace', 'layout_width': 612.0, 'layout_height': 792.0}\n",
      "filename      : ADsP.pdf\n",
      "languages     : ['kor']\n",
      "last_modified : 2025-01-15T14:12:45\n",
      "filetype      : application/pdf\n",
      "category      : Title\n",
      "element_id    : c3f96de214ab2a87f4a30c03f2c7cf35\n",
      "\n",
      "Elements 모드는 훨씬 더 풍부한 메타데이터를 제공합니다!\n"
     ]
    }
   ],
   "source": [
    "# Elements 모드의 상세 메타데이터 확인\n",
    "print(\"Elements 모드의 메타데이터:\")\n",
    "show_metadata(elements_docs)\n",
    "print(\"\\nElements 모드는 훨씬 더 풍부한 메타데이터를 제공합니다!\")"
   ]
  },
  {
   "cell_type": "markdown",
   "metadata": {},
   "source": [
    "## 7. PyPDFium2Loader <a id='pypdfium2'></a>\n",
    "\n",
    "`PyPDFium2Loader`는 PDFium 라이브러리를 기반으로 한 로더로, Google Chrome의 PDF 렌더링 엔진을 사용합니다.\n",
    "\n",
    "### 설치\n",
    "```bash\n",
    "pip install pypdfium2\n",
    "```\n",
    "\n",
    "### 특징\n",
    "- **안정적인 렌더링**: Chrome의 PDF 엔진 사용\n",
    "- **좋은 성능**: 빠른 처리 속도\n",
    "- **깔끔한 텍스트 추출**: 레이아웃을 잘 보존"
   ]
  },
  {
   "cell_type": "code",
   "execution_count": 14,
   "metadata": {},
   "outputs": [
    {
     "name": "stdout",
     "output_type": "stream",
     "text": [
      "로드된 문서 수: 1\n",
      "\n",
      "첫 번째 페이지 내용 (처음 400자):\n",
      "<ADsP 요약정리 및 오답노트>\n",
      "-1과목-\n",
      "(객관식)\n",
      "데이터 마스킹 : 데이터의 속성은 유지한 채, 익명으로 생성\n",
      "Cinematch -> 넷플릭스에서 개발한 알고리즘\n",
      "데이터마이닝 vs 머신러닝(딥러닝) 구분하기 다른거임\n",
      "트레이딩, 공급, 수요예측 -> 에너지 산업\n",
      "CRM -> 고객관계관리 데이터베이스 (기업내부)\n",
      "ERP -> 기업 전체를 통합적으로 관리하고 경영의 효율화 목적\n",
      "빅데이터 가치측정 어려윤 이유 : 1) 데이터 재사용,재조합,다목적용 개발\n",
      " 2) 새로운 가치 창출\n",
      "3) 분석 기술 발전\n",
      "cf. 전문인력증가는 가치측정과 관련 없음\n",
      "사생활 침해를 막기 위한 개인정보 무작위 처리 (본래 목적 외에\n"
     ]
    }
   ],
   "source": [
    "from langchain_community.document_loaders import PyPDFium2Loader\n",
    "\n",
    "# PyPDFium2 로더 인스턴스 생성\n",
    "pdfium2_loader = PyPDFium2Loader(FILE_PATH)\n",
    "\n",
    "# 데이터 로드\n",
    "pdfium2_docs = pdfium2_loader.load()\n",
    "\n",
    "print(f\"로드된 문서 수: {len(pdfium2_docs)}\")\n",
    "print(f\"\\n첫 번째 페이지 내용 (처음 400자):\")\n",
    "print(pdfium2_docs[0].page_content[:400])"
   ]
  },
  {
   "cell_type": "code",
   "execution_count": 15,
   "metadata": {},
   "outputs": [
    {
     "name": "stdout",
     "output_type": "stream",
     "text": [
      "[metadata keys]\n",
      "['title', 'author', 'subject', 'keywords', 'creator', 'producer', 'creationdate', 'moddate', 'source', 'total_pages', 'page']\n",
      "\n",
      "[metadata examples]\n",
      "title        : \n",
      "author       : \n",
      "subject      : \n",
      "keywords     : \n",
      "creator      : \n",
      "producer     : PyPDF2\n",
      "creationdate : \n",
      "moddate      : \n",
      "source       : ../ADsP.pdf\n",
      "total_pages  : 1\n",
      "page         : 0\n"
     ]
    }
   ],
   "source": [
    "# PyPDFium2의 메타데이터 확인\n",
    "show_metadata(pdfium2_docs)"
   ]
  },
  {
   "cell_type": "markdown",
   "metadata": {},
   "source": [
    "## 8. 로더 비교 및 선택 가이드 <a id='comparison'></a>\n",
    "\n",
    "각 PDF 로더의 특징을 비교하고 상황별 추천 로더를 제시합니다."
   ]
  },
  {
   "cell_type": "code",
   "execution_count": 16,
   "metadata": {},
   "outputs": [
    {
     "name": "stdout",
     "output_type": "stream",
     "text": [
      "=== PDF 로더 비교 분석 ===\n",
      "\n",
      "1. PyPDFLoader\n",
      "   - 문서 수: 1\n",
      "   - 메타데이터 필드: 7개\n",
      "   - 첫 50자: <ADsP 요약정리 및 오답노트>-1과목-(객관식)데이터 마스킹 : 데이터의 속성은 유지한 채, \n",
      "\n",
      "2. PyMuPDFLoader\n",
      "   - 문서 수: 1\n",
      "   - 메타데이터 필드: 16개\n",
      "   - 첫 50자: <ADsP 요약정리 및 오답노트>\n",
      "-1과목-\n",
      "(객관식)\n",
      "데이터 마스킹 : 데이터의 속성\n",
      "\n",
      "3. UnstructuredPDFLoader (기본)\n",
      "   - 문서 수: 1\n",
      "   - 메타데이터 필드: 1개\n",
      "   - 첫 50자: <ADsP 요약정리 및 오답노트>\n",
      "\n",
      "-1과목-\n",
      "\n",
      "(객관식) 데이터 마스킹 : 데이\n",
      "\n",
      "4. UnstructuredPDFLoader (elements)\n",
      "   - 문서 수: 3\n",
      "   - 메타데이터 필드: 8개\n",
      "   - 카테고리: Title, NarrativeText\n",
      "\n",
      "5. PyPDFium2Loader\n",
      "   - 문서 수: 1\n",
      "   - 메타데이터 필드: 11개\n",
      "   - 첫 50자: <ADsP 요약정리 및 오답노트>\n",
      "-1과목-\n",
      "(객관식)\n",
      "데이터 마스킹 : 데이터의 속성\n"
     ]
    }
   ],
   "source": [
    "# 로더 비교 분석\n",
    "print(\"=== PDF 로더 비교 분석 ===\")\n",
    "print()\n",
    "\n",
    "loaders_comparison = [\n",
    "    (\"PyPDFLoader\", docs, \"기본적이지만 빠른 텍스트 추출\"),\n",
    "    (\"PyMuPDFLoader\", pymupdf_docs, \"빠르고 서식 보존 우수\"),\n",
    "    (\"UnstructuredPDFLoader (기본)\", unstructured_docs, \"전체 문서를 하나로\"),\n",
    "    (\"UnstructuredPDFLoader (elements)\", elements_docs, \"요소별 분류 및 분석\"),\n",
    "    (\"PyPDFium2Loader\", pdfium2_docs, \"Chrome PDF 엔진 사용\")\n",
    "]\n",
    "\n",
    "for name, loader_docs, desc in loaders_comparison:\n",
    "    print(f\"{loaders_comparison.index((name, loader_docs, desc)) + 1}. {name}\")\n",
    "    print(f\"   - 문서 수: {len(loader_docs)}\")\n",
    "    print(f\"   - 메타데이터 필드: {len(loader_docs[0].metadata.keys())}개\")\n",
    "    if name == \"UnstructuredPDFLoader (elements)\":\n",
    "        categories = set(doc.metadata.get(\"category\", \"Unknown\") for doc in loader_docs)\n",
    "        print(f\"   - 카테고리: {', '.join(categories)}\")\n",
    "    else:\n",
    "        print(f\"   - 첫 50자: {loader_docs[0].page_content[:50]}\")\n",
    "    print()"
   ]
  },
  {
   "cell_type": "markdown",
   "metadata": {},
   "source": [
    "### 상황별 추천 로더\n",
    "\n",
    "| 상황 | 추천 로더 | 이유 |\n",
    "|------|-----------|------|\n",
    "| **빠른 처리가 필요한 경우** | PyMuPDFLoader | 가장 빠른 처리 속도, 안정적 |\n",
    "| **간단한 텍스트 추출** | PyPDFLoader | 단순하고 가벼움 |\n",
    "| **OCR이 필요한 경우** | PyPDFLoader + OCR | extract_images=True 옵션 사용 |\n",
    "| **문서 구조 분석** | UnstructuredPDFLoader (elements) | 제목, 단락 등 요소별 분류 |\n",
    "| **상세 메타데이터 필요** | PyMuPDFLoader 또는 UnstructuredPDFLoader | 풍부한 메타데이터 제공 |\n",
    "| **안정적인 렌더링** | PyPDFium2Loader | Chrome의 PDF 엔진 사용 |"
   ]
  },
  {
   "cell_type": "markdown",
   "metadata": {},
   "source": [
    "## 9. 핵심 요약 <a id='summary'></a>\n",
    "\n",
    "### 🎯 주요 학습 내용\n",
    "\n",
    "1. **PyPDFLoader**\n",
    "   - 가장 기본적인 PDF 로더\n",
    "   - OCR 지원 (rapidocr-onnxruntime 필요)\n",
    "   - 간단한 사용 사례에 적합\n",
    "\n",
    "2. **PyMuPDFLoader**\n",
    "   - 빠른 처리 속도\n",
    "   - 텍스트 서식 보존 우수\n",
    "   - 대용량 PDF 처리에 적합\n",
    "\n",
    "3. **UnstructuredPDFLoader**\n",
    "   - 고급 문서 구조 분석\n",
    "   - 요소별 분류 (제목, 단락 등)\n",
    "   - 복잡한 문서 처리에 적합\n",
    "\n",
    "4. **PyPDFium2Loader**\n",
    "   - Chrome PDF 엔진 사용\n",
    "   - 안정적인 렌더링\n",
    "   - 균형잡힌 성능\n",
    "\n",
    "### 💡 실무 팁\n",
    "\n",
    "1. **로더 선택 기준**\n",
    "   - 처리 속도 vs 기능의 균형 고려\n",
    "   - 문서 유형에 따른 적절한 로더 선택\n",
    "   - 필요한 메타데이터 수준 고려\n",
    "\n",
    "2. **성능 최적화**\n",
    "   - 대량 처리시 PyMuPDFLoader 사용\n",
    "   - 메모리 사용량 모니터링\n",
    "   - 필요시 배치 처리 구현\n",
    "\n",
    "3. **문제 해결**\n",
    "   - 깨진 텍스트: OCR 사용 고려\n",
    "   - 복잡한 레이아웃: UnstructuredPDFLoader 사용\n",
    "   - 메타데이터 부족: 다른 로더 시도\n",
    "\n",
    "### 🔧 코드 예제\n",
    "\n",
    "```python\n",
    "# 상황별 로더 선택 예제\n",
    "def select_pdf_loader(file_path, needs_ocr=False, needs_structure=False):\n",
    "    if needs_structure:\n",
    "        from langchain_community.document_loaders import UnstructuredPDFLoader\n",
    "        return UnstructuredPDFLoader(file_path, mode=\"elements\")\n",
    "    elif needs_ocr:\n",
    "        from langchain_community.document_loaders import PyPDFLoader\n",
    "        return PyPDFLoader(file_path, extract_images=True)\n",
    "    else:\n",
    "        from langchain_community.document_loaders import PyMuPDFLoader\n",
    "        return PyMuPDFLoader(file_path)\n",
    "```"
   ]
  }
 ],
 "metadata": {
  "kernelspec": {
   "display_name": "Python 3",
   "language": "python",
   "name": "python3"
  },
  "language_info": {
   "codemirror_mode": {
    "name": "ipython",
    "version": 3
   },
   "file_extension": ".py",
   "mimetype": "text/x-python",
   "name": "python",
   "nbconvert_exporter": "python",
   "pygments_lexer": "ipython3",
   "version": "3.8.0"
  }
 },
 "nbformat": 4,
 "nbformat_minor": 4
}
    