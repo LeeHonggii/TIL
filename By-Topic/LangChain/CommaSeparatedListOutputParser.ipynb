{
 "cells": [
  {
   "cell_type": "markdown",
   "metadata": {},
   "source": [
    "# CommaSeparatedListOutputParser 활용법\n",
    "\n",
    "## 개요\n",
    "LangChain의 `CommaSeparatedListOutputParser`는 LLM의 출력을 쉼표로 구분된 리스트 형태로 파싱하는 출력 파서입니다. 간단한 리스트 형태의 응답이 필요할 때 유용하게 사용할 수 있습니다.\n",
    "\n",
    "### 주요 특징\n",
    "- 쉼표로 구분된 문자열을 Python 리스트로 자동 변환\n",
    "- 간단하고 직관적인 사용법\n",
    "- 스트리밍 지원"
   ]
  },
  {
   "cell_type": "markdown",
   "metadata": {},
   "source": [
    "## 환경 설정"
   ]
  },
  {
   "cell_type": "code",
   "execution_count": 1,
   "metadata": {},
   "outputs": [
    {
     "data": {
      "text/plain": [
       "True"
      ]
     },
     "execution_count": 1,
     "metadata": {},
     "output_type": "execute_result"
    }
   ],
   "source": [
    "from dotenv import load_dotenv\n",
    "\n",
    "# 환경 변수 로드\n",
    "load_dotenv()"
   ]
  },
  {
   "cell_type": "markdown",
   "metadata": {},
   "source": [
    "## 기본 사용법"
   ]
  },
  {
   "cell_type": "code",
   "execution_count": 2,
   "metadata": {},
   "outputs": [],
   "source": [
    "from langchain_core.output_parsers import CommaSeparatedListOutputParser\n",
    "from langchain_core.prompts import PromptTemplate\n",
    "from langchain_openai import ChatOpenAI\n",
    "\n",
    "# 콤마로 구분된 리스트 출력 파서 초기화\n",
    "output_parser = CommaSeparatedListOutputParser()\n",
    "\n",
    "# 출력 형식 지침 가져오기\n",
    "format_instructions = output_parser.get_format_instructions()"
   ]
  },
  {
   "cell_type": "markdown",
   "metadata": {},
   "source": [
    "### 출력 형식 지침 확인\n",
    "\n",
    "파서가 생성하는 형식 지침을 확인해보면, LLM에게 어떤 형태로 응답하라고 지시하는지 알 수 있습니다."
   ]
  },
  {
   "cell_type": "code",
   "execution_count": 3,
   "metadata": {},
   "outputs": [
    {
     "name": "stdout",
     "output_type": "stream",
     "text": [
      "Your response should be a list of comma separated values, eg: `foo, bar, baz` or `foo,bar,baz`\n"
     ]
    }
   ],
   "source": [
    "# 지침 확인\n",
    "print(format_instructions)"
   ]
  },
  {
   "cell_type": "markdown",
   "metadata": {},
   "source": [
    "## 체인 구성 및 실행"
   ]
  },
  {
   "cell_type": "code",
   "execution_count": 4,
   "metadata": {},
   "outputs": [],
   "source": [
    "# 프롬프트 템플릿 설정\n",
    "prompt = PromptTemplate(\n",
    "    # 주제에 대한 다섯 가지를 나열하라는 템플릿\n",
    "    template=\"List five {subject}.\\n{format_instructions}\",\n",
    "    input_variables=[\"subject\"],  # 입력 변수로 'subject' 사용\n",
    "    # 부분 변수로 형식 지침 사용\n",
    "    partial_variables={\"format_instructions\": format_instructions},\n",
    ")\n",
    "\n",
    "# ChatOpenAI 모델 초기화 (temperature=0으로 일관된 응답 유도)\n",
    "model = ChatOpenAI(temperature=0)\n",
    "\n",
    "# 프롬프트, 모델, 출력 파서를 연결하여 체인 생성\n",
    "chain = prompt | model | output_parser"
   ]
  },
  {
   "cell_type": "markdown",
   "metadata": {},
   "source": [
    "### 체인 실행 예제"
   ]
  },
  {
   "cell_type": "code",
   "execution_count": 5,
   "metadata": {},
   "outputs": [
    {
     "data": {
      "text/plain": [
       "['경복궁', '남산타워', '부산 해운대해수욕장', '제주도 성산일출봉', '경주 불국사']"
      ]
     },
     "execution_count": 5,
     "metadata": {},
     "output_type": "execute_result"
    }
   ],
   "source": [
    "# \"대한민국 관광명소\"에 대한 체인 호출 실행\n",
    "result = chain.invoke({\"subject\": \"대한민국 관광명소\"})\n",
    "result"
   ]
  },
  {
   "cell_type": "markdown",
   "metadata": {},
   "source": [
    "## 스트리밍 지원\n",
    "\n",
    "`CommaSeparatedListOutputParser`는 스트리밍도 지원합니다. 각 항목이 생성될 때마다 실시간으로 받아볼 수 있습니다."
   ]
  },
  {
   "cell_type": "code",
   "execution_count": 6,
   "metadata": {},
   "outputs": [
    {
     "name": "stdout",
     "output_type": "stream",
     "text": [
      "['경복궁']\n",
      "['남산타워']\n",
      "['부산 해운대해수욕장']\n",
      "['제주도']\n",
      "['경주 불국사']\n"
     ]
    }
   ],
   "source": [
    "# 스트림을 순회하며 각 항목을 실시간으로 출력\n",
    "for s in chain.stream({\"subject\": \"대한민국 관광명소\"}):\n",
    "    print(s)  # 스트림의 내용을 출력"
   ]
  },
  {
   "cell_type": "markdown",
   "metadata": {},
   "source": [
    "## 다양한 활용 예제"
   ]
  },
  {
   "cell_type": "code",
   "execution_count": 7,
   "metadata": {},
   "outputs": [
    {
     "name": "stdout",
     "output_type": "stream",
     "text": [
      "프로그래밍 언어: ['Python', 'JavaScript', 'Java', 'C++', 'TypeScript']\n",
      "머신러닝 알고리즘: ['선형 회귀', '로지스틱 회귀', '결정 트리', '랜덤 포레스트', '서포트 벡터 머신']\n",
      "데이터베이스 종류: ['MySQL', 'PostgreSQL', 'MongoDB', 'Redis', 'Oracle']\n"
     ]
    }
   ],
   "source": [
    "# 다양한 주제로 리스트 생성\n",
    "subjects = [\"프로그래밍 언어\", \"머신러닝 알고리즘\", \"데이터베이스 종류\"]\n",
    "\n",
    "for subject in subjects:\n",
    "    result = chain.invoke({\"subject\": subject})\n",
    "    print(f\"{subject}: {result}\")"
   ]
  },
  {
   "cell_type": "markdown",
   "metadata": {},
   "source": [
    "## 커스텀 프롬프트 활용"
   ]
  },
  {
   "cell_type": "code",
   "execution_count": 8,
   "metadata": {},
   "outputs": [
    {
     "name": "stdout",
     "output_type": "stream",
     "text": [
      "긍정적인 단어들: ['행복', '사랑', '희망', '평화', '감사', '기쁨', '성공', '자유', '열정', '조화']\n"
     ]
    }
   ],
   "source": [
    "# 더 복잡한 프롬프트 템플릿\n",
    "custom_prompt = PromptTemplate(\n",
    "    template=\"\"\"당신은 {category} 전문가입니다.\n",
    "{category}와 관련된 {number}개의 항목을 나열해주세요.\n",
    "{format_instructions}\"\"\",\n",
    "    input_variables=[\"category\", \"number\"],\n",
    "    partial_variables={\"format_instructions\": format_instructions},\n",
    ")\n",
    "\n",
    "# 새로운 체인 생성\n",
    "custom_chain = custom_prompt | model | output_parser\n",
    "\n",
    "# 실행\n",
    "result = custom_chain.invoke({\n",
    "    \"category\": \"감정 표현\",\n",
    "    \"number\": \"10\"\n",
    "})\n",
    "\n",
    "print(f\"긍정적인 단어들: {result}\")"
   ]
  },
  {
   "cell_type": "markdown",
   "metadata": {},
   "source": [
    "## 오류 처리 및 검증"
   ]
  },
  {
   "cell_type": "code",
   "execution_count": 9,
   "metadata": {},
   "outputs": [
    {
     "name": "stdout",
     "output_type": "stream",
     "text": [
      "요청한 항목 수: 3\n",
      "실제 반환된 항목 수: 3\n",
      "결과: ['파이썬', '자바스크립트', '자바']\n"
     ]
    }
   ],
   "source": [
    "# 반환된 리스트의 길이 검증\n",
    "def validate_list_length(subject, expected_count):\n",
    "    prompt_with_count = PromptTemplate(\n",
    "        template=\"List exactly {count} {subject}.\\n{format_instructions}\",\n",
    "        input_variables=[\"subject\", \"count\"],\n",
    "        partial_variables={\"format_instructions\": format_instructions},\n",
    "    )\n",
    "    \n",
    "    chain_with_count = prompt_with_count | model | output_parser\n",
    "    \n",
    "    result = chain_with_count.invoke({\n",
    "        \"subject\": subject,\n",
    "        \"count\": expected_count\n",
    "    })\n",
    "    \n",
    "    print(f\"요청한 항목 수: {expected_count}\")\n",
    "    print(f\"실제 반환된 항목 수: {len(result)}\")\n",
    "    print(f\"결과: {result}\")\n",
    "    \n",
    "    return result\n",
    "\n",
    "# 테스트\n",
    "validate_list_length(\"프로그래밍 언어\", 3)"
   ]
  },
  {
   "cell_type": "markdown",
   "metadata": {},
   "source": [
    "## 요약\n",
    "\n",
    "`CommaSeparatedListOutputParser`는 LangChain에서 제공하는 간단하면서도 유용한 출력 파서입니다.\n",
    "\n",
    "### 주요 장점\n",
    "1. **간단한 사용법**: 복잡한 설정 없이 바로 사용 가능\n",
    "2. **자동 파싱**: 쉼표로 구분된 텍스트를 Python 리스트로 자동 변환\n",
    "3. **스트리밍 지원**: 실시간으로 결과를 받아볼 수 있음\n",
    "4. **유연성**: 다양한 프롬프트 템플릿과 함께 사용 가능\n",
    "\n",
    "### 사용 시 주의사항\n",
    "- LLM이 항상 정확한 개수의 항목을 반환하는 것은 아니므로, 필요시 검증 로직 추가\n",
    "- 복잡한 구조의 데이터가 필요한 경우 `PydanticOutputParser` 등 다른 파서 고려"
   ]
  }
 ],
 "metadata": {
  "kernelspec": {
   "display_name": "Python 3",
   "language": "python",
   "name": "python3"
  },
  "language_info": {
   "codemirror_mode": {
    "name": "ipython",
    "version": 3
   },
   "file_extension": ".py",
   "mimetype": "text/x-python",
   "name": "python",
   "nbconvert_exporter": "python",
   "pygments_lexer": "ipython3",
   "version": "3.11.0"
  }
 },
 "nbformat": 4,
 "nbformat_minor": 2
}