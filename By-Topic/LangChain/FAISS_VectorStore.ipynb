{
 "cells": [
  {
   "cell_type": "markdown",
   "id": "7161f8f5",
   "metadata": {},
   "source": [
    "# FAISS VectorStore Tutorial\n",
    "\n",
    "Facebook AI Similarity Search (FAISS)는 밀집 벡터의 효율적인 유사도 검색과 클러스터링을 위한 라이브러리입니다.\n",
    "\n",
    "FAISS는 RAM에 맞지 않을 수도 있는 벡터 집합을 포함하여 모든 크기의 벡터 집합을 검색하는 알고리즘을 포함하고 있습니다.\n",
    "\n",
    "또한 평가와 매개변수 튜닝을 위한 지원 코드도 포함되어 있습니다.\n",
    "\n",
    "**참고**\n",
    "- [LangChain FAISS 문서](https://python.langchain.com/v0.2/docs/integrations/vectorstores/faiss/)\n",
    "- [FAISS 문서](https://faiss.ai/)\n",
    "\n",
    "## 목차\n",
    "1. [환경 설정](#환경-설정)\n",
    "2. [VectorStore 생성](#vectorstore-생성)\n",
    "3. [문서 추가 및 삭제](#문서-추가-및-삭제)\n",
    "4. [유사도 검색](#유사도-검색)\n",
    "5. [저장 및 로드](#저장-및-로드)\n",
    "6. [검색기로 변환](#검색기로-변환)"
   ]
  },
  {
   "cell_type": "markdown",
   "id": "setup-section",
   "metadata": {},
   "source": [
    "## 환경 설정"
   ]
  },
  {
   "cell_type": "code",
   "execution_count": 1,
   "id": "82377384",
   "metadata": {},
   "outputs": [
    {
     "data": {
      "text/plain": [
       "True"
      ]
     },
     "execution_count": 1,
     "metadata": {},
     "output_type": "execute_result"
    }
   ],
   "source": [
    "# API 키를 환경변수로 관리하기 위한 설정 파일\n",
    "from dotenv import load_dotenv\n",
    "\n",
    "# API 키 정보 로드\n",
    "load_dotenv()"
   ]
  },
  {
   "cell_type": "markdown",
   "id": "data-preparation",
   "metadata": {},
   "source": [
    "## 데이터 준비\n",
    "\n",
    "FAISS 벡터 저장소를 생성하기 전에 텍스트 데이터를 로드하고 적절한 크기로 분할합니다."
   ]
  },
  {
   "cell_type": "code",
   "execution_count": 3,
   "id": "ef3de166",
   "metadata": {},
   "outputs": [
    {
     "data": {
      "text/plain": [
       "(11, 6)"
      ]
     },
     "execution_count": 3,
     "metadata": {},
     "output_type": "execute_result"
    }
   ],
   "source": [
    "from langchain_community.document_loaders import TextLoader\n",
    "from langchain.text_splitter import RecursiveCharacterTextSplitter\n",
    "\n",
    "\n",
    "# 텍스트 분할\n",
    "text_splitter = RecursiveCharacterTextSplitter(chunk_size=600, chunk_overlap=0)\n",
    "\n",
    "# 텍스트 파일을 load -> List[Document] 형태로 변환\n",
    "loader1 = TextLoader(\"../data/nlp-keywords.txt\")\n",
    "loader2 = TextLoader(\"../data/finance-keywords.txt\")\n",
    "\n",
    "# 문서 분할\n",
    "split_doc1 = loader1.load_and_split(text_splitter)\n",
    "split_doc2 = loader2.load_and_split(text_splitter)\n",
    "\n",
    "# 문서 개수 확인\n",
    "len(split_doc1), len(split_doc2)"
   ]
  },
  {
   "cell_type": "markdown",
   "id": "a604bfd2",
   "metadata": {},
   "source": [
    "## VectorStore 생성\n",
    "\n",
    "### 방법 1: 직접 초기화\n",
    "\n",
    "**주요 초기화 매개변수**\n",
    "\n",
    "1. 인덱싱 매개변수:\n",
    "   - `embedding_function` (Embeddings): 사용할 임베딩 함수\n",
    "\n",
    "2. 클라이언트 매개변수:\n",
    "   - `index` (Any): 사용할 FAISS 인덱스\n",
    "   - `docstore` (Docstore): 사용할 문서 저장소\n",
    "   - `index_to_docstore_id` (Dict[int, str]): 인덱스에서 문서 저장소 ID로의 매핑\n",
    "\n",
    "**참고**\n",
    "\n",
    "- FAISS는 고성능 벡터 검색 및 클러스터링을 위한 라이브러리입니다.\n",
    "- 이 클래스는 FAISS를 LangChain의 VectorStore 인터페이스와 통합합니다.\n",
    "- 임베딩 함수, FAISS 인덱스, 문서 저장소를 조합하여 효율적인 벡터 검색 시스템을 구축할 수 있습니다."
   ]
  },
  {
   "cell_type": "code",
   "execution_count": 4,
   "id": "ab4180a8",
   "metadata": {},
   "outputs": [
    {
     "name": "stdout",
     "output_type": "stream",
     "text": [
      "1536\n"
     ]
    }
   ],
   "source": [
    "import faiss\n",
    "from langchain_community.vectorstores import FAISS\n",
    "from langchain_community.docstore.in_memory import InMemoryDocstore\n",
    "from langchain_openai import OpenAIEmbeddings\n",
    "\n",
    "# 임베딩\n",
    "embeddings = OpenAIEmbeddings(model=\"text-embedding-3-small\")\n",
    "\n",
    "# 임베딩 차원 크기를 계산\n",
    "dimension_size = len(embeddings.embed_query(\"hello world\"))\n",
    "print(dimension_size)"
   ]
  },
  {
   "cell_type": "code",
   "execution_count": 5,
   "id": "716c203b",
   "metadata": {},
   "outputs": [],
   "source": [
    "# FAISS 벡터 저장소 생성\n",
    "db = FAISS(\n",
    "    embedding_function=embeddings,\n",
    "    index=faiss.IndexFlatL2(dimension_size),\n",
    "    docstore=InMemoryDocstore(),\n",
    "    index_to_docstore_id={},\n",
    ")"
   ]
  },
  {
   "cell_type": "markdown",
   "id": "a6ce8d0c",
   "metadata": {},
   "source": [
    "### 방법 2: from_documents로 생성\n",
    "\n",
    "`from_documents` 클래스 메서드는 문서 리스트와 임베딩 함수를 사용하여 FAISS 벡터 저장소를 생성합니다.\n",
    "\n",
    "**매개변수**\n",
    "\n",
    "- `documents` (List[Document]): 벡터 저장소에 추가할 문서 리스트\n",
    "- `embedding` (Embeddings): 사용할 임베딩 함수\n",
    "- `**kwargs`: 추가 키워드 인자\n",
    "\n",
    "**동작 방식**\n",
    "\n",
    "1. 문서 리스트에서 텍스트 내용(`page_content`)과 메타데이터를 추출합니다.\n",
    "2. 추출한 텍스트와 메타데이터를 사용하여 `from_texts` 메서드를 호출합니다.\n",
    "\n",
    "**반환값**\n",
    "\n",
    "- `VectorStore`: 문서와 임베딩으로 초기화된 벡터 저장소 인스턴스"
   ]
  },
  {
   "cell_type": "code",
   "execution_count": 6,
   "id": "5c6c7fb8",
   "metadata": {},
   "outputs": [],
   "source": [
    "# DB 생성\n",
    "db = FAISS.from_documents(documents=split_doc1, embedding=OpenAIEmbeddings())"
   ]
  },
  {
   "cell_type": "code",
   "execution_count": 7,
   "id": "28b94e09",
   "metadata": {},
   "outputs": [
    {
     "data": {
      "text/plain": [
       "{0: '4cf4988c-03d9-4787-b044-56e5b111b12f',\n",
       " 1: '4d30c042-c6c0-4cfe-bba6-191a5410ca07',\n",
       " 2: '6f712c80-a43c-4fdd-b731-5a067bcb6597',\n",
       " 3: 'dd3da9b0-cac1-4b9d-9f2d-bb129f6afcb7',\n",
       " 4: '347b4905-d899-41de-8f61-74901377636c',\n",
       " 5: '38ea73cc-73e7-4345-a9f9-70a52be07061',\n",
       " 6: '4f8b0d85-9363-4c86-a890-ea6e1d0d64dc',\n",
       " 7: 'ace5dd80-4595-4995-9e47-738b8e8b0662',\n",
       " 8: 'd23b3f14-a278-4bcf-95fb-8b2e70d387f4',\n",
       " 9: 'e9654336-3e2c-480f-923b-45c0b0d9e441',\n",
       " 10: '3e9c25bc-6834-4148-9f79-fe34c057ac61'}"
      ]
     },
     "execution_count": 7,
     "metadata": {},
     "output_type": "execute_result"
    }
   ],
   "source": [
    "# 문서 저장소 ID 확인\n",
    "db.index_to_docstore_id"
   ]
  },
  {
   "cell_type": "markdown",
   "id": "ef67ad7f",
   "metadata": {},
   "source": [
    "### 방법 3: from_texts로 생성\n",
    "\n",
    "`from_texts` 클래스 메서드는 텍스트 리스트와 임베딩 함수를 사용하여 FAISS 벡터 저장소를 생성합니다.\n",
    "\n",
    "**매개변수**\n",
    "\n",
    "- `texts` (List[str]): 벡터 저장소에 추가할 텍스트 리스트\n",
    "- `embedding` (Embeddings): 사용할 임베딩 함수\n",
    "- `metadatas` (Optional[List[dict]]): 메타데이터 리스트. 기본값은 None\n",
    "- `ids` (Optional[List[str]]): 문서 ID 리스트. 기본값은 None\n",
    "- `**kwargs`: 추가 키워드 인자"
   ]
  },
  {
   "cell_type": "code",
   "execution_count": 9,
   "id": "caa2df90",
   "metadata": {},
   "outputs": [],
   "source": [
    "# 문자열 리스트로 생성\n",
    "db2 = FAISS.from_texts(\n",
    "    [\"안녕하세요. 정말 반갑습니다.\", \"제 이름은 홍기입니다.\"],\n",
    "    embedding=OpenAIEmbeddings(),\n",
    "    metadatas=[{\"source\": \"텍스트문서\"}, {\"source\": \"텍스트문서\"}],\n",
    "    ids=[\"doc1\", \"doc2\"],\n",
    ")"
   ]
  },
  {
   "cell_type": "code",
   "execution_count": 10,
   "id": "2136d328",
   "metadata": {},
   "outputs": [
    {
     "data": {
      "text/plain": [
       "{'doc1': Document(metadata={'source': '텍스트문서'}, page_content='안녕하세요. 정말 반갑습니다.'),\n",
       " 'doc2': Document(metadata={'source': '텍스트문서'}, page_content='제 이름은 홍기입니다.')}"
      ]
     },
     "execution_count": 10,
     "metadata": {},
     "output_type": "execute_result"
    }
   ],
   "source": [
    "# 저장된 내용\n",
    "db2.docstore._dict"
   ]
  },
  {
   "cell_type": "markdown",
   "id": "51292df7",
   "metadata": {},
   "source": [
    "## 유사도 검색\n",
    "\n",
    "`similarity_search` 메서드는 주어진 쿼리와 가장 유사한 문서들을 검색하는 기능을 제공합니다.\n",
    "\n",
    "**매개변수**\n",
    "\n",
    "- `query` (str): 유사한 문서를 찾기 위한 검색 쿼리 텍스트\n",
    "- `k` (int): 반환할 문서 수. 기본값은 4\n",
    "- `filter` (Optional[Union[Callable, Dict[str, Any]]]): 메타데이터 필터링 함수 또는 딕셔너리. 기본값은 None\n",
    "- `fetch_k` (int): 필터링 전에 가져올 문서 수. 기본값은 20\n",
    "- `**kwargs`: 추가 키워드 인자\n",
    "\n",
    "**반환값**\n",
    "\n",
    "- `List[Document]`: 쿼리와 가장 유사한 문서 리스트\n",
    "\n",
    "**주요 특징**\n",
    "\n",
    "- `filter` 매개변수를 사용하여 메타데이터 기반의 필터링이 가능합니다.\n",
    "- `fetch_k`를 통해 필터링 전 검색할 문서 수를 조절할 수 있어, 필터링 후 원하는 수의 문서를 확보할 수 있습니다."
   ]
  },
  {
   "cell_type": "code",
   "execution_count": 11,
   "id": "d7ef375c",
   "metadata": {},
   "outputs": [
    {
     "data": {
      "text/plain": [
       "[Document(metadata={'source': '../data/nlp-keywords.txt'}, page_content='정의: TF-IDF는 문서 내에서 단어의 중요도를 평가하는 데 사용되는 통계적 척도입니다...'),\n",
       " Document(metadata={'source': '../data/nlp-keywords.txt'}, page_content='정의: 오픈 소스는 소스 코드가 공개되어 누구나 자유롭게 사용, 수정, 배포할 수 있는 소프트웨어를 의미합니다...'),\n",
       " Document(metadata={'source': '../data/nlp-keywords.txt'}, page_content='정의: DataFrame은 행과 열로 이루어진 테이블 형태의 데이터 구조로, 주로 데이터 분석 및 처리에 사용됩니다...'),\n",
       " Document(metadata={'source': '../data/nlp-keywords.txt'}, page_content='정의: CSV(Comma-Separated Values)는 데이터를 저장하는 파일 형식으로, 각 데이터 값은 쉼표로 구분됩니다...')]"
      ]
     },
     "execution_count": 11,
     "metadata": {},
     "output_type": "execute_result"
    }
   ],
   "source": [
    "# 유사도 검색\n",
    "db.similarity_search(\"TF IDF 에 대하여 알려줘\")"
   ]
  },
  {
   "cell_type": "code",
   "execution_count": 12,
   "id": "3ad76a21",
   "metadata": {},
   "outputs": [
    {
     "data": {
      "text/plain": [
       "[Document(metadata={'source': '../data/nlp-keywords.txt'}, page_content='정의: TF-IDF는 문서 내에서 단어의 중요도를 평가하는 데 사용되는 통계적 척도입니다...'),\n",
       " Document(metadata={'source': '../data/nlp-keywords.txt'}, page_content='정의: 오픈 소스는 소스 코드가 공개되어 누구나 자유롭게 사용, 수정, 배포할 수 있는 소프트웨어를 의미합니다...')]"
      ]
     },
     "execution_count": 12,
     "metadata": {},
     "output_type": "execute_result"
    }
   ],
   "source": [
    "# k 값 지정\n",
    "db.similarity_search(\"TF IDF 에 대하여 알려줘\", k=2)"
   ]
  },
  {
   "cell_type": "markdown",
   "id": "1ef05ad9",
   "metadata": {},
   "source": [
    "### 메타데이터 필터링\n",
    "\n",
    "filter 에 metadata 정보를 활용하여 Filtering 할 수 있습니다."
   ]
  },
  {
   "cell_type": "code",
   "execution_count": 14,
   "id": "ea5d6b46",
   "metadata": {},
   "outputs": [
    {
     "data": {
      "text/plain": [
       "[Document(metadata={'source': '../data/nlp-keywords.txt'}, page_content='정의: TF-IDF는 문서 내에서 단어의 중요도를 평가하는 데 사용되는 통계적 척도입니다...'),\n",
       " Document(metadata={'source': '../data/nlp-keywords.txt'}, page_content='정의: 오픈 소스는 소스 코드가 공개되어 누구나 자유롭게 사용, 수정, 배포할 수 있는 소프트웨어를 의미합니다...')]"
      ]
     },
     "execution_count": 14,
     "metadata": {},
     "output_type": "execute_result"
    }
   ],
   "source": [
    "# filter 사용\n",
    "db.similarity_search(\n",
    "    \"TF IDF 에 대하여 알려줘\", filter={\"source\": \"../data/nlp-keywords.txt\"}, k=2\n",
    ")"
   ]
  },
  {
   "cell_type": "markdown",
   "id": "a39146d9",
   "metadata": {},
   "source": [
    "다음은 `filter` 에서 다른 `source` 를 사용하여 검색한 결과를 확인합니다."
   ]
  },
  {
   "cell_type": "code",
   "execution_count": 16,
   "id": "22d5f50f",
   "metadata": {},
   "outputs": [
    {
     "data": {
      "text/plain": [
       "[]"
      ]
     },
     "execution_count": 16,
     "metadata": {},
     "output_type": "execute_result"
    }
   ],
   "source": [
    "# filter 사용 - 다른 source로 검색\n",
    "db.similarity_search(\n",
    "    \"TF IDF 에 대하여 알려줘\", filter={\"source\": \"../data/finance-keywords.txt\"}, k=2\n",
    ")"
   ]
  },
  {
   "cell_type": "markdown",
   "id": "e608ebbc",
   "metadata": {},
   "source": [
    "## 문서 추가 및 삭제\n",
    "\n",
    "### 문서(Document)로부터 추가 (add_documents)\n",
    "\n",
    "`add_documents` 메서드는 벡터 저장소에 문서를 추가하거나 업데이트하는 기능을 제공합니다.\n",
    "\n",
    "**매개변수**\n",
    "\n",
    "- `documents` (List[Document]): 벡터 저장소에 추가할 문서 리스트\n",
    "- `**kwargs`: 추가 키워드 인자\n",
    "\n",
    "**반환값**\n",
    "\n",
    "- `List[str]`: 추가된 텍스트의 ID 리스트"
   ]
  },
  {
   "cell_type": "code",
   "execution_count": 17,
   "id": "81d835c8",
   "metadata": {},
   "outputs": [
    {
     "data": {
      "text/plain": [
       "['new_doc1']"
      ]
     },
     "execution_count": 17,
     "metadata": {},
     "output_type": "execute_result"
    }
   ],
   "source": [
    "from langchain_core.documents import Document\n",
    "\n",
    "# page_content, metadata 지정\n",
    "db.add_documents(\n",
    "    [\n",
    "        Document(\n",
    "            page_content=\"안녕하세요! 이번엔 도큐먼트를 새로 추가해 볼께요\",\n",
    "            metadata={\"source\": \"mydata.txt\"},\n",
    "        )\n",
    "    ],\n",
    "    ids=[\"new_doc1\"],\n",
    ")"
   ]
  },
  {
   "cell_type": "code",
   "execution_count": 18,
   "id": "9d3392e1",
   "metadata": {},
   "outputs": [
    {
     "data": {
      "text/plain": [
       "[Document(metadata={'source': 'mydata.txt'}, page_content='안녕하세요! 이번엔 도큐먼트를 새로 추가해 볼께요')]"
      ]
     },
     "execution_count": 18,
     "metadata": {},
     "output_type": "execute_result"
    }
   ],
   "source": [
    "# 추가된 데이터를 확인\n",
    "db.similarity_search(\"안녕하세요\", k=1)"
   ]
  },
  {
   "cell_type": "markdown",
   "id": "a035f9a5",
   "metadata": {},
   "source": [
    "### 텍스트로부터 추가 (add_texts)\n",
    "\n",
    "`add_texts` 메서드는 텍스트를 임베딩하고 벡터 저장소에 추가하는 기능을 제공합니다.\n",
    "\n",
    "**매개변수**\n",
    "\n",
    "- `texts` (Iterable[str]): 벡터 저장소에 추가할 텍스트 이터러블\n",
    "- `metadatas` (Optional[List[dict]]): 텍스트와 연관된 메타데이터 리스트 (선택적)\n",
    "- `ids` (Optional[List[str]]): 텍스트의 고유 식별자 리스트 (선택적)\n",
    "- `**kwargs`: 추가 키워드 인자"
   ]
  },
  {
   "cell_type": "code",
   "execution_count": 19,
   "id": "b715e92d",
   "metadata": {},
   "outputs": [
    {
     "data": {
      "text/plain": [
       "['new_doc2', 'new_doc3']"
      ]
     },
     "execution_count": 19,
     "metadata": {},
     "output_type": "execute_result"
    }
   ],
   "source": [
    "# 신규 데이터를 추가\n",
    "db.add_texts(\n",
    "    [\"이번엔 텍스트 데이터를 추가합니다.\", \"추가한 2번째 텍스트 데이터 입니다.\"],\n",
    "    metadatas=[{\"source\": \"mydata.txt\"}, {\"source\": \"mydata.txt\"}],\n",
    "    ids=[\"new_doc2\", \"new_doc3\"],\n",
    ")"
   ]
  },
  {
   "cell_type": "code",
   "execution_count": 20,
   "id": "c59a6483",
   "metadata": {},
   "outputs": [
    {
     "data": {
      "text/plain": [
       "{0: '4cf4988c-03d9-4787-b044-56e5b111b12f',\n",
       " ...\n",
       " 11: 'new_doc1',\n",
       " 12: 'new_doc2',\n",
       " 13: 'new_doc3'}"
      ]
     },
     "execution_count": 20,
     "metadata": {},
     "output_type": "execute_result"
    }
   ],
   "source": [
    "# 추가된 데이터를 확인\n",
    "db.index_to_docstore_id"
   ]
  },
  {
 "cells": [
   {
     "cell_type": "markdown",
     "id": "a2ecd4ad",
     "metadata": {},
     "source": [
       "### 문서 삭제 (Delete Documents)\n",
       "\n",
       "`delete` 메서드는 벡터 저장소에서 지정된 ID에 해당하는 문서를 삭제하는 기능을 제공합니다.\n",
       "\n",
       "**매개변수**\n",
       "\n",
       "- `ids` (Optional[List[str]]): 삭제할 문서의 ID 리스트\n",
       "- `**kwargs`: 추가 키워드 인자 (이 메서드에서는 사용되지 않음)\n",
       "\n",
       "**반환값**\n",
       "\n",
       "- `Optional[bool]`: 삭제 성공 시 True, 실패 시 False, 구현되지 않은 경우 None\n",
       "\n",
       "**주의사항**\n",
       "\n",
       "- 삭제 작업은 되돌릴 수 없으므로 신중하게 수행해야 합니다.\n",
       "- 동시성 제어가 구현되어 있지 않아 다중 스레드 환경에서 주의가 필요합니다."
     ]
   },
   {
     "cell_type": "code",
     "execution_count": 21,
     "id": "d52c9c65",
     "metadata": {},
     "outputs": [],
     "source": [
       "# 삭제용 데이터를 추가\n",
       "ids = db.add_texts(\n",
       "    [\"삭제용 데이터를 추가합니다.\", \"2번째 삭제용 데이터입니다.\"],\n",
       "    metadatas=[{\"source\": \"mydata.txt\"}, {\"source\": \"mydata.txt\"}],\n",
       "    ids=[\"delete_doc1\", \"delete_doc2\"],\n",
       ")"
     ]
   },
   {
     "cell_type": "code",
     "execution_count": 22,
     "id": "5799fea9",
     "metadata": {},
     "outputs": [
       {
         "name": "stdout",
         "output_type": "stream",
         "text": [
           "['delete_doc1', 'delete_doc2']\n"
         ]
       }
     ],
     "source": [
       "# 삭제할 id 를 확인\n",
       "print(ids)"
     ]
   },
   {
     "cell_type": "code",
     "execution_count": 23,
     "id": "a664094e",
     "metadata": {},
     "outputs": [
       {
         "data": {
           "text/plain": [
             "True"
           ]
         },
         "execution_count": 23,
         "metadata": {},
         "output_type": "execute_result"
       }
     ],
     "source": [
       "# id 로 삭제\n",
       "db.delete(ids)"
     ]
   },
   {
     "cell_type": "code",
     "execution_count": 24,
     "id": "4556661f",
     "metadata": {},
     "outputs": [
       {
         "data": {
           "text/plain": [
             "{0: '4cf4988c-03d9-4787-b044-56e5b111b12f',\n",
             " ...\n",
             " 11: 'new_doc1',\n",
             " 12: 'new_doc2',\n",
             " 13: 'new_doc3'}"
           ]
         },
         "execution_count": 24,
         "metadata": {},
         "output_type": "execute_result"
       }
     ],
     "source": [
       "# 삭제된 결과를 출력\n",
       "db.index_to_docstore_id"
     ]
   },
   {
     "cell_type": "markdown",
     "id": "566a7ad3",
     "metadata": {},
     "source": [
       "## 저장 및 로드\n",
       "\n",
       "### 로컬 저장 (Save Local)\n",
       "\n",
       "`save_local` 메서드는 FAISS 인덱스, 문서 저장소, 그리고 인덱스-문서 ID 매핑을 로컬 디스크에 저장하는 기능을 제공합니다.\n",
       "\n",
       "**매개변수**\n",
       "\n",
       "- `folder_path` (str): 저장할 폴더 경로\n",
       "- `index_name` (str): 저장할 인덱스 파일 이름 (기본값: \"index\")\n",
       "\n",
       "**동작 방식**\n",
       "\n",
       "1. 지정된 폴더 경로를 생성합니다 (이미 존재하는 경우 무시).\n",
       "2. FAISS 인덱스를 별도의 파일로 저장합니다.\n",
       "3. 문서 저장소와 인덱스-문서 ID 매핑을 pickle 형식으로 저장합니다.\n",
       "\n",
       "**사용 시 고려사항**\n",
       "\n",
       "- 저장 경로에 대한 쓰기 권한이 필요합니다.\n",
       "- 대용량 데이터의 경우 저장 공간과 시간이 상당히 소요될 수 있습니다.\n",
       "- pickle 사용으로 인한 보안 위험을 고려해야 합니다."
     ]
   },
   {
     "cell_type": "code",
     "execution_count": 25,
     "id": "baf449b2",
     "metadata": {},
     "outputs": [],
     "source": [
       "# 로컬 Disk 에 저장\n",
       "db.save_local(folder_path=\"faiss_db\", index_name=\"faiss_index\")"
     ]
   },
   {
     "cell_type": "markdown",
     "id": "8df445ed",
     "metadata": {},
     "source": [
       "### 로컬에서 불러오기 (Load Local)\n",
       "\n",
       "`load_local` 클래스 메서드는 로컬 디스크에 저장된 FAISS 인덱스, 문서 저장소, 그리고 인덱스-문서 ID 매핑을 불러오는 기능을 제공합니다.\n",
       "\n",
       "**매개변수**\n",
       "\n",
       "- `folder_path` (str): 불러올 파일들이 저장된 폴더 경로\n",
       "- `embeddings` (Embeddings): 쿼리 생성에 사용할 임베딩 객체\n",
       "- `index_name` (str): 불러올 인덱스 파일 이름 (기본값: \"index\")\n",
       "- `allow_dangerous_deserialization` (bool): pickle 파일 역직렬화 허용 여부 (기본값: False)\n",
       "\n",
       "**반환값**\n",
       "\n",
       "- `FAISS`: 로드된 FAISS 객체\n",
       "\n",
       "**동작 방식**\n",
       "\n",
       "1. 역직렬화의 위험성을 확인하고 사용자의 명시적 허가를 요구합니다.\n",
       "2. FAISS 인덱스를 별도로 불러옵니다.\n",
       "3. pickle을 사용하여 문서 저장소와 인덱스-문서 ID 매핑을 불러옵니다.\n",
       "4. 불러온 데이터로 FAISS 객체를 생성하여 반환합니다."
     ]
   },
   {
     "cell_type": "code",
     "execution_count": 26,
     "id": "33654040",
     "metadata": {},
     "outputs": [],
     "source": [
       "# 저장된 데이터를 로드\n",
       "loaded_db = FAISS.load_local(\n",
       "    folder_path=\"faiss_db\",\n",
       "    index_name=\"faiss_index\",\n",
       "    embeddings=embeddings,\n",
       "    allow_dangerous_deserialization=True,\n",
       ")"
     ]
   },
   {
     "cell_type": "code",
     "execution_count": 27,
     "id": "a299cfd4",
     "metadata": {},
     "outputs": [
       {
         "data": {
           "text/plain": [
             "{0: '4cf4988c-03d9-4787-b044-56e5b111b12f',\n",
             " ...\n",
             " 13: 'new_doc3'}"
           ]
         },
         "execution_count": 27,
         "metadata": {},
         "output_type": "execute_result"
       }
     ],
     "source": [
       "# 로드된 데이터를 확인\n",
       "loaded_db.index_to_docstore_id"
     ]
   },
   {
     "cell_type": "markdown",
     "id": "3af0b503",
     "metadata": {},
     "source": [
       "### FAISS 객체 병합 (Merge From)\n",
       "\n",
       "`merge_from` 메서드는 현재 FAISS 객체에 다른 FAISS 객체를 병합하는 기능을 제공합니다.\n",
       "\n",
       "**매개변수**\n",
       "\n",
       "- `target` (FAISS): 현재 객체에 병합할 대상 FAISS 객체\n",
       "\n",
       "**동작 방식**\n",
       "\n",
       "1. 문서 저장소의 병합 가능 여부를 확인합니다.\n",
       "2. 기존 인덱스의 길이를 기준으로 새로운 문서들의 인덱스를 설정합니다.\n",
       "3. FAISS 인덱스를 병합합니다.\n",
       "4. 대상 FAISS 객체의 문서와 ID 정보를 추출합니다.\n",
       "5. 추출한 정보를 현재 문서 저장소와 인덱스-문서 ID 매핑에 추가합니다.\n",
       "\n",
       "**주요 특징**\n",
       "\n",
       "- 두 FAISS 객체의 인덱스, 문서 저장소, 인덱스-문서 ID 매핑을 모두 병합합니다.\n",
       "- 인덱스 번호의 연속성을 유지하면서 병합합니다.\n",
       "- 문서 저장소의 병합 가능 여부를 사전에 확인합니다.\n",
       "\n",
       "**주의사항**\n",
       "\n",
       "- 병합 대상 FAISS 객체와 현재 객체의 구조가 호환되어야 합니다.\n",
       "- 중복 ID 처리에 주의해야 합니다. 현재 구현에서는 중복 검사를 하지 않습니다.\n",
       "- 병합 과정에서 예외가 발생하면 부분적으로 병합된 상태가 될 수 있습니다."
     ]
   },
   {
     "cell_type": "code",
     "execution_count": 28,
     "id": "7987dc48",
     "metadata": {},
     "outputs": [],
     "source": [
       "# 저장된 데이터를 로드\n",
       "db = FAISS.load_local(\n",
       "    folder_path=\"faiss_db\",\n",
       "    index_name=\"faiss_index\",\n",
       "    embeddings=embeddings,\n",
       "    allow_dangerous_deserialization=True,\n",
       ")"
     ]
   },
   {
     "cell_type": "code",
     "execution_count": 29,
     "id": "6567533c",
     "metadata": {},
     "outputs": [],
     "source": [
       "# 새로운 FAISS 벡터 저장소 생성\n",
       "db2 = FAISS.from_documents(documents=split_doc2, embedding=OpenAIEmbeddings())"
     ]
   },
   {
     "cell_type": "code",
     "execution_count": 30,
     "id": "185b3971",
     "metadata": {},
     "outputs": [
       {
         "data": {
           "text/plain": [
             "{0: '4cf4988c-03d9-4787-b044-56e5b111b12f',\n",
             " ...\n",
             " 13: 'new_doc3'}"
           ]
         },
         "execution_count": 30,
         "metadata": {},
         "output_type": "execute_result"
       }
     ],
     "source": [
       "# db 의 데이터 확인\n",
       "db.index_to_docstore_id"
     ]
   },
   {
     "cell_type": "code",
     "execution_count": 31,
     "id": "c27db5a3",
     "metadata": {},
     "outputs": [
       {
         "data": {
           "text/plain": [
             "{0: '311cd247-c88a-4486-a43c-9d781657593e',\n",
             " ...\n",
             " 5: '49ff56a3-a9e1-431f-8f74-ca56e43ccf8f'}"
           ]
         },
         "execution_count": 31,
         "metadata": {},
         "output_type": "execute_result"
       }
     ],
     "source": [
       "# db2 의 데이터 확인\n",
       "db2.index_to_docstore_id"
     ]
   },
   {
     "cell_type": "markdown",
     "id": "eaa24124",
     "metadata": {},
     "source": [
       "`merge_from` 를 사용하여 2개의 db 를 병합합니다."
     ]
   },
   {
     "cell_type": "code",
     "execution_count": 32,
     "id": "10e4f45d",
     "metadata": {},
     "outputs": [],
     "source": [
       "# db + db2 를 병합\n",
       "db.merge_from(db2)"
     ]
   },
   {
     "cell_type": "code",
     "execution_count": 33,
     "id": "f5ae0872",
     "metadata": {},
     "outputs": [
       {
         "data": {
           "text/plain": [
             "{0: '4cf4988c-03d9-4787-b044-56e5b111b12f',\n",
             " ...\n",
             " 13: 'new_doc3',\n",
             " 14: '311cd247-c88a-4486-a43c-9d781657593e',\n",
             " ...\n",
             " 19: '49ff56a3-a9e1-431f-8f74-ca56e43ccf8f'}"
           ]
         },
         "execution_count": 33,
         "metadata": {},
         "output_type": "execute_result"
       }
     ],
     "source": [
       "# 병합된 데이터 확인\n",
       "db.index_to_docstore_id"
     ]
   },
   {
     "cell_type": "markdown",
     "id": "e4355a16",
     "metadata": {},
     "source": [
       "## 검색기로 변환\n",
       "\n",
       "`as_retriever` 메서드는 현재 벡터 저장소를 기반으로 `VectorStoreRetriever` 객체를 생성하는 기능을 제공합니다.\n",
       "\n",
       "**매개변수**\n",
       "\n",
       "- `**kwargs`: 검색 함수에 전달할 키워드 인자\n",
       "  - `search_type` (Optional[str]): 검색 유형 (`\"similarity\"`, `\"mmr\"`, `\"similarity_score_threshold\"`)\n",
       "  - `search_kwargs` (Optional[Dict]): 검색 함수에 전달할 추가 키워드 인자\n",
       "\n",
       "**반환값**\n",
       "\n",
       "- `VectorStoreRetriever`: 벡터 저장소 기반의 검색기 객체\n",
       "\n",
       "**주요 기능**\n",
       "\n",
       "1. 다양한 검색 유형 지원:\n",
       "   - `\"similarity\"`: 유사도 기반 검색 (기본값)\n",
       "   - `\"mmr\"`: Maximal Marginal Relevance 검색\n",
       "   - `\"similarity_score_threshold\"`: 임계값 기반 유사도 검색\n",
       "\n",
       "2. 검색 매개변수 커스터마이징:\n",
       "   - `k`: 반환할 문서 수\n",
       "   - `score_threshold`: 유사도 점수 임계값\n",
       "   - `fetch_k`: MMR 알고리즘에 전달할 문서 수\n",
       "   - `lambda_mult`: MMR 다양성 조절 파라미터\n",
       "   - `filter`: 문서 메타데이터 기반 필터링\n",
       "\n",
       "**사용 시 고려사항**\n",
       "\n",
       "- 검색 유형과 매개변수를 적절히 선택하여 검색 결과의 품질과 다양성을 조절할 수 있습니다.\n",
       "- 대규모 데이터셋에서는 `fetch_k`와 `k` 값을 조절하여 성능과 정확도의 균형을 맞출 수 있습니다.\n",
       "- 필터링 기능을 활용하여 특정 조건에 맞는 문서만 검색할 수 있습니다.\n",
       "\n",
       "**최적화 팁**\n",
       "\n",
       "- MMR 검색 시 `fetch_k`를 높이고 `lambda_mult`를 조절하여 다양성과 관련성의 균형을 맞출 수 있습니다.\n",
       "- 임계값 기반 검색을 사용하여 높은 관련성을 가진 문서만 반환할 수 있습니다."
     ]
   },
   {
     "cell_type": "markdown",
     "id": "ade7f6a3",
     "metadata": {},
     "source": [
       "### 기본 유사도 검색\n",
       "\n",
       "기본 값으로 설정된 4개 문서를 유사도 검색을 수행하여 조회합니다."
     ]
   },
   {
     "cell_type": "code",
     "execution_count": 34,
     "id": "416a5d47",
     "metadata": {},
     "outputs": [],
     "source": [
       "# 새로운 FAISS 벡터 저장소 생성\n",
       "db = FAISS.from_documents(\n",
       "    documents=split_doc1 + split_doc2, embedding=OpenAIEmbeddings()\n",
       ")"
     ]
   },
   {
     "cell_type": "code",
     "execution_count": 35,
     "id": "1ce406fb",
     "metadata": {},
     "outputs": [
       {
         "data": {
           "text/plain": [
             "[Document(metadata={'source': '../data/nlp-keywords.txt'}, page_content='정의: Word2Vec은 단어를 벡터 공간에 매핑하여 단어 간의 의미적 관계를 나타내는 자연어 처리 기술입니다...'),\n",
             " Document(metadata={'source': '../data/nlp-keywords.txt'}, page_content='정의: HuggingFace는 자연어 처리를 위한 다양한 사전 훈련된 모델과 도구를 제공하는 라이브러리입니다...'),\n",
             " Document(metadata={'source': '../data/nlp-keywords.txt'}, page_content='정의: 토크나이저는 텍스트 데이터를 토큰으로 분할하는 도구입니다...'),\n",
             " Document(metadata={'source': '../data/nlp-keywords.txt'}, page_content='정의: TF-IDF는 문서 내에서 단어의 중요도를 평가하는 데 사용되는 통계적 척도입니다...')]"
           ]
         },
         "execution_count": 35,
         "metadata": {},
         "output_type": "execute_result"
       }
     ],
     "source": [
       "# 검색기로 변환\n",
       "retriever = db.as_retriever()\n",
       "# 검색 수행\n",
       "retriever.invoke(\"Word2Vec 에 대하여 알려줘\")"
     ]
   },
   {
     "cell_type": "markdown",
     "id": "b8c6fbdd",
     "metadata": {},
     "source": [
       "### MMR 검색 (다양성 높은 검색)\n",
       "\n",
       "다양성이 높은 더 많은 문서 검색\n",
       "\n",
       "- `k`: 반환할 문서 수 (기본값: 4)\n",
       "- `fetch_k`: MMR 알고리즘에 전달할 문서 수 (기본값: 20)\n",
       "- `lambda_mult`: MMR 결과의 다양성 조절 (0~1, 기본값: 0.5)"
     ]
   },
   {
     "cell_type": "code",
     "execution_count": 36,
     "id": "2b92b47f",
     "metadata": {},
     "outputs": [
       {
         "data": {
           "text/plain": [
             "[Document(metadata={'source': '../data/nlp-keywords.txt'}, page_content='정의: Word2Vec은 단어를 벡터 공간에 매핑하여 단어 간의 의미적 관계를 나타내는 자연어 처리 기술입니다...'),\n",
             " Document(metadata={'source': '../data/nlp-keywords.txt'}, page_content='GPT (Generative Pretrained Transformer)...'),\n",
             " Document(metadata={'source': '../data/nlp-keywords.txt'}, page_content='정의: CSV(Comma-Separated Values)는 데이터를 저장하는 파일 형식으로...'),\n",
             " Document(metadata={'source': '../data/nlp-keywords.txt'}, page_content='정의: 멀티모달은 여러 종류의 데이터 모드(예: 텍스트, 이미지, 소리 등)를 결합하여 처리하는 기술입니다...'),\n",
             " Document(metadata={'source': '../data/nlp-keywords.txt'}, page_content='정의: TF-IDF는 문서 내에서 단어의 중요도를 평가하는 데 사용되는 통계적 척도입니다...'),\n",
             " Document(metadata={'source': '../data/nlp-keywords.txt'}, page_content='정의: 키워드 검색은 사용자가 입력한 키워드를 기반으로 정보를 찾는 과정입니다...')]"
           ]
         },
         "execution_count": 36,
         "metadata": {},
         "output_type": "execute_result"
       }
     ],
     "source": [
       "# MMR 검색 수행\n",
       "retriever = db.as_retriever(\n",
       "    search_type=\"mmr\", search_kwargs={\"k\": 6, \"lambda_mult\": 0.25, \"fetch_k\": 10}\n",
       ")\n",
       "retriever.invoke(\"Word2Vec 에 대하여 알려줘\")"
     ]
   },
   {
     "cell_type": "code",
     "execution_count": 37,
     "id": "e8963b2b",
     "metadata": {},
     "outputs": [
       {
         "data": {
           "text/plain": [
             "[Document(metadata={'source': '../data/nlp-keywords.txt'}, page_content='정의: Word2Vec은 단어를 벡터 공간에 매핑하여 단어 간의 의미적 관계를 나타내는 자연어 처리 기술입니다...'),\n",
             " Document(metadata={'source': '../data/nlp-keywords.txt'}, page_content='GPT (Generative Pretrained Transformer)...')]"
           ]
         },
         "execution_count": 37,
         "metadata": {},
         "output_type": "execute_result"
       }
     ],
     "source": [
       "# MMR 검색 수행, 상위 2개만 반환\n",
       "retriever = db.as_retriever(search_type=\"mmr\", search_kwargs={\"k\": 2, \"fetch_k\": 10})\n",
       "retriever.invoke(\"Word2Vec 에 대하여 알려줘\")"
     ]
   },
   {
     "cell_type": "markdown",
     "id": "similarity-threshold",
     "metadata": {},
     "source": [
       "### 임계값 기반 검색\n",
       "\n",
       "특정 유사도 점수 이상의 문서만 반환합니다."
     ]
   },
   {
     "cell_type": "code",
     "execution_count": 38,
     "id": "8b7b2bcc",
     "metadata": {},
     "outputs": [
       {
         "data": {
           "text/plain": [
             "[Document(metadata={'source': '../data/nlp-keywords.txt'}, page_content='정의: Word2Vec은 단어를 벡터 공간에 매핑하여 단어 간의 의미적 관계를 나타내는 자연어 처리 기술입니다...')]"
           ]
         },
         "execution_count": 38,
         "metadata": {},
         "output_type": "execute_result"
       }
     ],
     "source": [
       "# 임계값 기반 검색 수행\n",
       "retriever = db.as_retriever(\n",
       "    search_type=\"similarity_score_threshold\", search_kwargs={\"score_threshold\": 0.8}\n",
       ")\n",
       "\n",
       "retriever.invoke(\"Word2Vec 에 대하여 알려줘\")"
     ]
   },
   {
     "cell_type": "code",
     "execution_count": 39,
     "id": "a4ca8d39",
     "metadata": {},
     "outputs": [
       {
         "data": {
           "text/plain": [
             "[Document(metadata={'source': '../data/nlp-keywords.txt'}, page_content='정의: Word2Vec은 단어를 벡터 공간에 매핑하여 단어 간의 의미적 관계를 나타내는 자연어 처리 기술입니다...')]"
           ]
         },
         "execution_count": 39,
         "metadata": {},
         "output_type": "execute_result"
       }
     ],
     "source": [
       "# k=1 로 설정하여 가장 유사한 문서만 검색\n",
       "retriever = db.as_retriever(search_kwargs={\"k\": 1})\n",
       "\n",
       "retriever.invoke(\"Word2Vec 에 대하여 알려줘\")"
     ]
   },
   {
     "cell_type": "markdown",
     "id": "filter-search",
     "metadata": {},
     "source": [
       "### 필터를 사용한 검색\n",
       "\n",
       "메타데이터를 기반으로 문서를 필터링하여 검색합니다."
     ]
   },
   {
     "cell_type": "code",
     "execution_count": 41,
     "id": "8b7b2bcc",
     "metadata": {},
     "outputs": [
       {
         "data": {
"text/plain": [
             "[Document(metadata={'source': '../data/finance-keywords.txt'}, page_content='정의: ESG는 기업의 환경, 사회, 지배구조 측면을 고려하는 투자 접근 방식입니다...'),\n",
             " Document(metadata={'source': '../data/finance-keywords.txt'}, page_content='정의: 주식 리서치는 기업의 재무 상태, 사업 모델, 경쟁력 등을 분석하여 투자 의사 결정을 돕는 활동입니다...')]"
           ]
         },
         "execution_count": 41,
         "metadata": {},
         "output_type": "execute_result"
       }
     ],
     "source": [
       "# 메타데이터 필터 적용\n",
       "retriever = db.as_retriever(\n",
       "    search_kwargs={\"filter\": {\"source\": \"../data/finance-keywords.txt\"}, \"k\": 2}\n",
       ")\n",
       "retriever.invoke(\"ESG 에 대하여 알려줘\")"
     ]
   },
   {
     "cell_type": "markdown",
     "id": "summary",
     "metadata": {},
     "source": [
       "## 요약\n",
       "\n",
       "이 튜토리얼에서는 FAISS 벡터 저장소의 주요 기능들을 다루었습니다:\n",
       "\n",
       "1. **벡터 저장소 생성**\n",
       "   - 직접 초기화\n",
       "   - from_documents로 생성\n",
       "   - from_texts로 생성\n",
       "\n",
       "2. **문서 관리**\n",
       "   - 문서 추가 (add_documents, add_texts)\n",
       "   - 문서 삭제 (delete)\n",
       "   - 유사도 검색 (similarity_search)\n",
       "\n",
       "3. **저장 및 로드**\n",
       "   - 로컬 저장 (save_local)\n",
       "   - 로컬에서 불러오기 (load_local)\n",
       "   - FAISS 객체 병합 (merge_from)\n",
       "\n",
       "4. **검색기 활용**\n",
       "   - 기본 유사도 검색\n",
       "   - MMR 검색 (다양성 고려)\n",
       "   - 임계값 기반 검색\n",
       "   - 메타데이터 필터링\n",
       "\n",
       "FAISS는 대규모 벡터 데이터를 효율적으로 관리하고 검색할 수 있는 강력한 도구입니다. \n",
       "LangChain과의 통합을 통해 RAG(Retrieval-Augmented Generation) 시스템 구축에 활용할 수 있습니다."
     ]
   }
 ],
 "metadata": {
   "kernelspec": {
     "display_name": "Python 3",
     "language": "python",
     "name": "python3"
   },
   "language_info": {
     "codemirror_mode": {
       "name": "ipython",
       "version": 3
     },
     "file_extension": ".py",
     "mimetype": "text/x-python",
     "name": "python",
     "nbconvert_exporter": "python",
     "pygments_lexer": "ipython3",
     "version": "3.11.0"
   }
 },
 "nbformat": 4,
 "nbformat_minor": 5
}
