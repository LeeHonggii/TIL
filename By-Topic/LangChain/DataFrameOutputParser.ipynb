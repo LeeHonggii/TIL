{
 "cells": [
  {
   "cell_type": "markdown",
   "metadata": {},
   "source": [
    "# 특수 OutputParser 활용법: PandasDataFrame, Datetime, Enum\n",
    "\n",
    "이 노트북에서는 LangChain의 특수한 용도를 위한 세 가지 OutputParser를 다룹니다:\n",
    "- **PandasDataFrameOutputParser**: DataFrame에 대한 동적 쿼리 실행\n",
    "- **DatetimeOutputParser**: 날짜/시간 형식 파싱\n",
    "- **EnumOutputParser**: 열거형 값으로 파싱\n",
    "\n",
    "## 학습 목표\n",
    "- PandasDataFrameOutputParser를 사용하여 자연어로 DataFrame 쿼리하기\n",
    "- DatetimeOutputParser로 다양한 날짜 형식 처리하기\n",
    "- EnumOutputParser를 통한 타입 안전한 분류 작업 구현"
   ]
  },
  {
   "cell_type": "code",
   "execution_count": 1,
   "metadata": {},
   "outputs": [
    {
     "data": {
      "text/plain": [
       "True"
      ]
     },
     "execution_count": 1,
     "metadata": {},
     "output_type": "execute_result"
    }
   ],
   "source": [
    "# 환경 변수 설정\n",
    "from dotenv import load_dotenv\n",
    "\n",
    "load_dotenv()"
   ]
  },
  {
   "cell_type": "markdown",
   "metadata": {},
   "source": [
    "## 1. PandasDataFrameOutputParser\n",
    "\n",
    "PandasDataFrameOutputParser는 자연어 질문을 Pandas DataFrame 연산으로 변환해주는 강력한 도구입니다.\n",
    "\n",
    "### 주요 특징\n",
    "- 자연어를 DataFrame 쿼리로 변환\n",
    "- 열 선택, 행 선택, 집계 연산 지원\n",
    "- GPT-3.5-turbo 모델 사용 권장\n",
    "\n",
    "### 작동 방식\n",
    "파서는 자연어 입력을 받아 Pandas의 쿼리 문법으로 변환하여 실행합니다."
   ]
  },
  {
   "cell_type": "code",
   "execution_count": 2,
   "metadata": {},
   "outputs": [],
   "source": [
    "import pprint\n",
    "from typing import Any, Dict\n",
    "\n",
    "import pandas as pd\n",
    "from langchain.output_parsers import PandasDataFrameOutputParser\n",
    "from langchain_core.prompts import PromptTemplate\n",
    "from langchain_openai import ChatOpenAI"
   ]
  },
  {
   "cell_type": "code",
   "execution_count": 3,
   "metadata": {},
   "outputs": [],
   "source": [
    "# pandas는 gpt-3.5-turbo 모델 사용을 권장\n",
    "model = ChatOpenAI(temperature=0, model_name=\"gpt-3.5-turbo\")"
   ]
  },
  {
   "cell_type": "code",
   "execution_count": 4,
   "metadata": {},
   "outputs": [],
   "source": [
    "# 출력 결과를 보기 좋게 포맷팅하는 함수\n",
    "def format_parser_output(parser_output: Dict[str, Any]) -> None:\n",
    "    \"\"\"파서 출력을 보기 좋게 포맷팅합니다.\"\"\"\n",
    "    # 파서 출력의 키들을 순회합니다\n",
    "    for key in parser_output.keys():\n",
    "        # 각 키의 값을 딕셔너리로 변환합니다\n",
    "        parser_output[key] = parser_output[key].to_dict()\n",
    "    # 예쁘게 출력합니다\n",
    "    return pprint.PrettyPrinter(width=4, compact=True).pprint(parser_output)"
   ]
  },
  {
   "cell_type": "markdown",
   "metadata": {},
   "source": [
    "### 데이터 준비"
   ]
  },
  {
   "cell_type": "code",
   "execution_count": 5,
   "metadata": {},
   "outputs": [
    {
     "data": {
      "text/html": [
       "<div>\n",
       "<style scoped>\n",
       "    .dataframe tbody tr th:only-of-type {\n",
       "        vertical-align: middle;\n",
       "    }\n",
       "\n",
       "    .dataframe tbody tr th {\n",
       "        vertical-align: top;\n",
       "    }\n",
       "\n",
       "    .dataframe thead th {\n",
       "        text-align: right;\n",
       "    }\n",
       "</style>\n",
       "<table border=\"1\" class=\"dataframe\">\n",
       "  <thead>\n",
       "    <tr style=\"text-align: right;\">\n",
       "      <th></th>\n",
       "      <th>PassengerId</th>\n",
       "      <th>Survived</th>\n",
       "      <th>Pclass</th>\n",
       "      <th>Name</th>\n",
       "      <th>Sex</th>\n",
       "      <th>Age</th>\n",
       "      <th>SibSp</th>\n",
       "      <th>Parch</th>\n",
       "      <th>Ticket</th>\n",
       "      <th>Fare</th>\n",
       "      <th>Cabin</th>\n",
       "      <th>Embarked</th>\n",
       "    </tr>\n",
       "  </thead>\n",
       "  <tbody>\n",
       "    <tr>\n",
       "      <th>0</th>\n",
       "      <td>1</td>\n",
       "      <td>0</td>\n",
       "      <td>3</td>\n",
       "      <td>Braund, Mr. Owen Harris</td>\n",
       "      <td>male</td>\n",
       "      <td>22.0</td>\n",
       "      <td>1</td>\n",
       "      <td>0</td>\n",
       "      <td>A/5 21171</td>\n",
       "      <td>7.2500</td>\n",
       "      <td>NaN</td>\n",
       "      <td>S</td>\n",
       "    </tr>\n",
       "    <tr>\n",
       "      <th>1</th>\n",
       "      <td>2</td>\n",
       "      <td>1</td>\n",
       "      <td>1</td>\n",
       "      <td>Cumings, Mrs. John Bradley (Florence Briggs Th...</td>\n",
       "      <td>female</td>\n",
       "      <td>38.0</td>\n",
       "      <td>1</td>\n",
       "      <td>0</td>\n",
       "      <td>PC 17599</td>\n",
       "      <td>71.2833</td>\n",
       "      <td>C85</td>\n",
       "      <td>C</td>\n",
       "    </tr>\n",
       "    <tr>\n",
       "      <th>2</th>\n",
       "      <td>3</td>\n",
       "      <td>1</td>\n",
       "      <td>3</td>\n",
       "      <td>Heikkinen, Miss. Laina</td>\n",
       "      <td>female</td>\n",
       "      <td>26.0</td>\n",
       "      <td>0</td>\n",
       "      <td>0</td>\n",
       "      <td>STON/O2. 3101282</td>\n",
       "      <td>7.9250</td>\n",
       "      <td>NaN</td>\n",
       "      <td>S</td>\n",
       "    </tr>\n",
       "    <tr>\n",
       "      <th>3</th>\n",
       "      <td>4</td>\n",
       "      <td>1</td>\n",
       "      <td>1</td>\n",
       "      <td>Futrelle, Mrs. Jacques Heath (Lily May Peel)</td>\n",
       "      <td>female</td>\n",
       "      <td>35.0</td>\n",
       "      <td>1</td>\n",
       "      <td>0</td>\n",
       "      <td>113803</td>\n",
       "      <td>53.1000</td>\n",
       "      <td>C123</td>\n",
       "      <td>S</td>\n",
       "    </tr>\n",
       "    <tr>\n",
       "      <th>4</th>\n",
       "      <td>5</td>\n",
       "      <td>0</td>\n",
       "      <td>3</td>\n",
       "      <td>Allen, Mr. William Henry</td>\n",
       "      <td>male</td>\n",
       "      <td>35.0</td>\n",
       "      <td>0</td>\n",
       "      <td>0</td>\n",
       "      <td>373450</td>\n",
       "      <td>8.0500</td>\n",
       "      <td>NaN</td>\n",
       "      <td>S</td>\n",
       "    </tr>\n",
       "  </tbody>\n",
       "</table>\n",
       "</div>"
      ],
      "text/plain": [
       "   PassengerId  Survived  Pclass  \\\n",
       "0            1         0       3   \n",
       "1            2         1       1   \n",
       "2            3         1       3   \n",
       "3            4         1       1   \n",
       "4            5         0       3   \n",
       "\n",
       "                                                Name     Sex   Age  SibSp  \\\n",
       "0                            Braund, Mr. Owen Harris    male  22.0      1   \n",
       "1  Cumings, Mrs. John Bradley (Florence Briggs Th...  female  38.0      1   \n",
       "2                             Heikkinen, Miss. Laina  female  26.0      0   \n",
       "3       Futrelle, Mrs. Jacques Heath (Lily May Peel)  female  35.0      1   \n",
       "4                           Allen, Mr. William Henry    male  35.0      0   \n",
       "\n",
       "   Parch            Ticket     Fare Cabin Embarked  \n",
       "0      0         A/5 21171   7.2500   NaN        S  \n",
       "1      0          PC 17599  71.2833   C85        C  \n",
       "2      0  STON/O2. 3101282   7.9250   NaN        S  \n",
       "3      0            113803  53.1000  C123        S  \n",
       "4      0            373450   8.0500   NaN        S  "
      ]
     },
     "execution_count": 5,
     "metadata": {},
     "output_type": "execute_result"
    }
   ],
   "source": [
    "# 타이타닉 데이터셋 로드 (예시)\n",
    "# 실제 경로는 환경에 맞게 수정 필요\n",
    "df = pd.DataFrame({\n",
    "    'PassengerId': [1, 2, 3, 4, 5],\n",
    "    'Survived': [0, 1, 1, 1, 0],\n",
    "    'Pclass': [3, 1, 3, 1, 3],\n",
    "    'Name': ['Braund, Mr. Owen Harris', \n",
    "             'Cumings, Mrs. John Bradley (Florence Briggs Thayer)', \n",
    "             'Heikkinen, Miss. Laina',\n",
    "             'Futrelle, Mrs. Jacques Heath (Lily May Peel)',\n",
    "             'Allen, Mr. William Henry'],\n",
    "    'Sex': ['male', 'female', 'female', 'female', 'male'],\n",
    "    'Age': [22.0, 38.0, 26.0, 35.0, 35.0],\n",
    "    'SibSp': [1, 1, 0, 1, 0],\n",
    "    'Parch': [0, 0, 0, 0, 0],\n",
    "    'Ticket': ['A/5 21171', 'PC 17599', 'STON/O2. 3101282', '113803', '373450'],\n",
    "    'Fare': [7.2500, 71.2833, 7.9250, 53.1000, 8.0500],\n",
    "    'Cabin': [None, 'C85', None, 'C123', None],\n",
    "    'Embarked': ['S', 'C', 'S', 'S', 'S']\n",
    "})\n",
    "df.head()"
   ]
  },
  {
   "cell_type": "markdown",
   "metadata": {},
   "source": [
    "### 파서 설정 및 포맷 지시사항"
   ]
  },
  {
   "cell_type": "code",
   "execution_count": 6,
   "metadata": {},
   "outputs": [
    {
     "name": "stdout",
     "output_type": "stream",
     "text": [
      "The output should be formatted as a string as the operation, followed by a colon, followed by the column or row to be queried on, followed by optional array parameters.\n",
      "1. The column names are limited to the possible columns below.\n",
      "2. Arrays must either be a comma-separated list of numbers formatted as [1,3,5], or it must be in range of numbers formatted as [0..4].\n",
      "3. Remember that arrays are optional and not necessarily required.\n",
      "4. If the column is not in the possible columns or the operation is not a valid Pandas DataFrame operation, return why it is invalid as a sentence starting with either \"Invalid column\" or \"Invalid operation\".\n",
      "\n",
      "As an example, for the formats:\n",
      "1. String \"column:num_legs\" is a well-formatted instance which gets the column num_legs, where num_legs is a possible column.\n",
      "2. String \"row:1\" is a well-formatted instance which gets row 1.\n",
      "3. String \"column:num_legs[1,2]\" is a well-formatted instance which gets the column num_legs for rows 1 and 2, where num_legs is a possible column.\n",
      "4. String \"row:1[num_legs]\" is a well-formatted instance which gets row 1, but for just column num_legs, where num_legs is a possible column.\n",
      "5. String \"mean:num_legs[1..3]\" is a well-formatted instance which takes the mean of num_legs from rows 1 to 3, where num_legs is a possible column and mean is a valid Pandas DataFrame operation.\n",
      "6. String \"do_something:num_legs\" is a badly-formatted instance, where do_something is not a valid Pandas DataFrame operation.\n",
      "7. String \"mean:invalid_col\" is a badly-formatted instance, where invalid_col is not a possible column.\n",
      "\n",
      "Here are the possible columns:\n",
      "```\n",
      "PassengerId, Survived, Pclass, Name, Sex, Age, SibSp, Parch, Ticket, Fare, Cabin, Embarked\n",
      "```\n",
      "\n"
     ]
    }
   ],
   "source": [
    "# 파서를 설정하고 프롬프트 템플릿에 지시사항을 주입합니다\n",
    "parser = PandasDataFrameOutputParser(dataframe=df)\n",
    "\n",
    "# 파서의 지시사항을 출력합니다\n",
    "print(parser.get_format_instructions())"
   ]
  },
  {
   "cell_type": "markdown",
   "metadata": {},
   "source": [
    "### 열(Column) 조회 예시"
   ]
  },
  {
   "cell_type": "code",
   "execution_count": 7,
   "metadata": {},
   "outputs": [
    {
     "name": "stdout",
     "output_type": "stream",
     "text": [
      "{'Age': {0: 22.0,\n",
      "         1: 38.0,\n",
      "         2: 26.0,\n",
      "         3: 35.0,\n",
      "         4: 35.0}}\n"
     ]
    }
   ],
   "source": [
    "# 열 작업 예시\n",
    "df_query = \"Age column 을 조회해 주세요.\"\n",
    "\n",
    "# 프롬프트 템플릿을 설정합니다\n",
    "prompt = PromptTemplate(\n",
    "    template=\"Answer the user query.\\n{format_instructions}\\n{question}\\n\",\n",
    "    input_variables=[\"question\"],  # 입력 변수 설정\n",
    "    partial_variables={\n",
    "        \"format_instructions\": parser.get_format_instructions()\n",
    "    },  # 부분 변수 설정\n",
    ")\n",
    "\n",
    "# 체인 생성\n",
    "chain = prompt | model | parser\n",
    "\n",
    "# 체인 실행\n",
    "parser_output = chain.invoke({\"question\": df_query})\n",
    "\n",
    "# 출력\n",
    "format_parser_output(parser_output)"
   ]
  },
  {
   "cell_type": "markdown",
   "metadata": {},
   "source": [
    "### 집계 연산 예시"
   ]
  },
  {
   "cell_type": "code",
   "execution_count": 8,
   "metadata": {},
   "outputs": [
    {
     "data": {
      "text/plain": [
       "31.2"
      ]
     },
     "execution_count": 8,
     "metadata": {},
     "output_type": "execute_result"
    }
   ],
   "source": [
    "# 직접 계산: row 0 ~ 4의 평균 나이\n",
    "df[\"Age\"].head().mean()"
   ]
  },
  {
   "cell_type": "code",
   "execution_count": 9,
   "metadata": {},
   "outputs": [
    {
     "name": "stdout",
     "output_type": "stream",
     "text": [
      "{'mean': 31.2}\n"
     ]
    }
   ],
   "source": [
    "# LLM을 통한 계산\n",
    "df_query = \"Retrieve the average of the Ages from row 0 to 4.\"\n",
    "\n",
    "# 체인 실행\n",
    "parser_output = chain.invoke({\"question\": df_query})\n",
    "\n",
    "# 결과 출력\n",
    "print(parser_output)"
   ]
  },
  {
   "cell_type": "markdown",
   "metadata": {},
   "source": [
    "## 2. DatetimeOutputParser\n",
    "\n",
    "`DatetimeOutputParser`는 LLM의 출력을 `datetime` 형식으로 파싱하는 데 사용할 수 있습니다.\n",
    "\n",
    "### 주요 날짜 형식 코드\n",
    "\n",
    "| 형식 코드 | 설명                | 예시          |\n",
    "|------------|---------------------|---------------|\n",
    "| %Y         | 4자리 연도          | 2024          |\n",
    "| %y         | 2자리 연도          | 24            |\n",
    "| %m         | 2자리 월            | 07            |\n",
    "| %d         | 2자리 일            | 04            |\n",
    "| %H         | 24시간제 시간       | 14            |\n",
    "| %I         | 12시간제 시간       | 02            |\n",
    "| %p         | AM 또는 PM          | PM            |\n",
    "| %M         | 2자리 분            | 45            |\n",
    "| %S         | 2자리 초            | 08            |"
   ]
  },
  {
   "cell_type": "code",
   "execution_count": 10,
   "metadata": {},
   "outputs": [],
   "source": [
    "from langchain.output_parsers import DatetimeOutputParser\n",
    "from langchain.prompts import PromptTemplate\n",
    "from langchain_openai import ChatOpenAI"
   ]
  },
  {
   "cell_type": "code",
   "execution_count": 11,
   "metadata": {},
   "outputs": [
    {
     "name": "stdout",
     "output_type": "stream",
     "text": [
      "Write a datetime string that matches the following pattern: '%Y-%m-%d'.\n",
      "\n",
      "Examples: 0793-03-01, 1003-06-10, 1892-12-14\n",
      "\n",
      "Return ONLY this string, no other words!\n"
     ]
    }
   ],
   "source": [
    "# 날짜 및 시간 출력 파서 설정\n",
    "output_parser = DatetimeOutputParser()\n",
    "output_parser.format = \"%Y-%m-%d\"\n",
    "\n",
    "# 포맷 지시사항 확인\n",
    "print(output_parser.get_format_instructions())"
   ]
  },
  {
   "cell_type": "code",
   "execution_count": 12,
   "metadata": {},
   "outputs": [],
   "source": [
    "# 프롬프트 템플릿 생성\n",
    "template = \"\"\"Answer the users question:\n",
    "\n",
    "#Format Instructions: \n",
    "{format_instructions}\n",
    "\n",
    "#Question: \n",
    "{question}\n",
    "\n",
    "#Answer:\"\"\"\n",
    "\n",
    "prompt = PromptTemplate.from_template(\n",
    "    template,\n",
    "    partial_variables={\n",
    "        \"format_instructions\": output_parser.get_format_instructions()\n",
    "    },\n",
    ")"
   ]
  },
  {
   "cell_type": "code",
   "execution_count": 13,
   "metadata": {},
   "outputs": [
    {
     "name": "stdout",
     "output_type": "stream",
     "text": [
      "파싱된 날짜: 1998-09-04 00:00:00\n",
      "문자열 형식: 1998-09-04\n"
     ]
    }
   ],
   "source": [
    "# Chain 생성 및 실행\n",
    "chain = prompt | ChatOpenAI() | output_parser\n",
    "\n",
    "# 체인을 호출하여 질문에 대한 답변을 받습니다\n",
    "output = chain.invoke({\"question\": \"Google 이 창업한 연도\"})\n",
    "\n",
    "print(f\"파싱된 날짜: {output}\")\n",
    "print(f\"문자열 형식: {output.strftime('%Y-%m-%d')}\")"
   ]
  },
  {
   "cell_type": "markdown",
   "metadata": {},
   "source": [
    "## 3. EnumOutputParser\n",
    "\n",
    "EnumOutputParser는 언어 모델의 출력을 미리 정의된 열거형(Enum) 값 중 하나로 파싱하는 도구입니다.\n",
    "\n",
    "### 주요 특징\n",
    "- **열거형 파싱**: 문자열 출력을 미리 정의된 Enum 값으로 변환\n",
    "- **타입 안전성**: 파싱된 결과가 반드시 정의된 Enum 값 중 하나임을 보장\n",
    "- **유연성**: 공백이나 줄바꿈 문자를 자동으로 처리"
   ]
  },
  {
   "cell_type": "code",
   "execution_count": 14,
   "metadata": {},
   "outputs": [],
   "source": [
    "from langchain.output_parsers.enum import EnumOutputParser\n",
    "from enum import Enum"
   ]
  },
  {
   "cell_type": "code",
   "execution_count": 15,
   "metadata": {},
   "outputs": [],
   "source": [
    "# Enum 클래스 정의\n",
    "class Colors(Enum):\n",
    "    RED = \"빨간색\"\n",
    "    GREEN = \"초록색\"\n",
    "    BLUE = \"파란색\""
   ]
  },
  {
   "cell_type": "code",
   "execution_count": 16,
   "metadata": {},
   "outputs": [
    {
     "name": "stdout",
     "output_type": "stream",
     "text": [
      "Select one of the following options: RED, GREEN, BLUE\n"
     ]
    }
   ],
   "source": [
    "# EnumOutputParser 인스턴스 생성\n",
    "parser = EnumOutputParser(enum=Colors)\n",
    "\n",
    "# 포맷 지시사항 확인\n",
    "print(parser.get_format_instructions())"
   ]
  },
  {
   "cell_type": "code",
   "execution_count": 17,
   "metadata": {},
   "outputs": [],
   "source": [
    "from langchain_core.prompts import PromptTemplate\n",
    "from langchain_openai import ChatOpenAI\n",
    "\n",
    "# 프롬프트 템플릿 생성\n",
    "prompt = PromptTemplate.from_template(\n",
    "    \"\"\"다음의 물체는 어떤 색깔인가요?\n",
    "\n",
    "Object: {object}\n",
    "\n",
    "Instructions: {instructions}\"\"\"\n",
    ").partial(instructions=parser.get_format_instructions())\n",
    "\n",
    "# 체인 생성\n",
    "chain = prompt | ChatOpenAI() | parser"
   ]
  },
  {
   "cell_type": "code",
   "execution_count": 18,
   "metadata": {},
   "outputs": [
    {
     "name": "stdout",
     "output_type": "stream",
     "text": [
      "응답: Colors.BLUE\n",
      "타입: <enum 'Colors'>\n",
      "값: 파란색\n"
     ]
    }
   ],
   "source": [
    "# 체인 실행\n",
    "response = chain.invoke({\"object\": \"하늘\"})\n",
    "\n",
    "print(f\"응답: {response}\")\n",
    "print(f\"타입: {type(response)}\")\n",
    "print(f\"값: {response.value}\")"
   ]
  },
  {
   "cell_type": "markdown",
   "metadata": {},
   "source": [
    "### 다른 예시들"
   ]
  },
  {
   "cell_type": "code",
"execution_count": 19,
  "metadata": {},
  "outputs": [
   {
    "name": "stdout",
    "output_type": "stream",
    "text": [
     "토마토: Colors.RED (빨간색)\n",
     "잔디: Colors.GREEN (초록색)\n",
     "바다: Colors.BLUE (파란색)\n"
    ]
   }
  ],
  "source": [
   "# 여러 물체에 대한 색상 분류\n",
   "objects = [\"토마토\", \"잔디\", \"바다\"]\n",
   "\n",
   "for obj in objects:\n",
   "    response = chain.invoke({\"object\": obj})\n",
   "    print(f\"{obj}: {response} ({response.value})\")"
  ]
 },
 {
  "cell_type": "markdown",
  "metadata": {},
  "source": [
   "## 실습 예제: 종합 활용\n",
   "\n",
   "세 가지 파서를 활용한 실제 사용 예제를 만들어 봅시다."
  ]
 },
 {
  "cell_type": "code",
  "execution_count": 20,
  "metadata": {},
  "outputs": [],
  "source": [
   "# 감정 분석을 위한 Enum 정의\n",
   "class Sentiment(Enum):\n",
   "    POSITIVE = \"긍정적\"\n",
   "    NEGATIVE = \"부정적\"\n",
   "    NEUTRAL = \"중립적\"\n",
   "\n",
   "# 감정 분석 파서\n",
   "sentiment_parser = EnumOutputParser(enum=Sentiment)\n",
   "\n",
   "# 감정 분석 프롬프트\n",
   "sentiment_prompt = PromptTemplate.from_template(\n",
   "    \"\"\"다음 문장의 감정을 분석해주세요:\n",
   "\n",
   "문장: {text}\n",
   "\n",
   "Instructions: {instructions}\"\"\"\n",
   ").partial(instructions=sentiment_parser.get_format_instructions())\n",
   "\n",
   "# 감정 분석 체인\n",
   "sentiment_chain = sentiment_prompt | ChatOpenAI() | sentiment_parser"
  ]
 },
 {
  "cell_type": "code",
  "execution_count": 21,
  "metadata": {},
  "outputs": [
   {
    "name": "stdout",
    "output_type": "stream",
    "text": [
     "문장: 오늘 날씨가 정말 좋네요!\n",
     "감정: POSITIVE (긍정적)\n",
     "\n",
     "문장: 비가 와서 우울해요.\n",
     "감정: NEGATIVE (부정적)\n",
     "\n",
     "문장: 내일은 수요일입니다.\n",
     "감정: NEUTRAL (중립적)\n",
     "\n"
    ]
   }
  ],
  "source": [
   "# 테스트 문장들\n",
   "test_sentences = [\n",
   "    \"오늘 날씨가 정말 좋네요!\",\n",
   "    \"비가 와서 우울해요.\",\n",
   "    \"내일은 수요일입니다.\"\n",
   "]\n",
   "\n",
   "for sentence in test_sentences:\n",
   "    sentiment = sentiment_chain.invoke({\"text\": sentence})\n",
   "    print(f\"문장: {sentence}\")\n",
   "    print(f\"감정: {sentiment.name} ({sentiment.value})\\n\")"
  ]
 },
 {
  "cell_type": "markdown",
  "metadata": {},
  "source": [
   "## 요약 및 활용 가이드\n",
   "\n",
   "### 1. PandasDataFrameOutputParser\n",
   "- **사용 시나리오**: 자연어로 데이터 분석을 수행하고 싶을 때\n",
   "- **장점**: SQL을 모르는 사용자도 데이터 쿼리 가능\n",
   "- **주의사항**: GPT-3.5-turbo 모델 권장\n",
   "\n",
   "### 2. DatetimeOutputParser\n",
   "- **사용 시나리오**: 텍스트에서 날짜/시간 정보를 추출할 때\n",
   "- **장점**: 다양한 날짜 형식 지원\n",
   "- **활용**: 일정 관리, 이벤트 파싱, 타임라인 생성\n",
   "\n",
   "### 3. EnumOutputParser\n",
   "- **사용 시나리오**: 분류 작업, 감정 분석, 카테고리 지정\n",
   "- **장점**: 타입 안전성, 제한된 선택지 보장\n",
   "- **활용**: 텍스트 분류, 상태 판단, 레이블링 작업\n",
   "\n",
   "### 선택 가이드\n",
   "- 데이터 분석 → PandasDataFrameOutputParser\n",
   "- 시간 정보 추출 → DatetimeOutputParser\n",
   "- 분류/카테고리화 → EnumOutputParser"
  ]
 },
 {
  "cell_type": "markdown",
  "metadata": {},
  "source": [
   "## 고급 활용: 파서 조합하기\n",
   "\n",
   "여러 파서를 조합하여 복잡한 출력 구조를 만들 수 있습니다."
  ]
 },
 {
  "cell_type": "code",
  "execution_count": 22,
  "metadata": {},
  "outputs": [
   {
    "name": "stdout",
    "output_type": "stream",
    "text": [
     "분석 결과:\n",
     "- 날짜: 2020-03-11\n",
     "- 감정: NEGATIVE (부정적)\n",
     "- 관련 데이터: 2020년 평균 나이는 31.2세입니다.\n"
    ]
   }
  ],
  "source": [
   "# 복합 분석 예제\n",
   "text = \"2020년 3월 11일, WHO가 팬데믹을 선언했습니다. 많은 사람들이 불안해했습니다.\"\n",
   "\n",
   "# 1. 날짜 추출\n",
   "date_prompt = PromptTemplate.from_template(\n",
   "    \"다음 텍스트에서 날짜를 추출하세요: {text}\\n\\n{format_instructions}\"\n",
   ").partial(format_instructions=output_parser.get_format_instructions())\n",
   "\n",
   "date_chain = date_prompt | ChatOpenAI() | output_parser\n",
   "extracted_date = date_chain.invoke({\"text\": text})\n",
   "\n",
   "# 2. 감정 분석\n",
   "sentiment = sentiment_chain.invoke({\"text\": text})\n",
   "\n",
   "# 3. 데이터 분석 (예시)\n",
   "df_analysis = chain.invoke({\"question\": \"What is the average Age?\"})\n",
   "\n",
   "print(\"분석 결과:\")\n",
   "print(f\"- 날짜: {extracted_date.strftime('%Y-%m-%d')}\")\n",
   "print(f\"- 감정: {sentiment.name} ({sentiment.value})\")\n",
   "print(f\"- 관련 데이터: {extracted_date.year}년 평균 나이는 {df_analysis['mean']}세입니다.\")"
  ]
 }
],
"metadata": {
 "kernelspec": {
  "display_name": "Python 3",
  "language": "python",
  "name": "python3"
 },
 "language_info": {
  "codemirror_mode": {
   "name": "ipython",
   "version": 3
  },
  "file_extension": ".py",
  "mimetype": "text/x-python",
  "name": "python",
  "nbconvert_exporter": "python",
  "pygments_lexer": "ipython3",
  "version": "3.11.0"
 }
},
"nbformat": 4,
"nbformat_minor": 4
}