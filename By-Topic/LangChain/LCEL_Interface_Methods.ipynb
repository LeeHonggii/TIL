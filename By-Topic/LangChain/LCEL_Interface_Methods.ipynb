{
 "cells": [
  {
   "cell_type": "markdown",
   "metadata": {},
   "source": [
    "# LCEL 인터페이스\n",
    "\n",
    "LCEL(LangChain Expression Language) 인터페이스는 LangChain에서 체인을 구성하고 실행하는 방법을 제공합니다. 주요 인터페이스는 다음과 같습니다:\n",
    "\n",
    "- [`stream`](#stream): 생성시 실시간 호출\n",
    "- [`invoke`](#invoke): 입력에 대해 체인 호출\n",
    "- [`batch`](#batch): 입력 목록에 대해 일괄처리후 호출\n",
    "- [`비동기 호출`](#비동기-호출): 비동기 방식으로 메소드 실행\n",
    "- [`RunnableParallel`](#runnableparallel): 여러 작업을 병렬로 실행"
   ]
  },
  {
   "cell_type": "code",
   "execution_count": 2,
   "metadata": {},
   "outputs": [
    {
     "data": {
      "text/plain": [
       "True"
      ]
     },
     "execution_count": 2,
     "metadata": {},
     "output_type": "execute_result"
    }
   ],
   "source": [
    "from dotenv import load_dotenv\n",
    "\n",
    "load_dotenv()"
   ]
  },
  {
   "cell_type": "markdown",
   "metadata": {},
   "source": [
    "## stream\n",
    "\n",
    "stream 메소드는 생성 모델의 응답을 실시간으로 스트리밍하여 받을 수 있게 해줍니다. 이는 긴 응답을 기다리지 않고 토큰이 생성될 때마다 즉시 확인할 수 있습니다."
   ]
  },
  {
   "cell_type": "code",
   "execution_count": 8,
   "metadata": {},
   "outputs": [
    {
     "name": "stdout",
     "output_type": "stream",
     "text": [
      "ChatGPT는 인공지능 챗봇으로, 자연어 처리 기술을 이용해 대화를 주고받을 수 있습니다. 사용자의 질문에 대답하거나 대화를 이어나가는 등 다양한 상황에서 활용됩니다. ChatGPT는 학습을 통해 계속 발전하며, 다양한 주제에 대해 대화를 이어나갈 수 있습니다."
     ]
    }
   ],
   "source": [
    "from langchain_openai import ChatOpenAI\n",
    "from langchain_core.prompts import PromptTemplate\n",
    "from langchain_core.output_parsers import StrOutputParser\n",
    "\n",
    "# 모델 설정\n",
    "model = ChatOpenAI(streaming=True)\n",
    "\n",
    "# 템플릿 사용\n",
    "prompt = PromptTemplate.from_template(\"{topic} 에 대하여 3문장으로 설명해줘.\")\n",
    "\n",
    "# 체인 구성\n",
    "chain = prompt | model | StrOutputParser()\n",
    "\n",
    "# 스트리밍 사용 예시\n",
    "for token in chain.stream({\"topic\": \"ChatGPT\"}):\n",
    "    print(token, end=\"\", flush=True)\n"
   ]
  },
  {
   "cell_type": "markdown",
   "metadata": {},
   "source": [
    "## invoke\n",
    "\n",
    "invoke 메소드는 체인에 단일 입력을 전달하여 모델에서 응답을 받아옵니다. 결과는 한 번에 반환됩니다."
   ]
  },
  {
   "cell_type": "code",
   "execution_count": 12,
   "metadata": {},
   "outputs": [
    {
     "data": {
      "text/plain": [
       "'ClaudeAi는 혁신적인 인공지능 기술을 사용하여 다양한 분야에서 문제 해결을 돕는 프로그램이다. 이 프로그램은 데이터 분석, 자연어 처리, 이미지 인식 등 다양한 기능을 제공하여 사용자의 요구에 맞는 솔루션을 제공한다. ClaudeAi는 빠르고 정확한 결과를 제공하여 업무 효율성을 향상시키고 비즈니스 성과를 향상시킬 수 있는 도구로 인정받고 있다.'"
      ]
     },
     "execution_count": 12,
     "metadata": {},
     "output_type": "execute_result"
    }
   ],
   "source": [
    "chain.invoke({\"topic\": \"claudeAi\"})"
   ]
  },
  {
   "cell_type": "markdown",
   "metadata": {},
   "source": [
    "## batch\n",
    "\n",
    "batch 메소드는 여러 입력을 한 번에 처리합니다. 이를 통해 여러 요청을 효율적으로 처리할 수 있습니다."
   ]
  },
  {
   "cell_type": "code",
   "execution_count": 13,
   "metadata": {},
   "outputs": [
    {
     "data": {
      "text/plain": [
       "['ClaudeAi는 고급 인공지능 기술을 기반으로 한 프로젝트로, 자연어 처리와 기계 학습을 통해 혁신적인 솔루션을 제공합니다. 이를 통해 기업이나 조직은 데이터 분석, 자동화된 의사 결정 및 고객 상호작용을 효율적으로 처리할 수 있습니다. ClaudeAi는 빠르게 발전하고 있는 인공지능 기술의 최신 동향을 반영하여 지속적으로 업그레이드가 이루어지고 있습니다.',\n",
       " 'NVIDIA는 그래픽 처리 장치 및 인공지능 기술을 개발하는 미국의 기업이다. 게임 산업에서 주목받는 그래픽 카드와 높은 성능을 자랑하는 GPU를 제조한다. 또한, 딥러닝 및 자율주행차량 분야에서도 선도적인 기술을 보유하고 있다.']"
      ]
     },
     "execution_count": 13,
     "metadata": {},
     "output_type": "execute_result"
    }
   ],
   "source": [
    "chain.batch([{\"topic\": \"claudeAi\"}, {\"topic\": \"nvidia\"}])"
   ]
  },
  {
   "cell_type": "markdown",
   "metadata": {},
   "source": [
    "## 비동기 호출\n",
    "\n",
    "비동기 메소드는 프로그램이 특정 작업을 수행하고 있을 때, 그 작업이 완료될 때까지 프로그램 전체를 멈추지 않고 다른 작업을 계속 수행할 수 있게 해주는 방법입니다. LangChain에서는 `astream`, `ainvoke`, `abatch` 등의 비동기 메소드를 제공합니다."
   ]
  },
  {
   "cell_type": "code",
   "execution_count": 18,
   "metadata": {},
   "outputs": [
    {
     "name": "stdout",
     "output_type": "stream",
     "text": [
      "YouTube는 동영상을 업로드하고 시청할 수 있는 온라인 동영상 플랫폼이다. 사용자들은 다양한 주제의 동영상을 만들어 공유하고, 구독자들과 소통할 수 있다. 광고수익을 통해 크리에이터들은 수익을 창출할 수 있으며, 전 세계적으로 많은 이용자들이 이용하고 있다."
     ]
    }
   ],
   "source": [
    "async for token in chain.astream({\"topic\": \"YouTube\"}):\n",
    "    # 메시지 내용을 출력합니다. 줄바꿈 없이 바로 출력하고 버퍼를 비웁니다.\n",
    "    print(token, end=\"\", flush=True)"
   ]
  },
  {
   "cell_type": "code",
   "execution_count": 14,
   "metadata": {},
   "outputs": [],
   "source": [
    "my_process = chain.ainvoke({\"topic\": \"NVDA\"})"
   ]
  },
  {
   "cell_type": "code",
   "execution_count": 15,
   "metadata": {},
   "outputs": [
    {
     "data": {
      "text/plain": [
       "'NVDA는 미국의 인공지능 기술 기업으로, 주로 컴퓨터 비전 및 딥러닝 분야에서 활동하고 있다. 주요 제품으로는 GPU와 그래픽 카드를 생산하는 것으로 유명하며, 이를 통해 높은 성능의 그래픽 처리를 가능하게 한다. 또한 자율주행 자동차 및 클라우드 컴퓨팅 분야에서도 기술력을 발휘하고 있다.'"
      ]
     },
     "execution_count": 15,
     "metadata": {},
     "output_type": "execute_result"
    }
   ],
   "source": [
    "await my_process"
   ]
  },
  {
   "cell_type": "code",
   "execution_count": 16,
   "metadata": {},
   "outputs": [],
   "source": [
    "my_abatch_process = chain.abatch(\n",
    "    [{\"topic\": \"YouTube\"}, {\"topic\": \"Instagram\"}, {\"topic\": \"Facebook\"}]\n",
    ")"
   ]
  },
  {
   "cell_type": "code",
   "execution_count": 17,
   "metadata": {},
   "outputs": [
    {
     "data": {
      "text/plain": [
       "['YouTube는 동영상을 업로드하고 시청할 수 있는 온라인 동영상 플랫폼이다. 사용자들은 다양한 주제의 동영상을 업로드하여 공유하고, 시청자들은 원하는 동영상을 검색하거나 구독하여 소식을 받을 수 있다. 또한 광고 수익을 얻을 수 있는 유튜버들이 많이 활동하고 있어 인기를 끌고 있다.',\n",
       " 'Instagram은 사진과 동영상을 공유하고 다른 사람들과 소통할 수 있는 소셜 미디어 플랫폼이다. 사용자들은 팔로우를 통해 친구들의 소식을 받아볼 수 있고, 좋아요나 댓글을 남기며 상호작용할 수 있다. 또한 인스타그램 스토리 기능을 통해 일상을 간편하게 공유할 수 있다.',\n",
       " 'Facebook은 전 세계적으로 가장 인기 있는 소셜 네트워킹 서비스로, 사용자들이 친구들과 소통하고 콘텐츠를 공유하는 플랫폼이다. 사용자들은 사진, 동영상, 글 등 다양한 형식의 콘텐츠를 올릴 수 있으며, 친구들과의 연결을 유지하고 새로운 인연을 만들 수 있다. 또한 광고 및 마케팅 플랫폼으로도 이용되어 다양한 기업들이 홍보 및 광고를 통해 자사 제품이나 서비스를 홍보할 수 있다.']"
      ]
     },
     "execution_count": 17,
     "metadata": {},
     "output_type": "execute_result"
    }
   ],
   "source": [
    "await my_abatch_process"
   ]
  },
  {
   "cell_type": "markdown",
   "metadata": {},
   "source": [
    "## RunnableParallel\n",
    "\n",
    "RunnableParallel은 여러 체인을 병렬로 실행할 수 있게 해주는 모듈입니다. 이를 통해 서로 다른 작업을 동시에 수행하여 시간을 절약할 수 있습니다."
   ]
  },
  {
   "cell_type": "code",
   "execution_count": 19,
   "metadata": {},
   "outputs": [],
   "source": [
    "from langchain_core.runnables import RunnableParallel\n",
    "\n",
    "# 음식의 주 성분에 대해 물어보는 체인을 생성합니다.\n",
    "chain1 = (\n",
    "    PromptTemplate.from_template(\"{food} 의 주 성분은 뭐야?\")\n",
    "    | model\n",
    "    | StrOutputParser()\n",
    ")\n",
    "\n",
    "# 요리의 조리 방법에 대해 물어보는 체인을 생성합니다.\n",
    "chain2 = (\n",
    "    PromptTemplate.from_template(\"{cooking} 조리 방법이뭐야?\")\n",
    "    | model\n",
    "    | StrOutputParser()\n",
    ")\n",
    "\n",
    "# 위의 2개 체인을 동시에 실행하는 병렬 실행 체인을 생성합니다.\n",
    "combined = RunnableParallel(ingredients=chain1, cook=chain2)"
   ]
  },
  {
   "cell_type": "code",
   "execution_count": 21,
   "metadata": {},
   "outputs": [
    {
     "data": {
      "text/plain": [
       "{'ingredients': \"주 성분은 '닭가슴살'이다.\",\n",
       " 'cook': '봉골레 파스타를 만들기 위해 먼저 닭가슴살을 조리해야 합니다. \\n\\n1. 닭가슴살을 손질하여 깨끗이 씻은 후 끓는 물에 넣어 삶아주세요. \\n2. 삶은 닭가슴살을 식힌 후 포크나 칼 등을 사용하여 적당한 크기로 썬다. \\n3. 닭가슴살을 볶거나 그릴에 구워 간을 내어주세요. \\n4. 별도의 팬에 올리브 오일을 두르고 다진 마늘을 볶은 후 양파, 토마토, 파프리카 등을 넣어 볶아주세요. \\n5. 삶은 스파게티를 삶은 후 물기를 제거하고 볶은 재료와 볶은 닭가슴살을 넣어주세요. \\n6. 소금, 후추, 파슬리, 파마산 치즈 등으로 간을 내어 완성하세요. \\n\\n이렇게하면 맛있는 봉골레 파스타를 즐길 수 있습니다!'}"
      ]
     },
     "execution_count": 21,
     "metadata": {},
     "output_type": "execute_result"
    }
   ],
   "source": [
    "combined.invoke([{\"food\": \"닭가슴살\"}, {\"cooking\": \"봉골레 파스타\"}])"
   ]
  },
  {
   "cell_type": "code",
   "execution_count": 23,
   "metadata": {},
   "outputs": [
    {
     "data": {
      "text/plain": [
       "['포도의 주 성분은 물, 당분, 식이섬유, 비타민, 미네랄 등이 있습니다. 특히 포도에 풍부하게 함유된 폴리페놀류류 성분은 항산화작용을 통해 건강에 도움을 줄 수 있습니다.',\n",
       " '사과의 주 성분은 물이며, 다른 성분으로는 탄수화물, 섬유질, 비타민, 미네랄 등이 있습니다.']"
      ]
     },
     "execution_count": 23,
     "metadata": {},
     "output_type": "execute_result"
    }
   ],
   "source": [
    "chain1.batch([{\"food\": \"포도\"}, {\"food\": \"사과\"}])"
   ]
  },
  {
   "cell_type": "code",
   "execution_count": 25,
   "metadata": {},
   "outputs": [
    {
     "data": {
      "text/plain": [
       "['라면을 조리하는 방법은 다음과 같습니다:\\n\\n1. 물을 끓인 후 라면 봉지 안의 면과 스프를 넣어주세요.\\n2. 면이 삶아질 때까지 약 3-4분간 끓인 후 불을 끄고 스프를 넣어주세요.\\n3. 스프를 넣은 후 잘 섞어주고 뚜껑을 덮어 1-2분간 그대로 두어주세요.\\n4. 그 후 그릇에 담아 드시면 완성입니다. 맛있게 드세요!',\n",
       " '김치찌개를 만드는 방법은 다음과 같습니다:\\n\\n1. 냄비에 물을 끓여주세요.\\n2. 김치, 돼지고기, 두부, 된장, 고추장, 대파, 마늘, 다진마늘, 소금, 설탕, 참기름을 넣고 끓여주세요.\\n3. 끓기 시작하면 중불로 줄여 약 20분 정도 더 끓여주세요.\\n4. 끓이다가 끝부분에 식용유, 후추, 김치국물, 김치 국물과 소금을 넣고 끓여주세요.\\n5. 끓인 김치찌개를 그릇에 담아 녹말물을 넣어 끓여주세요.\\n\\n마지막으로 김치찌개를 즐기시면 됩니다. 맛있게 드세요!']"
      ]
     },
     "execution_count": 25,
     "metadata": {},
     "output_type": "execute_result"
    }
   ],
   "source": [
    "chain2.batch([{\"cooking\": \"라면\"}, {\"cooking\": \"김치찌개\"}])"
   ]
  }
 ],
 "metadata": {
  "kernelspec": {
   "display_name": "Python 3",
   "language": "python",
   "name": "python3"
  },
  "language_info": {
   "codemirror_mode": {
    "name": "ipython",
    "version": 3
   },
   "file_extension": ".py",
   "mimetype": "text/x-python",
   "name": "python",
   "nbconvert_exporter": "python",
   "pygments_lexer": "ipython3",
   "version": "3.11.11"
  }
 },
 "nbformat": 4,
 "nbformat_minor": 4
}