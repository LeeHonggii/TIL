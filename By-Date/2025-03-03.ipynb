{
 "cells": [
  {
   "cell_type": "markdown",
   "metadata": {},
   "source": [
    "## Document Loader\n",
    "\n",
    "다양한 파일의 형식으로부터 불러온 내용을 문서(Document) 객체로 변환하는 역할을 합니다.\n",
    "\n",
    "### 주요 Loader \n",
    "- PyPDFLoader: PDF 파일을 로드하는 로더입니다.\n",
    "- CSVLoader: CSV 파일을 로드하는 로더입니다.\n",
    "- UnstructuredHTMLLoader: HTML 파일을 로드하는 로더입니다.\n",
    "- JSONLoader: JSON 파일을 로드하는 로더입니다.\n",
    "- TextLoader: 텍스트 파일을 로드하는 로더입니다.\n",
    "- DirectoryLoader: 디렉토리를 로드하는 로더입니다."
   ]
  },
  {
   "cell_type": "code",
   "execution_count": 2,
   "metadata": {},
   "outputs": [],
   "source": [
    "# 예제 파일 경로\n",
    "FILE_PATH = \"../ADsP.pdf\""
   ]
  },
  {
   "cell_type": "code",
   "execution_count": 3,
   "metadata": {},
   "outputs": [],
   "source": [
    "from langchain_community.document_loaders import PyPDFLoader\n",
    "\n",
    "# 로더 설정\n",
    "loader = PyPDFLoader(FILE_PATH)"
   ]
  },
  {
   "cell_type": "code",
   "execution_count": 6,
   "metadata": {},
   "outputs": [
    {
     "data": {
      "text/plain": [
       "1"
      ]
     },
     "execution_count": 6,
     "metadata": {},
     "output_type": "execute_result"
    }
   ],
   "source": [
    "# PDF 로더\n",
    "docs = loader.load()\n",
    "\n",
    "# 로드된 문서의 수 확인\n",
    "len(docs)"
   ]
  },
  {
   "cell_type": "code",
   "execution_count": 8,
   "metadata": {},
   "outputs": [
    {
     "name": "stdout",
     "output_type": "stream",
     "text": [
      "문서의 길이: 4\n"
     ]
    },
    {
     "data": {
      "text/plain": [
       "Document(metadata={'producer': 'PyPDF2', 'creator': 'PyPDF', 'creationdate': '', 'source': '../ADsP.pdf', 'total_pages': 1, 'page': 0, 'page_label': '1'}, page_content='효율화 목적빅데이터 가치측정 어려윤 이유 : 1) 데이터 재사용,재조합,다목적용 개발                                          2) 새로운 가치 창출                                          3) 분석 기술 발전cf. 전문인력증가는 가치측정과 관련 없음사생활 침해를 막기 위한 개인정보 무작위')"
      ]
     },
     "execution_count": 8,
     "metadata": {},
     "output_type": "execute_result"
    }
   ],
   "source": [
    "from langchain_text_splitters import RecursiveCharacterTextSplitter\n",
    "\n",
    "# 문열 분할기 설정\n",
    "text_splitter = RecursiveCharacterTextSplitter(chunk_size=200, chunk_overlap=0)\n",
    "\n",
    "# 예제 파일 경로\n",
    "FILE_PATH = \"../ADsP.pdf\"\n",
    "\n",
    "# 로더 설정\n",
    "loader = PyPDFLoader(FILE_PATH)\n",
    "\n",
    "# 문서 분할\n",
    "split_docs = loader.load_and_split(text_splitter=text_splitter)\n",
    "\n",
    "# 로드된 문서의 수 확인\n",
    "print(f\"문서의 길이: {len(split_docs)}\")\n",
    "\n",
    "# 첫번째 문서 확인\n",
    "split_docs[1]"
   ]
  },
  {
   "cell_type": "markdown",
   "metadata": {},
   "source": [
    "### lazy_load()\n",
    "\n",
    "- generator 방식으로 문서를 로드합니다."
   ]
  },
  {
   "cell_type": "code",
   "execution_count": 9,
   "metadata": {},
   "outputs": [
    {
     "data": {
      "text/plain": [
       "<generator object PyPDFLoader.lazy_load at 0x00000212B2D9BE20>"
      ]
     },
     "execution_count": 9,
     "metadata": {},
     "output_type": "execute_result"
    }
   ],
   "source": [
    "loader.lazy_load()"
   ]
  },
  {
   "cell_type": "code",
   "execution_count": 10,
   "metadata": {},
   "outputs": [
    {
     "name": "stdout",
     "output_type": "stream",
     "text": [
      "{'producer': 'PyPDF2', 'creator': 'PyPDF', 'creationdate': '', 'source': '../ADsP.pdf', 'total_pages': 1, 'page': 0, 'page_label': '1'}\n"
     ]
    }
   ],
   "source": [
    "# generator 방식으로 문서 로드\n",
    "for doc in loader.lazy_load():\n",
    "    print(doc.metadata)"
   ]
  },
  {
   "cell_type": "markdown",
   "metadata": {},
   "source": [
    "### aload()\n",
    "\n",
    "- 비동기(Async) 방식의 문서 로드"
   ]
  },
  {
   "cell_type": "code",
   "execution_count": 11,
   "metadata": {},
   "outputs": [],
   "source": [
    "# 문서를 async 방식으로 로드\n",
    "adocs = loader.aload()"
   ]
  },
  {
   "cell_type": "code",
   "execution_count": 12,
   "metadata": {},
   "outputs": [
    {
     "data": {
      "text/plain": [
       "[Document(metadata={'producer': 'PyPDF2', 'creator': 'PyPDF', 'creationdate': '', 'source': '../ADsP.pdf', 'total_pages': 1, 'page': 0, 'page_label': '1'}, page_content='<ADsP 요약정리 및 오답노트>-1과목-(객관식)데이터 마스킹 : 데이터의 속성은 유지한 채, 익명으로 생성Cinematch -> 넷플릭스에서 개발한 알고리즘데이터마이닝 vs 머신러닝(딥러닝) 구분하기 다른거임트레이딩, 공급, 수요예측 -> 에너지 산업CRM -> 고객관계관리 데이터베이스 (기업내부)ERP -> 기업 전체를 통합적으로 관리하고 경영의 효율화 목적빅데이터 가치측정 어려윤 이유 : 1) 데이터 재사용,재조합,다목적용 개발                                          2) 새로운 가치 창출                                          3) 분석 기술 발전cf. 전문인력증가는 가치측정과 관련 없음사생활 침해를 막기 위한 개인정보 무작위 처리 (본래 목적 외에 사용 방지기술) -> 난수화유형분석 -> 특성에따라 분류할때 사용한다.핀테크(금융)분야에서 빅데이터 활용의 핵심분야 -> 신용평가K-NN 분석기법 - 딥러닝과 관련 xLSTM, Autoencoder, RNN -> 딥러닝과 관련 oCaffe, Tnsorflow, Theano -> 딥러닝 관련된 오픈소스Anaconda -> 머신러닝 관련된 오픈소스책임 원칙의 훼손 -> 일어나지도 않은 일을 예측해서 행동함 (범행 전에 체포, 신용불량 전에 대출금지)멀티미디어 등 복잡한 데이터베이스 관리 -> 객체지향 DBMScf. 일반적으로 사용되는 테이블 기반 -> 관계형 DBMS데이터 시각화 -> 비즈니스 컨설팅 영역 (IT영역 X)')]"
      ]
     },
     "execution_count": 12,
     "metadata": {},
     "output_type": "execute_result"
    }
   ],
   "source": [
    "# 문서 로드\n",
    "await adocs"
   ]
  },
  {
   "cell_type": "code",
   "execution_count": null,
   "metadata": {},
   "outputs": [],
   "source": []
  }
 ],
 "metadata": {
  "kernelspec": {
   "display_name": "google",
   "language": "python",
   "name": "python3"
  },
  "language_info": {
   "codemirror_mode": {
    "name": "ipython",
    "version": 3
   },
   "file_extension": ".py",
   "mimetype": "text/x-python",
   "name": "python",
   "nbconvert_exporter": "python",
   "pygments_lexer": "ipython3",
   "version": "3.11.11"
  }
 },
 "nbformat": 4,
 "nbformat_minor": 2
}
