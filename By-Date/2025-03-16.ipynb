{
 "cells": [
  {
   "cell_type": "markdown",
   "metadata": {},
   "source": [
    "# UpstageLayoutAnalysisLoader\n",
    "\n",
    "`UpstageLayoutAnalysisLoader` 는 Upstage AI에서 제공하는 문서 분석 도구로, LangChain 프레임워크와 통합되어 사용할 수 있는 문서 로더입니다.\n",
    "\n",
    "**주요 특징:**\n",
    "- PDF, 이미지 등 다양한 형식의 문서에서 레이아웃 분석 수행\n",
    "- 문서의 구조적 요소(제목, 단락, 표, 이미지 등)를 자동으로 인식 및 추출\n",
    "- OCR 기능 지원 (선택적)\n",
    "\n",
    "UpstageLayoutAnalysisLoader는 단순한 텍스트 추출을 넘어 문서의 구조를 이해하고 요소 간 관계를 파악하여 보다 정확한 문서 분석을 가능하게 합니다.\n",
    "\n",
    "**설치**\n",
    "\n",
    "`langchain-upstage` 패키지를 설치 후 사용합니다.\n",
    "\n",
    "```bash\n",
    "pip install -U langchain-upstage\n",
    "```"
   ]
  },
  {
   "cell_type": "code",
   "execution_count": 1,
   "metadata": {},
   "outputs": [
    {
     "data": {
      "text/plain": [
       "True"
      ]
     },
     "execution_count": 1,
     "metadata": {},
     "output_type": "execute_result"
    }
   ],
   "source": [
    "# API KEY를 환경변수로 관리하기 위한 설정 파일\n",
    "from dotenv import load_dotenv\n",
    "\n",
    "# API KEY 정보로드\n",
    "load_dotenv()"
   ]
  },
  {
   "cell_type": "markdown",
   "metadata": {},
   "source": [
    "## UpstageLayoutAnalysisLoader\n",
    "\n",
    "**주요 파라미터**\n",
    "- `file_path`: 분석할 문서 경로\n",
    "- `output_type`: 출력 형식 [(기본값)'html', 'text']\n",
    "- `split`: 문서 분할 방식 ['none', 'element', 'page']\n",
    "- `use_ocr=True`: OCR 사용\n",
    "- `exclude=[\"header\", \"footer\"]`: 헤더, 푸터 제외"
   ]
  },
  {
   "cell_type": "code",
   "execution_count": 2,
   "metadata": {},
   "outputs": [
    {
     "name": "stdout",
     "output_type": "stream",
     "text": [
      "page_content='<h1 id='0' style='font-size:16px'><ADsP 요약정리 및 오답노트></h1>' metadata={'page': 1, 'id': 0, 'bounding_box': '[{\"x\": 174, \"y\": 203}, {\"x\": 469, \"y\": 203}, {\"x\": 469, \"y\": 230}, {\"x\": 174, \"y\": 230}]', 'category': 'heading1'}\n",
      "page_content='<h1 id='1' style='font-size:20px'>-1과목-</h1>' metadata={'page': 1, 'id': 1, 'bounding_box': '[{\"x\": 172, \"y\": 271}, {\"x\": 253, \"y\": 271}, {\"x\": 253, \"y\": 297}, {\"x\": 172, \"y\": 297}]', 'category': 'heading1'}\n",
      "page_content='<p id='2' data-category='paragraph' style='font-size:16px'>(객관식)<br>데이터 마스킹 : 데이터의 속성은 유지한 채, 익명으로 생성<br>Cinematch -> 넷플릭스에서 개발한 알고리즘<br>데이터마이닝 VS 머신러닝(딥러닝) 구분하기 다른거임<br>트레이딩, 공급, 수요예측 -> 에너지 산업<br>CRM -> 고객관계관리 데이터베이스 (기업내부)<br>ERP -> 기업 전체를 통합적으로 관리하고 경영의 효율화 목적<br>빅데이터 가치측정 어려윤 이유 : 1) 데이터 재사용,재조합,다목적용 개발<br>2) 새로운 가치 창출<br>3) 분석 기술 발전<br>cf. 전문인력증가는 가치측정과 관련 없음<br>사생활 침해를 막기 위한 개인정보 무작위 처리 (본래 목적 외에 사용 방지기술) -> 난수화<br>유형분석 -> 특성에따라 분류할때 사용한다.<br>핀테크(금융)분야에서 빅데이터 활용의 핵심분야 -> 신용평가<br>K-NN 분석기법 - 딥러닝과 관련 x<br>LSTM, Autoencoder, RNN -> 딥러닝과 관련 O</p>' metadata={'page': 1, 'id': 2, 'bounding_box': '[{\"x\": 170, \"y\": 342}, {\"x\": 1050, \"y\": 342}, {\"x\": 1050, \"y\": 1223}, {\"x\": 170, \"y\": 1223}]', 'category': 'paragraph'}\n"
     ]
    }
   ],
   "source": [
    "from langchain_upstage import UpstageLayoutAnalysisLoader\n",
    "\n",
    "# 파일 경로\n",
    "file_path = \"../ADsP.pdf\"\n",
    "\n",
    "# 문서 로더 설정\n",
    "loader = UpstageLayoutAnalysisLoader(\n",
    "    file_path,\n",
    "    output_type=\"html\",\n",
    "    split=\"element\",\n",
    "    use_ocr=True,\n",
    "    exclude=[\"header\", \"footer\"],\n",
    ")\n",
    "\n",
    "# 문서 로드\n",
    "docs = loader.load()\n",
    "\n",
    "# 결과 출력\n",
    "for doc in docs[:3]:\n",
    "    print(doc)"
   ]
  },
  {
   "cell_type": "code",
   "execution_count": 4,
   "metadata": {},
   "outputs": [
    {
     "data": {
      "text/plain": [
       "Document(metadata={'page': 1, 'id': 1, 'bounding_box': '[{\"x\": 172, \"y\": 271}, {\"x\": 253, \"y\": 271}, {\"x\": 253, \"y\": 297}, {\"x\": 172, \"y\": 297}]', 'category': 'heading1'}, page_content=\"<h1 id='1' style='font-size:20px'>-1과목-</h1>\")"
      ]
     },
     "execution_count": 4,
     "metadata": {},
     "output_type": "execute_result"
    }
   ],
   "source": [
    "docs[1]"
   ]
  },
  {
   "cell_type": "code",
   "execution_count": null,
   "metadata": {},
   "outputs": [],
   "source": []
  }
 ],
 "metadata": {
  "kernelspec": {
   "display_name": "teddynote",
   "language": "python",
   "name": "python3"
  },
  "language_info": {
   "codemirror_mode": {
    "name": "ipython",
    "version": 3
   },
   "file_extension": ".py",
   "mimetype": "text/x-python",
   "name": "python",
   "nbconvert_exporter": "python",
   "pygments_lexer": "ipython3",
   "version": "3.11.11"
  }
 },
 "nbformat": 4,
 "nbformat_minor": 2
}
